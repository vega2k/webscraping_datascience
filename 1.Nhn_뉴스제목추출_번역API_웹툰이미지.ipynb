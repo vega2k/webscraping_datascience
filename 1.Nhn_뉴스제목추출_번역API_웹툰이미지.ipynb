{
 "cells": [
  {
   "cell_type": "code",
   "execution_count": 20,
   "metadata": {},
   "outputs": [],
   "source": [
    "import requests\n",
    "from bs4 import BeautifulSoup\n",
    "from urllib.parse import urljoin"
   ]
  },
  {
   "cell_type": "code",
   "execution_count": 8,
   "metadata": {},
   "outputs": [
    {
     "name": "stdout",
     "output_type": "stream",
     "text": [
      "<class 'requests.models.Response'>\n",
      "200\n",
      "response header =  {'date': 'Tue, 05 Jan 2021 06:03:37 GMT', 'cache-control': 'no-cache', 'expires': 'Thu, 01 Jan 1970 00:00:00 GMT', 'set-cookie': 'JSESSIONID=AEAE63C7D99C143521A577991EFA137C; Path=/main; HttpOnly', 'content-language': 'ko-KR', 'vary': 'Accept-Encoding', 'content-encoding': 'gzip', 'transfer-encoding': 'chunked', 'content-type': 'text/html;charset=EUC-KR', 'referrer-policy': 'unsafe-url', 'server': 'nfront'}\n",
      "request header = {'user-agent': 'Mozilla/5.0 (Windows NT 10.0; Win64; x64) AppleWebKit/537.36 (KHTML, like Gecko) Chrome/87.0.4280.88 Safari/537.36', 'Accept-Encoding': 'gzip, deflate', 'Accept': '*/*', 'Connection': 'keep-alive'}\n"
     ]
    }
   ],
   "source": [
    "url = 'https://news.naver.com/'\n",
    "req_header = {\n",
    "    'user-agent':'Mozilla/5.0 (Windows NT 10.0; Win64; x64) AppleWebKit/537.36 (KHTML, like Gecko) Chrome/87.0.4280.88 Safari/537.36'\n",
    "}\n",
    "res = requests.get(url, headers=req_header)\n",
    "print(type(res))\n",
    "print(res.status_code)\n",
    "print(f'response header =  {res.headers}')\n",
    "print(f'request header = {res.request.headers}')"
   ]
  },
  {
   "cell_type": "code",
   "execution_count": 22,
   "metadata": {},
   "outputs": [
    {
     "name": "stdout",
     "output_type": "stream",
     "text": [
      "<class 'bs4.element.ResultSet'> 189\n",
      "1 \"박범계 천벌 받을 거짓말\" 진실게임 번진 고시… https://news.naver.com/main/read.nhn?mode=LSD&mid=shm&sid1=102&oid=025&aid=0003067096\n",
      "2 국내 상륙한 남아공發 변이 바이러스…\"백신 효… https://news.naver.com/main/read.nhn?mode=LSD&mid=shm&sid1=104&oid=025&aid=0003067104\n",
      "3 침묵 깬 남인순...'박원순 피소 유출' 의혹에 \"나는 모르는 일\" https://news.naver.com/main/read.nhn?mode=LSD&mid=shm&sid1=100&oid=025&aid=0003067100\n",
      "4 뉴욕증권거래소, 中이통사 상폐 방침 철회…주가 7%급등 https://news.naver.com/main/read.nhn?mode=LSD&mid=shm&sid1=101&oid=009&aid=0004728128\n",
      "5 ‘인천 형제 화재사건’ 형 퇴원…당시 라면 안끓였다(종합) https://news.naver.com/main/read.nhn?mode=LSD&mid=shm&sid1=102&oid=081&aid=0003153289\n",
      "6 \"해적 출현한 아덴만과 멀어\"…이란 나포 선주사 \"잘못없어 불이익 안당할 듯\" https://news.naver.com/main/read.nhn?mode=LSD&mid=shm&sid1=102&oid=025&aid=0003067076\n",
      "7 “이제 더는 버틸 수 없어”... 자영업자들 영업제한 헌법소원 https://news.naver.com/main/read.nhn?mode=LSD&mid=shm&sid1=102&oid=023&aid=0003587864\n",
      "8  https://news.naver.com/main/read.nhn?mode=LSD&mid=shm&sid1=100&oid=310&aid=0000082913\n",
      "9 국민의힘 초선 의원들 \"박원순 피소사실 유출한 남인순 의원직 사퇴\" https://news.naver.com/main/read.nhn?mode=LSD&mid=shm&sid1=100&oid=310&aid=0000082913\n",
      "10 강경한 친문, 등돌리는 중도층…이낙연호 민주당의 딜레마 https://news.naver.com/main/read.nhn?mode=LSD&mid=shm&sid1=100&oid=421&aid=0005089463\n",
      "11 '심야 룸파티 채우진' 논란에… 홈페이지 폐쇄한 마포구의회 https://news.naver.com/main/read.nhn?mode=LSD&mid=shm&sid1=100&oid=022&aid=0003539674\n",
      "12 마침내 침묵 깬 남인순 \"박원순 피소사실 유출 안 했다\" https://news.naver.com/main/read.nhn?mode=LSD&mid=shm&sid1=100&oid=047&aid=0002297739\n",
      "13 '박원순 의혹' 입 연 남인순…\"피소사실 몰랐고 유출 없었다\" https://news.naver.com/main/read.nhn?mode=LSD&mid=shm&sid1=100&oid=421&aid=0005089419\n",
      "14 노동당 대회 임박…김정은이 발표할 경제·대외 비전은 https://news.naver.com/main/read.nhn?mode=LSD&mid=shm&sid1=100&oid=003&aid=0010277770\n",
      "15  https://news.naver.com/main/read.nhn?mode=LSD&mid=shm&sid1=101&oid=011&aid=0003851665\n",
      "16 [단독]송호성 기아차 사장, 대대적 혁신 예고...\"사명,CI변경 계기로 모든 브랜드 자산 바꿀 것\" https://news.naver.com/main/read.nhn?mode=LSD&mid=shm&sid1=101&oid=011&aid=0003851665\n",
      "17 국민연금, 대한항공의 아시아나항공 인수 제동[fn마켓워치][상보] https://news.naver.com/main/read.nhn?mode=LSD&mid=shm&sid1=101&oid=014&aid=0004559203\n",
      "18 건설업계,조합원 기본권을 박탈하는 건설산업기본법 시행령 개정안 철회 요청 https://news.naver.com/main/read.nhn?mode=LSD&mid=shm&sid1=101&oid=015&aid=0004478413\n",
      "19 코로나發 집콕에 아이폰12 효과... 작년 11월 온라인 쇼핑액 15조 '사상 최대' https://news.naver.com/main/read.nhn?mode=LSD&mid=shm&sid1=101&oid=366&aid=0000646551\n",
      "20 에이트원, AI번역∙음성인식 기술기업 '엘솔루'와 MOU 체결 https://news.naver.com/main/read.nhn?mode=LSD&mid=shm&sid1=101&oid=014&aid=0004559194\n",
      "21 \"지식산업센터도 양극화 전망…올해 서울 8곳 준공 예정\" https://news.naver.com/main/read.nhn?mode=LSD&mid=shm&sid1=101&oid=277&aid=0004822995\n",
      "22  https://news.naver.com/main/read.nhn?mode=LSD&mid=shm&sid1=102&oid=277&aid=0004823028\n",
      "23 \"양천경찰서장 파면 요구\" '정인이 사건' 靑 국민청원, 하루만에 18만명 돌파 https://news.naver.com/main/read.nhn?mode=LSD&mid=shm&sid1=102&oid=277&aid=0004823028\n",
      "24 서정협 “서초구 ‘재산세 환급’, 법령위반 자체…형평성 고려해야” https://news.naver.com/main/read.nhn?mode=LSD&mid=shm&sid1=102&oid=018&aid=0004821768\n",
      "25 벼랑 끝 실내체육시설의 호소… 靑 국민청원 20만 돌파 https://news.naver.com/main/read.nhn?mode=LSD&mid=shm&sid1=102&oid=022&aid=0003539678\n",
      "26 박범계, 인사청문 준비 돌입…주중 청문요청안 제출(종합) https://news.naver.com/main/read.nhn?mode=LSD&mid=shm&sid1=102&oid=001&aid=0012120920\n",
      "27 서정협 \"포스트코로나 비전 가진 사람이 서울시장 돼야\" https://news.naver.com/main/read.nhn?mode=LSD&mid=shm&sid1=102&oid=421&aid=0005089521\n",
      "28 SBS '그알' \"정인이 재판 지켜보고 후속보도할 것\" https://news.naver.com/main/read.nhn?mode=LSD&mid=shm&sid1=102&oid=006&aid=0000106184\n",
      "29  https://news.naver.com/main/read.nhn?mode=LSD&mid=shm&sid1=103&oid=310&aid=0000082914\n",
      "30 '미나리' 트로피 9개 추가...윤여정 미 영화상 3관왕 https://news.naver.com/main/read.nhn?mode=LSD&mid=shm&sid1=103&oid=310&aid=0000082914\n",
      "31 정인이 살릴 기회 날린 양천경찰서장에 쏟아지는 비난...파면 靑 청원 하루만에 20만명 임박 https://news.naver.com/main/read.nhn?mode=LSD&mid=shm&sid1=103&oid=011&aid=0003851647\n",
      "32 하루 240명만 볼 수 있는 귀하신 몸 '푸바오' 만났다 https://news.naver.com/main/read.nhn?mode=LSD&mid=shm&sid1=103&oid=008&aid=0004523924\n",
      "33 동학개미 열풍의 그늘?···거래 안 되는 '깡통' 주식 프로그램에 3,883명 '묻지마 투자' https://news.naver.com/main/read.nhn?mode=LSD&mid=shm&sid1=103&oid=011&aid=0003851631\n",
      "34 부분변경? 고급모델?… SNS에 포착된 테슬라 모델S https://news.naver.com/main/read.nhn?mode=LSD&mid=shm&sid1=103&oid=366&aid=0000646517\n",
      "35 기후위기 전도사, 조천호 “기후위기 피해 ‘1번 타자’는 대한민국…당장 대응해야” [우리, 탄소중립] https://news.naver.com/main/read.nhn?mode=LSD&mid=shm&sid1=103&oid=032&aid=0003052399\n",
      "36  https://news.naver.com/main/read.nhn?mode=LSD&mid=shm&sid1=104&oid=277&aid=0004823006\n",
      "37 귀신 출몰 괴담 전해지는 日 총리관저… 스가 총리, 입주 꺼려 https://news.naver.com/main/read.nhn?mode=LSD&mid=shm&sid1=104&oid=277&aid=0004823006\n",
      "38 한국 경제인, 방일도 봉쇄 임박...日, '비즈니스 왕래' 일시 중단 검토 https://news.naver.com/main/read.nhn?mode=LSD&mid=shm&sid1=104&oid=469&aid=0000568850\n",
      "39 전세계 주시하는 미 조지아 투표... '악재' 겹친 트럼프 https://news.naver.com/main/read.nhn?mode=LSD&mid=shm&sid1=104&oid=047&aid=0002297736\n",
      "40 中 위안화 환율 급락…“2005년 페그제 폐지 이후 최대폭” https://news.naver.com/main/read.nhn?mode=LSD&mid=shm&sid1=104&oid=366&aid=0000646545\n",
      "41 포루투칼 41세女 화이자 백신 맞고 사망…기저질환 없어 https://news.naver.com/main/read.nhn?mode=LSD&mid=shm&sid1=104&oid=003&aid=0010277730\n",
      "42 미국 中텔레콤 상장폐지 취소, 바이든 대중정책 유연해지나 https://news.naver.com/main/read.nhn?mode=LSD&mid=shm&sid1=104&oid=421&aid=0005089367\n",
      "43  https://news.naver.com/main/read.nhn?mode=LSD&mid=shm&sid1=105&oid=008&aid=0004523937\n",
      "44 최저 '월 3만원대' 5G 요금제…與 \"싸다\" vs 野 \"안 싸다\" https://news.naver.com/main/read.nhn?mode=LSD&mid=shm&sid1=105&oid=008&aid=0004523937\n",
      "45 삼성 지원 연구팀, 자폐증·치매 치료 실마리 알아냈다 https://news.naver.com/main/read.nhn?mode=LSD&mid=shm&sid1=105&oid=092&aid=0002209850\n",
      "46 이재용 '경영권 불법승계' 재판, 코로나로 연기 https://news.naver.com/main/read.nhn?mode=LSD&mid=shm&sid1=105&oid=092&aid=0002209847\n",
      "47 AMD로 PC 바꾼 리누스 토발즈 \"행복하다\" https://news.naver.com/main/read.nhn?mode=LSD&mid=shm&sid1=105&oid=092&aid=0002209843\n",
      "48 ‘온난화 스피드’ 도시>시골인데…30년 후, 인구 70% 도시인 https://news.naver.com/main/read.nhn?mode=LSD&mid=shm&sid1=105&oid=028&aid=0002527224\n",
      "49 ‘뇌는 어떻게 기억할까’…삼성 지원 국내 연구팀, 비밀 풀었다 https://news.naver.com/main/read.nhn?mode=LSD&mid=shm&sid1=105&oid=138&aid=0002097063\n",
      "50  https://news.naver.com/main/ranking/read.nhn?mode=LSD&mid=shm&sid1=001&oid=015&aid=0004478268&rankingType=RANKING\n",
      "51 월급 180만원에 月 50만원 원룸·식사 제공…'최저임금  … https://news.naver.com/main/ranking/read.nhn?mode=LSD&mid=shm&sid1=001&oid=015&aid=0004478268&rankingType=RANKING\n",
      "52  https://news.naver.com/main/ranking/read.nhn?mode=LSD&mid=shm&sid1=001&oid=277&aid=0004822600&rankingType=RANKING\n",
      "53 집·결혼 포기한 30대 \"외제차 사고 주식한다\" https://news.naver.com/main/ranking/read.nhn?mode=LSD&mid=shm&sid1=001&oid=277&aid=0004822600&rankingType=RANKING\n",
      "54  https://news.naver.com/main/ranking/read.nhn?mode=LSD&mid=shm&sid1=001&oid=214&aid=0001090615&rankingType=RANKING\n",
      "55 양육비 안 주면 인터넷 신상공개…출국금지·형사처벌도 https://news.naver.com/main/ranking/read.nhn?mode=LSD&mid=shm&sid1=001&oid=214&aid=0001090615&rankingType=RANKING\n",
      "56 동영상기사 https://news.naver.com/main/ranking/read.nhn?mode=LSD&mid=shm&sid1=001&oid=437&aid=0000256032&rankingType=RANKING\n",
      "57 '명성교회 5년 갈등' 법정으로…아들 김하나 목사는 복귀 https://news.naver.com/main/ranking/read.nhn?mode=LSD&mid=shm&sid1=001&oid=437&aid=0000256032&rankingType=RANKING\n",
      "58  https://news.naver.com/main/ranking/read.nhn?mode=LSD&mid=shm&sid1=001&oid=023&aid=0003587815&rankingType=RANKING\n",
      "59 운전기사와 함께 순대국 먹는 윤석열... 유튜브 영상 화제 https://news.naver.com/main/ranking/read.nhn?mode=LSD&mid=shm&sid1=001&oid=023&aid=0003587815&rankingType=RANKING\n",
      "60  https://news.naver.com/main/ranking/read.nhn?mode=LSD&mid=shm&sid1=001&oid=025&aid=0003067051&rankingType=RANKING\n",
      "61 이 시국에 노마스크 재롱잔치···그 교회 확진 113명 쏟 … https://news.naver.com/main/ranking/read.nhn?mode=LSD&mid=shm&sid1=001&oid=025&aid=0003067051&rankingType=RANKING\n",
      "62  https://news.naver.com/main/ranking/read.nhn?mode=LSD&mid=shm&sid1=001&oid=052&aid=0001534327&rankingType=RANKING\n",
      "63 '20만 명 숨졌는데'...시민들과 뒤엉켜 수영한 브라질  … https://news.naver.com/main/ranking/read.nhn?mode=LSD&mid=shm&sid1=001&oid=052&aid=0001534327&rankingType=RANKING\n",
      "64  https://news.naver.com/main/ranking/read.nhn?mode=LSD&mid=shm&sid1=001&oid=028&aid=0002527211&rankingType=RANKING\n",
      "65 헬스장 등 실내체육시설 “문 열겠다” 반발에 방역당국 “학 … https://news.naver.com/main/ranking/read.nhn?mode=LSD&mid=shm&sid1=001&oid=028&aid=0002527211&rankingType=RANKING\n",
      "66  https://news.naver.com/main/ranking/read.nhn?mode=LSD&mid=shm&sid1=001&oid=092&aid=0002209802&rankingType=RANKING\n",
      "67 갤럭시S21 울트라 S펜, 이렇게 생겼다 https://news.naver.com/main/ranking/read.nhn?mode=LSD&mid=shm&sid1=001&oid=092&aid=0002209802&rankingType=RANKING\n",
      "68  https://news.naver.com/main/ranking/read.nhn?mode=LSD&mid=shm&sid1=001&oid=081&aid=0003153257&rankingType=RANKING\n",
      "69 [속보] 정부 “헬스장, 학원과 달라…인내해 달라” https://news.naver.com/main/ranking/read.nhn?mode=LSD&mid=shm&sid1=001&oid=081&aid=0003153257&rankingType=RANKING\n",
      "70  https://news.naver.com/main/ranking/read.nhn?mode=LSD&mid=shm&sid1=001&oid=088&aid=0000680306&rankingType=RANKING\n",
      "71 '구미·칠곡~대구·경산' 비수도권 최초 대구권 광역철도 추 … https://news.naver.com/main/ranking/read.nhn?mode=LSD&mid=shm&sid1=001&oid=088&aid=0000680306&rankingType=RANKING\n",
      "72  https://news.naver.com/main/ranking/read.nhn?mode=LSD&mid=shm&sid1=001&oid=001&aid=0012120406&rankingType=RANKING\n",
      "73 정부 \"헬스장, 학원과 방역특성 달라…영업제한 인내해 달라 … https://news.naver.com/main/ranking/read.nhn?mode=LSD&mid=shm&sid1=001&oid=001&aid=0012120406&rankingType=RANKING\n",
      "74  https://news.naver.com/main/ranking/read.nhn?mode=LSD&mid=shm&sid1=001&oid=008&aid=0004523883&rankingType=RANKING\n",
      "75 71년생 오신환, 안철수·오세훈·나경원 싸잡아 \"10년전  … https://news.naver.com/main/ranking/read.nhn?mode=LSD&mid=shm&sid1=001&oid=008&aid=0004523883&rankingType=RANKING\n",
      "76  https://news.naver.com/main/ranking/read.nhn?mode=LSD&mid=shm&sid1=001&oid=050&aid=0000056179&rankingType=RANKING\n",
      "77 불공평한 비트코인?… 뒤늦게 뛰어든 대중은 손해 안고 출발 … https://news.naver.com/main/ranking/read.nhn?mode=LSD&mid=shm&sid1=001&oid=050&aid=0000056179&rankingType=RANKING\n",
      "78  https://news.naver.com/main/ranking/read.nhn?mode=LSD&mid=shm&sid1=001&oid=640&aid=0000007596&rankingType=RANKING\n",
      "79 Iranian authorities seize South  … https://news.naver.com/main/ranking/read.nhn?mode=LSD&mid=shm&sid1=001&oid=640&aid=0000007596&rankingType=RANKING\n",
      "80  https://news.naver.com/main/ranking/read.nhn?mode=LSD&mid=shm&sid1=001&oid=011&aid=0003851566&rankingType=RANKING\n",
      "81 삼성 지원받은 카이스트 교수, 자폐증·조현병·치매 치료 실 … https://news.naver.com/main/ranking/read.nhn?mode=LSD&mid=shm&sid1=001&oid=011&aid=0003851566&rankingType=RANKING\n",
      "82  https://news.naver.com/main/ranking/read.nhn?mode=LSD&mid=shm&sid1=001&oid=293&aid=0000032723&rankingType=RANKING\n",
      "83 [이슈IN]“반일 인증이냐”…日 아나운서의 ‘BTS 커버댄 … https://news.naver.com/main/ranking/read.nhn?mode=LSD&mid=shm&sid1=001&oid=293&aid=0000032723&rankingType=RANKING\n",
      "84  https://news.naver.com/main/ranking/read.nhn?mode=LSD&mid=shm&sid1=001&oid=020&aid=0003330274&rankingType=RANKING\n",
      "85 “탁현민의 文대통령 의전행사가 보는 내내 불편한 까닭은…” … https://news.naver.com/main/ranking/read.nhn?mode=LSD&mid=shm&sid1=001&oid=020&aid=0003330274&rankingType=RANKING\n",
      "86  https://news.naver.com/main/ranking/read.nhn?mode=LSD&mid=shm&sid1=001&oid=044&aid=0000224536&rankingType=RANKING\n",
      "87 [Graphic News] South Korean popu … https://news.naver.com/main/ranking/read.nhn?mode=LSD&mid=shm&sid1=001&oid=044&aid=0000224536&rankingType=RANKING\n",
      "88 동영상기사 https://news.naver.com/main/ranking/read.nhn?mode=LSD&mid=shm&sid1=001&oid=422&aid=0000464938&rankingType=RANKING\n",
      "89 [속보] 외교부, '韓 선박 나포' 주한 이란대사 초치 https://news.naver.com/main/ranking/read.nhn?mode=LSD&mid=shm&sid1=001&oid=422&aid=0000464938&rankingType=RANKING\n",
      "90  https://news.naver.com/main/ranking/read.nhn?mode=LSD&mid=shm&sid1=001&oid=005&aid=0001397591&rankingType=RANKING\n",
      "91 입안 찢어졌던 정인이…“구내염 진단 의사, 면허 박탈” 청 … https://news.naver.com/main/ranking/read.nhn?mode=LSD&mid=shm&sid1=001&oid=005&aid=0001397591&rankingType=RANKING\n",
      "92  https://news.naver.com/main/ranking/read.nhn?mode=LSD&mid=shm&sid1=001&oid=018&aid=0004821213&rankingType=RANKING\n",
      "93 황하나, 마약투약 혐의 녹취록 \"퀄리티, 진짜 좋아\" https://news.naver.com/main/ranking/read.nhn?mode=LSD&mid=shm&sid1=001&oid=018&aid=0004821213&rankingType=RANKING\n",
      "94  https://news.naver.com/main/ranking/read.nhn?mode=LSD&mid=shm&sid1=001&oid=032&aid=0003052389&rankingType=RANKING\n",
      "95 [속보]경북 안동 야산서 불···“헬기 4대 등 투입해 진 … https://news.naver.com/main/ranking/read.nhn?mode=LSD&mid=shm&sid1=001&oid=032&aid=0003052389&rankingType=RANKING\n",
      "96  https://news.naver.com/main/ranking/read.nhn?mode=LSD&mid=shm&sid1=001&oid=119&aid=0002457799&rankingType=RANKING\n",
      "97 한미, 이란의 선박 나포에 '온도차'…美 \"제재 완화 시도 … https://news.naver.com/main/ranking/read.nhn?mode=LSD&mid=shm&sid1=001&oid=119&aid=0002457799&rankingType=RANKING\n",
      "98  https://news.naver.com/main/ranking/read.nhn?mode=LSD&mid=shm&sid1=001&oid=296&aid=0000047958&rankingType=RANKING\n",
      "99 아침 커피 한 잔의 효과.. 물과 같이 마시면 좋은 이유 https://news.naver.com/main/ranking/read.nhn?mode=LSD&mid=shm&sid1=001&oid=296&aid=0000047958&rankingType=RANKING\n",
      "100  https://news.naver.com/main/ranking/read.nhn?mode=LSD&mid=shm&sid1=001&oid=022&aid=0003539584&rankingType=RANKING\n",
      "101 \"괜히 찝찝하다\" VIP 제공용 쿠키를 발 위에 올리며 장 … https://news.naver.com/main/ranking/read.nhn?mode=LSD&mid=shm&sid1=001&oid=022&aid=0003539584&rankingType=RANKING\n",
      "102  https://news.naver.com/main/ranking/read.nhn?mode=LSD&mid=shm&sid1=001&oid=127&aid=0000030473&rankingType=RANKING\n",
      "103 \"대주주를 견제하지 않고 놔뒀더니 우리 밥그릇이 깨졌네요\" https://news.naver.com/main/ranking/read.nhn?mode=LSD&mid=shm&sid1=001&oid=127&aid=0000030473&rankingType=RANKING\n",
      "104  https://news.naver.com/main/ranking/read.nhn?mode=LSD&mid=shm&sid1=001&oid=021&aid=0002455417&rankingType=RANKING\n",
      "105 ‘구치소 참사’ 수사·처벌 목소리 뭉개고… 법무부 ‘현장점 … https://news.naver.com/main/ranking/read.nhn?mode=LSD&mid=shm&sid1=001&oid=021&aid=0002455417&rankingType=RANKING\n",
      "106  https://news.naver.com/main/ranking/read.nhn?mode=LSD&mid=shm&sid1=001&oid=346&aid=0000036483&rankingType=RANKING\n",
      "107 코로나 시대, 살 찌는 핵심적인 이유… '이것' 감소 https://news.naver.com/main/ranking/read.nhn?mode=LSD&mid=shm&sid1=001&oid=346&aid=0000036483&rankingType=RANKING\n",
      "108  https://news.naver.com/main/ranking/read.nhn?mode=LSD&mid=shm&sid1=001&oid=087&aid=0000827462&rankingType=RANKING\n",
      "109 연말 성수기 놓친 소규모 숙박시설 영업 제한업종으로 판단  … https://news.naver.com/main/ranking/read.nhn?mode=LSD&mid=shm&sid1=001&oid=087&aid=0000827462&rankingType=RANKING\n",
      "110  https://news.naver.com/main/ranking/read.nhn?mode=LSD&mid=shm&sid1=001&oid=215&aid=0000927207&rankingType=RANKING\n",
      "111 [속보] 또 다른 기업 규제되나…중대재해법 8일 처리 https://news.naver.com/main/ranking/read.nhn?mode=LSD&mid=shm&sid1=001&oid=215&aid=0000927207&rankingType=RANKING\n",
      "112  https://news.naver.com/main/ranking/read.nhn?mode=LSD&mid=shm&sid1=001&oid=417&aid=0000640025&rankingType=RANKING\n",
      "113 숨고르기 들어간 비트코인… 열기 식었나 https://news.naver.com/main/ranking/read.nhn?mode=LSD&mid=shm&sid1=001&oid=417&aid=0000640025&rankingType=RANKING\n",
      "114  https://news.naver.com/main/ranking/read.nhn?mode=LSD&mid=shm&sid1=001&oid=009&aid=0004728007&rankingType=RANKING\n",
      "115 운전 기사와 순대국 먹는 윤석열…인터넷서 동영상 화제 https://news.naver.com/main/ranking/read.nhn?mode=LSD&mid=shm&sid1=001&oid=009&aid=0004728007&rankingType=RANKING\n",
      "116  https://news.naver.com/main/ranking/read.nhn?mode=LSD&mid=shm&sid1=001&oid=047&aid=0002297711&rankingType=RANKING\n",
      "117 측근비리, 재산신고, 권언유착... 박범계 앞의 걸림돌 https://news.naver.com/main/ranking/read.nhn?mode=LSD&mid=shm&sid1=001&oid=047&aid=0002297711&rankingType=RANKING\n",
      "118  https://news.naver.com/main/ranking/read.nhn?mode=LSD&mid=shm&sid1=001&oid=082&aid=0001057281&rankingType=RANKING\n",
      "119 [속보] 주한 이란대사 초치…외교부 '韓 선박 나포' 문제 … https://news.naver.com/main/ranking/read.nhn?mode=LSD&mid=shm&sid1=001&oid=082&aid=0001057281&rankingType=RANKING\n",
      "120  https://news.naver.com/main/ranking/read.nhn?mode=LSD&mid=shm&sid1=001&oid=016&aid=0001774094&rankingType=RANKING\n",
      "121 “믿을수 없는 장면까지 노출” 18조 번 유튜브 저질 광고 … https://news.naver.com/main/ranking/read.nhn?mode=LSD&mid=shm&sid1=001&oid=016&aid=0001774094&rankingType=RANKING\n",
      "122  https://news.naver.com/main/ranking/read.nhn?mode=LSD&mid=shm&sid1=001&oid=057&aid=0001535846&rankingType=RANKING\n",
      "123 포르투갈서 화이자 백신 맞은 간호사 돌연 사망 https://news.naver.com/main/ranking/read.nhn?mode=LSD&mid=shm&sid1=001&oid=057&aid=0001535846&rankingType=RANKING\n",
      "124  https://news.naver.com/main/ranking/read.nhn?mode=LSD&mid=shm&sid1=001&oid=449&aid=0000202659&rankingType=RANKING\n",
      "125 ‘서민갑부’ 시골 떡 맛, 인기몰이…매출 10배 상승시킨  … https://news.naver.com/main/ranking/read.nhn?mode=LSD&mid=shm&sid1=001&oid=449&aid=0000202659&rankingType=RANKING\n",
      "126  https://news.naver.com/main/ranking/read.nhn?mode=LSD&mid=shm&sid1=001&oid=007&aid=0000006678&rankingType=RANKING\n",
      "127 베를린에서 온 기후 편지 “탄소중립사회 가능할까요?” https://news.naver.com/main/ranking/read.nhn?mode=LSD&mid=shm&sid1=001&oid=007&aid=0000006678&rankingType=RANKING\n",
      "128 동영상기사 https://news.naver.com/main/ranking/read.nhn?mode=LSD&mid=shm&sid1=001&oid=055&aid=0000865505&rankingType=RANKING\n",
      "129 흉기에 찔려 숨진 채 발견된 세 모녀…유서 발견돼 https://news.naver.com/main/ranking/read.nhn?mode=LSD&mid=shm&sid1=001&oid=055&aid=0000865505&rankingType=RANKING\n",
      "130  https://news.naver.com/main/ranking/read.nhn?mode=LSD&mid=shm&sid1=001&oid=138&aid=0002097058&rankingType=RANKING\n",
      "131 애플, ‘아이폰13’ 전 모델에 라이다 스캐너 적용? https://news.naver.com/main/ranking/read.nhn?mode=LSD&mid=shm&sid1=001&oid=138&aid=0002097058&rankingType=RANKING\n",
      "132  https://news.naver.com/main/ranking/read.nhn?mode=LSD&mid=shm&sid1=001&oid=629&aid=0000061056&rankingType=RANKING\n",
      "133 삼성전자 연일 '상승'…지금 사도 될까? 고민하는 '개미' https://news.naver.com/main/ranking/read.nhn?mode=LSD&mid=shm&sid1=001&oid=629&aid=0000061056&rankingType=RANKING\n",
      "134 동영상기사 https://news.naver.com/main/ranking/read.nhn?mode=LSD&mid=shm&sid1=001&oid=056&aid=0010965261&rankingType=RANKING\n",
      "135 흩어진 카드 포인트 한 번에 조회해 현금으로…계좌이체도 가 … https://news.naver.com/main/ranking/read.nhn?mode=LSD&mid=shm&sid1=001&oid=056&aid=0010965261&rankingType=RANKING\n",
      "136  https://news.naver.com/main/ranking/read.nhn?mode=LSD&mid=shm&sid1=001&oid=002&aid=0002166854&rankingType=RANKING\n",
      "137 익산서 9세 여아 아동학대 정황 포착...경찰 수사중 https://news.naver.com/main/ranking/read.nhn?mode=LSD&mid=shm&sid1=001&oid=002&aid=0002166854&rankingType=RANKING\n",
      "138  https://news.naver.com/main/ranking/read.nhn?mode=LSD&mid=shm&sid1=001&oid=003&aid=0010277480&rankingType=RANKING\n",
      "139 \"집합금지 형평성 어긋나\"…노래방·헬스장 눈물 하소연 https://news.naver.com/main/ranking/read.nhn?mode=LSD&mid=shm&sid1=001&oid=003&aid=0010277480&rankingType=RANKING\n",
      "140  https://news.naver.com/main/ranking/read.nhn?mode=LSD&mid=shm&sid1=001&oid=036&aid=0000044223&rankingType=RANKING\n",
      "141 [유대인·이스라엘] 유대인은 팔레스타인 땅에서 추방되지 않 … https://news.naver.com/main/ranking/read.nhn?mode=LSD&mid=shm&sid1=001&oid=036&aid=0000044223&rankingType=RANKING\n",
      "142  https://news.naver.com/main/ranking/read.nhn?mode=LSD&mid=shm&sid1=001&oid=262&aid=0000014094&rankingType=RANKING\n",
      "143 文 평화프로세스, 바이든의 ‘서그’ 암초에 좌초 위기 https://news.naver.com/main/ranking/read.nhn?mode=LSD&mid=shm&sid1=001&oid=262&aid=0000014094&rankingType=RANKING\n",
      "144  https://news.naver.com/main/ranking/read.nhn?mode=LSD&mid=shm&sid1=001&oid=308&aid=0000028077&rankingType=RANKING\n",
      "145 ‘방역 정치’가 드러낸 한국인의 세계- 각자도생의 경고 https://news.naver.com/main/ranking/read.nhn?mode=LSD&mid=shm&sid1=001&oid=308&aid=0000028077&rankingType=RANKING\n",
      "146  https://news.naver.com/main/ranking/read.nhn?mode=LSD&mid=shm&sid1=001&oid=421&aid=0005088625&rankingType=RANKING\n",
      "147 '화이자 백신 접종' 세번째 사망자 발생…건강했던 40대  … https://news.naver.com/main/ranking/read.nhn?mode=LSD&mid=shm&sid1=001&oid=421&aid=0005088625&rankingType=RANKING\n",
      "148  https://news.naver.com/main/ranking/read.nhn?mode=LSD&mid=shm&sid1=001&oid=469&aid=0000568778&rankingType=RANKING\n",
      "149 “이란, 코로나 백신 구매에 한국 동결자금 사용 협의 중” https://news.naver.com/main/ranking/read.nhn?mode=LSD&mid=shm&sid1=001&oid=469&aid=0000568778&rankingType=RANKING\n",
      "150  https://news.naver.com/main/ranking/read.nhn?mode=LSD&mid=shm&sid1=001&oid=006&aid=0000106179&rankingType=RANKING\n",
      "151 이낙연 \"사면 건의 이제 결정은 내가 안해\" https://news.naver.com/main/ranking/read.nhn?mode=LSD&mid=shm&sid1=001&oid=006&aid=0000106179&rankingType=RANKING\n",
      "152  https://news.naver.com/main/ranking/read.nhn?mode=LSD&mid=shm&sid1=001&oid=123&aid=0002237548&rankingType=RANKING\n",
      "153 \"정인이\" 사건, 강력처벌 위해 양형기준 상향 요청 https://news.naver.com/main/ranking/read.nhn?mode=LSD&mid=shm&sid1=001&oid=123&aid=0002237548&rankingType=RANKING\n",
      "154  https://news.naver.com/main/ranking/read.nhn?mode=LSD&mid=shm&sid1=001&oid=243&aid=0000011541&rankingType=RANKING\n",
      "155 [글로벌 수소차 점유율 73%, 현대차 울산공장] 수소차  … https://news.naver.com/main/ranking/read.nhn?mode=LSD&mid=shm&sid1=001&oid=243&aid=0000011541&rankingType=RANKING\n",
      "156  https://news.naver.com/main/ranking/read.nhn?mode=LSD&mid=shm&sid1=001&oid=014&aid=0004559087&rankingType=RANKING\n",
      "157 韓·이란, 석유대금과 코로나 백신 교환 협상 https://news.naver.com/main/ranking/read.nhn?mode=LSD&mid=shm&sid1=001&oid=014&aid=0004559087&rankingType=RANKING\n",
      "158  https://news.naver.com/main/ranking/read.nhn?mode=LSD&mid=shm&sid1=001&oid=448&aid=0000315534&rankingType=RANKING\n",
      "159 박범계, 연이틀 인사청문 준비…'고시생 폭행 의혹'엔 \"내 … https://news.naver.com/main/ranking/read.nhn?mode=LSD&mid=shm&sid1=001&oid=448&aid=0000315534&rankingType=RANKING\n",
      "160  https://news.naver.com/main/ranking/read.nhn?mode=LSD&mid=shm&sid1=001&oid=053&aid=0000028424&rankingType=RANKING\n",
      "161 대통령 레임덕의 함수, ‘부정평가’ 55% 넘는 순간… https://news.naver.com/main/ranking/read.nhn?mode=LSD&mid=shm&sid1=001&oid=053&aid=0000028424&rankingType=RANKING\n",
      "162  https://news.naver.com/main/ranking/read.nhn?mode=LSD&mid=shm&sid1=001&oid=031&aid=0000577335&rankingType=RANKING\n",
      "163 수원서 세모녀 숨진 채 발견…흉기 찔린 친정엄마는 목숨 건 … https://news.naver.com/main/ranking/read.nhn?mode=LSD&mid=shm&sid1=001&oid=031&aid=0000577335&rankingType=RANKING\n",
      "164  https://news.naver.com/main/ranking/read.nhn?mode=LSD&mid=shm&sid1=001&oid=366&aid=0000645997&rankingType=RANKING\n",
      "165 코로나 신규확진 715명... 320일만에 사망자 1000 … https://news.naver.com/main/ranking/read.nhn?mode=LSD&mid=shm&sid1=001&oid=366&aid=0000645997&rankingType=RANKING\n",
      "166  https://news.naver.com/main/ranking/read.nhn?mode=LSD&mid=shm&sid1=001&oid=094&aid=0000008744&rankingType=RANKING\n",
      "167 ['흰소의 해' 특집] 흰 소를 닮은 덕유산…상고대만 빼고 … https://news.naver.com/main/ranking/read.nhn?mode=LSD&mid=shm&sid1=001&oid=094&aid=0000008744&rankingType=RANKING\n",
      "168  https://news.naver.com/main/ranking/read.nhn?mode=LSD&mid=shm&sid1=001&oid=584&aid=0000012186&rankingType=RANKING\n",
      "169 코로나19 사망자 1000명 넘었다…신규 확진자 715명 https://news.naver.com/main/ranking/read.nhn?mode=LSD&mid=shm&sid1=001&oid=584&aid=0000012186&rankingType=RANKING\n",
      "170  https://news.naver.com/main/ranking/read.nhn?mode=LSD&mid=shm&sid1=001&oid=145&aid=0000015265&rankingType=RANKING\n",
      "171 집 안 곰팡이, 중증 천식 일으킨다 https://news.naver.com/main/ranking/read.nhn?mode=LSD&mid=shm&sid1=001&oid=145&aid=0000015265&rankingType=RANKING\n",
      "172  https://news.naver.com/main/ranking/read.nhn?mode=LSD&mid=shm&sid1=001&oid=024&aid=0000067219&rankingType=RANKING\n",
      "173 둔촌주공·3기 신도시 `대어급`이 온다 https://news.naver.com/main/ranking/read.nhn?mode=LSD&mid=shm&sid1=001&oid=024&aid=0000067219&rankingType=RANKING\n",
      "174  https://news.naver.com/main/ranking/read.nhn?mode=LSD&mid=shm&sid1=001&oid=037&aid=0000028619&rankingType=RANKING\n",
      "175 ‘페북’ 절필 이후 진중권, “유권자 토론 위한 역할 고민 … https://news.naver.com/main/ranking/read.nhn?mode=LSD&mid=shm&sid1=001&oid=037&aid=0000028619&rankingType=RANKING\n",
      "176  https://news.naver.com/main/ranking/read.nhn?mode=LSD&mid=shm&sid1=001&oid=029&aid=0002646987&rankingType=RANKING\n",
      "177 집값·전셋값 반드시 잡는다더니…정부 통계서 역대 최고치 또 … https://news.naver.com/main/ranking/read.nhn?mode=LSD&mid=shm&sid1=001&oid=029&aid=0002646987&rankingType=RANKING\n",
      "178 동영상기사 https://news.naver.com/main/ranking/read.nhn?mode=LSD&mid=shm&sid1=001&oid=374&aid=0000229696&rankingType=RANKING\n",
      "179 셀트리온 임상시험 결과 공개…신규 확진자 1천명 아래로 https://news.naver.com/main/ranking/read.nhn?mode=LSD&mid=shm&sid1=001&oid=374&aid=0000229696&rankingType=RANKING\n",
      "180 동영상기사 https://news.naver.com/main/ranking/read.nhn?mode=LSD&mid=shm&sid1=001&oid=374&aid=0000229696&rankingType=RANKING\n",
      "181 셀트리온 임상시험 결과 공개…신규 확진자 1천명 아래로 https://news.naver.com/main/ranking/read.nhn?mode=LSD&mid=shm&sid1=001&oid=374&aid=0000229696&rankingType=RANKING\n",
      "182  https://news.naver.com/main/ranking/read.nhn?mode=LSD&mid=shm&sid1=001&oid=310&aid=0000082905&rankingType=RANKING\n",
      "183 지난해 세계인이 가장 많이 들은 여성 케이팝 스타는? https://news.naver.com/main/ranking/read.nhn?mode=LSD&mid=shm&sid1=001&oid=310&aid=0000082905&rankingType=RANKING\n",
      "184  https://news.naver.com/main/ranking/read.nhn?mode=LSD&mid=shm&sid1=001&oid=079&aid=0003451048&rankingType=RANKING\n",
      "185 [이슈시개]황하나 녹취록 파문…前남친 유서 주목받는 까닭 https://news.naver.com/main/ranking/read.nhn?mode=LSD&mid=shm&sid1=001&oid=079&aid=0003451048&rankingType=RANKING\n",
      "186  https://news.naver.com/main/ranking/read.nhn?mode=LSD&mid=shm&sid1=001&oid=030&aid=0002921832&rankingType=RANKING\n",
      "187 삼성 '비스포크' 냉장고, 3월 세계 최대 가전 시장 美  … https://news.naver.com/main/ranking/read.nhn?mode=LSD&mid=shm&sid1=001&oid=030&aid=0002921832&rankingType=RANKING\n",
      "188  https://news.naver.com/main/ranking/read.nhn?mode=LSD&mid=shm&sid1=001&oid=586&aid=0000019792&rankingType=RANKING\n",
      "189 추워지면 오르는 혈압…'정상 범위' 지키기 위한 5가지 팁 https://news.naver.com/main/ranking/read.nhn?mode=LSD&mid=shm&sid1=001&oid=586&aid=0000019792&rankingType=RANKING\n"
     ]
    }
   ],
   "source": [
    "#res.status_code == 200\n",
    "if res.ok:\n",
    "    #Response 객체에서 텍스트 추출\n",
    "    html = res.text\n",
    "    #print(html)\n",
    "    soup = BeautifulSoup(html,'html.parser')\n",
    "    #print(soup)\n",
    "    atag_list = soup.select(\"a[href*='read.nhn']\")\n",
    "    print(type(atag_list), len(atag_list))\n",
    "    #print(atag_list)\n",
    "    for idx,atag in enumerate(atag_list,1):\n",
    "        title = atag.text.strip()\n",
    "        link = urljoin(url, atag['href'])\n",
    "        #print(f'{idx} ==> {title} {link}')\n",
    "        print(idx, title, link)"
   ]
  },
  {
   "cell_type": "markdown",
   "metadata": {},
   "source": [
    "### Papago 번역 API 호출\n",
    "* urllib 를 사용한 예제코드"
   ]
  },
  {
   "cell_type": "code",
   "execution_count": 23,
   "metadata": {},
   "outputs": [
    {
     "name": "stdout",
     "output_type": "stream",
     "text": [
      "{\"message\":{\"@type\":\"response\",\"@service\":\"naverservice.nmt.proxy\",\"@version\":\"1.0.0\",\"result\":{\"srcLangType\":\"en\",\"tarLangType\":\"ko\",\"translatedText\":\"어제 나의 모든 걱정은 너무 멀리 있는 것 같다.\",\"engineType\":\"N2MT\",\"pivot\":null}}}\n"
     ]
    }
   ],
   "source": [
    "# 네이버 Papago NMT API 예제\n",
    "import os\n",
    "import sys\n",
    "import urllib.request\n",
    "\n",
    "client_id = \"2ZP5oC1doW6d4DNu_Jl5\"\n",
    "client_secret = \"HXXbHy72Jg\"\n",
    "\n",
    "encText = urllib.parse.quote(\"Yesterday all my troubles seemed so far away.\")\n",
    "data = \"source=en&target=ko&text=\" + encText\n",
    "url = \"https://openapi.naver.com/v1/papago/n2mt\"\n",
    "request = urllib.request.Request(url)\n",
    "request.add_header(\"X-Naver-Client-Id\",client_id)\n",
    "request.add_header(\"X-Naver-Client-Secret\",client_secret)\n",
    "response = urllib.request.urlopen(request, data=data.encode(\"utf-8\"))\n",
    "rescode = response.getcode()\n",
    "if(rescode==200):\n",
    "    response_body = response.read()\n",
    "    print(response_body.decode('utf-8'))\n",
    "else:\n",
    "    print(\"Error Code:\" + rescode)"
   ]
  },
  {
   "cell_type": "markdown",
   "metadata": {},
   "source": [
    "* requests 사용한 papago 예제코드 "
   ]
  },
  {
   "cell_type": "code",
   "execution_count": 32,
   "metadata": {},
   "outputs": [
    {
     "name": "stdout",
     "output_type": "stream",
     "text": [
      "True 200\n",
      "요청 헤더  {'User-Agent': 'python-requests/2.24.0', 'Accept-Encoding': 'gzip, deflate', 'Accept': '*/*', 'Connection': 'keep-alive', 'X-Naver-Client-Id': '2ZP5oC1doW6d4DNu_Jl5', 'X-Naver-Client-Secret': 'HXXbHy72Jg', 'Content-Length': '70', 'Content-Type': 'application/x-www-form-urlencoded'}\n",
      "응답 헤더  {'Server': 'nginx', 'Date': 'Tue, 05 Jan 2021 07:36:02 GMT', 'Content-Type': 'application/json; charset=UTF-8', 'Content-Length': '230', 'Connection': 'keep-alive', 'Keep-Alive': 'timeout=5', 'X-QUOTA': '45', 'Content-Encoding': 'gzip'}\n",
      "<class 'str'> {\"message\":{\"@type\":\"response\",\"@service\":\"naverservice.nmt.proxy\",\"@version\":\"1.0.0\",\"result\":{\"srcLangType\":\"en\",\"tarLangType\":\"ko\",\"translatedText\":\"어제 나의 모든 걱정은 너무 멀리 있는 것 같다.\",\"engineType\":\"N2MT\",\"pivot\":null}}}\n"
     ]
    }
   ],
   "source": [
    "import requests\n",
    "\n",
    "client_id = \"2ZP5oC1doW6d4DNu_Jl5\"\n",
    "client_secret = \"HXXbHy72Jg\"\n",
    "url = \"https://openapi.naver.com/v1/papago/n2mt\"\n",
    "enc_text = \"Yesterday all my troubles seemed so far away.\"\n",
    "\n",
    "req_header = {\n",
    "    \"X-Naver-Client-Id\":client_id,\n",
    "    \"X-Naver-Client-Secret\":client_secret\n",
    "}\n",
    "req_param = {\n",
    "    \"source\":\"en\",\n",
    "    \"target\":\"ko\",\n",
    "    \"text\":enc_text\n",
    "}\n",
    "\n",
    "res = requests.post(url, data=req_param, headers=req_header)\n",
    "print(res.ok, res.status_code)\n",
    "print('요청 헤더 ',res.request.headers)\n",
    "print('응답 헤더 ',res.headers)\n",
    "      \n",
    "if res.ok:\n",
    "    print(type(res.text), res.text)\n",
    "else:\n",
    "    print('Http status code ', res.status_code)"
   ]
  },
  {
   "cell_type": "code",
   "execution_count": 36,
   "metadata": {},
   "outputs": [
    {
     "name": "stdout",
     "output_type": "stream",
     "text": [
      "<class 'dict'> {'message': {'@type': 'response', '@service': 'naverservice.nmt.proxy', '@version': '1.0.0', 'result': {'srcLangType': 'en', 'tarLangType': 'ko', 'translatedText': '어제 나의 모든 걱정은 너무 멀리 있는 것 같다.', 'engineType': 'N2MT', 'pivot': None}}}\n",
      "어제 나의 모든 걱정은 너무 멀리 있는 것 같다.\n"
     ]
    }
   ],
   "source": [
    "result_json = res.json()\n",
    "print(type(result_json), result_json)\n",
    "result_text = result_json['message']['result']['translatedText']\n",
    "print(result_text)"
   ]
  },
  {
   "cell_type": "markdown",
   "metadata": {},
   "source": [
    "### 웹툰 Image 다운로드"
   ]
  },
  {
   "cell_type": "code",
   "execution_count": 45,
   "metadata": {},
   "outputs": [
    {
     "name": "stdout",
     "output_type": "stream",
     "text": [
      "False\n",
      "False\n",
      "False\n"
     ]
    }
   ],
   "source": [
    "import requests\n",
    "import os\n",
    "\n",
    "req_header = {\n",
    "    'referer':'https://comic.naver.com/webtoon/detail.nhn?titleId=703852&no=132&weekday=tue'\n",
    "}\n",
    "\n",
    "img_url_list = [\n",
    "    'https://image-comic.pstatic.net/webtoon/703852/132/20201221212625_b2bc8a16b5090eff701a39cf4b55310b_IMAG01_1.jpg',\n",
    "    'https://image-comic.pstatic.net/webtoon/703852/132/20201221212625_b2bc8a16b5090eff701a39cf4b55310b_IMAG01_2.jpg',\n",
    "    'https://image-comic.pstatic.net/webtoon/703852/132/20201221212625_b2bc8a16b5090eff701a39cf4b55310b_IMAG01_3.jpg'\n",
    "]\n",
    "\n",
    "for img_url in img_url_list:\n",
    "    res = requests.get(img_url, headers=req_header)\n",
    "    print(res.ok)\n",
    "    if res.ok:\n",
    "        # Response 객체에서 binary 데이터를 가져올때는 content 속성을 사용한다\n",
    "        img_data = res.content\n",
    "        file_name = os.path.basename(img_url)\n",
    "        with open(file_name,'wb') as file:\n",
    "            print(f'Writing to {file_name} ({len(img_data)} bytes)')\n",
    "            file.write(img_data)"
   ]
  },
  {
   "cell_type": "code",
   "execution_count": null,
   "metadata": {},
   "outputs": [],
   "source": []
  }
 ],
 "metadata": {
  "kernelspec": {
   "display_name": "Python 3",
   "language": "python",
   "name": "python3"
  },
  "language_info": {
   "codemirror_mode": {
    "name": "ipython",
    "version": 3
   },
   "file_extension": ".py",
   "mimetype": "text/x-python",
   "name": "python",
   "nbconvert_exporter": "python",
   "pygments_lexer": "ipython3",
   "version": "3.8.5"
  }
 },
 "nbformat": 4,
 "nbformat_minor": 4
}
