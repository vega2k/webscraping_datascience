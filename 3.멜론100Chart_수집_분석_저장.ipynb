{
 "cells": [
  {
   "cell_type": "markdown",
   "metadata": {},
   "source": [
    "### Melon 100 Chart \n",
    "* 100곡의 노래의 제목, Song ID추출 (정규표현식 사용)\n",
    "* Song ID로 상세페이지를 100번 요청해서 노래 상세정보 추출\n",
    "* 100곡의 상세정보를 json file에 저장한다.\n",
    "* json file을 Pandas의 DataFrame 객체에 저장해서 표 데이터를 만들기\n",
    "* 표 데이터를 MariaDB에 저장하기"
   ]
  },
  {
   "cell_type": "markdown",
   "metadata": {},
   "source": [
    "#### 1.100곡의 노래의 제목, Song ID추출 (정규표현식 사용)"
   ]
  },
  {
   "cell_type": "code",
   "execution_count": 25,
   "metadata": {},
   "outputs": [
    {
     "name": "stdout",
     "output_type": "stream",
     "text": [
      "200\n",
      "1\n",
      "101\n",
      "200\n",
      "200\n",
      "458\n",
      "458\n",
      "100\n",
      "-------------\n",
      "<class 'bs4.element.ResultSet'> <class 'bs4.element.Tag'> Dynamite\n",
      "100\n"
     ]
    },
    {
     "data": {
      "text/plain": [
       "[{'title': 'VVS (Feat. JUSTHIS) (Prod. GroovyRoom)',\n",
       "  'url': 'https://www.melon.com/song/detail.htm?songId=33077590'},\n",
       " {'title': '밤하늘의 별을(2020)',\n",
       "  'url': 'https://www.melon.com/song/detail.htm?songId=33061995'},\n",
       " {'title': 'Dynamite',\n",
       "  'url': 'https://www.melon.com/song/detail.htm?songId=32872978'}]"
      ]
     },
     "execution_count": 25,
     "metadata": {},
     "output_type": "execute_result"
    }
   ],
   "source": [
    "import requests\n",
    "from bs4 import BeautifulSoup\n",
    "import re\n",
    "\n",
    "url = 'https://www.melon.com/chart/index.htm'\n",
    "req_header = {\n",
    "    'user-agent':'Mozilla/5.0 (Windows NT 10.0; Win64; x64) AppleWebKit/537.36 (KHTML, like Gecko) Chrome/87.0.4280.88 Safari/537.36'\n",
    "}\n",
    "\n",
    "# 요청을 보내기\n",
    "res = requests.get(url, headers=req_header)\n",
    "print(res.status_code)\n",
    "# 응답결과가 정상이면\n",
    "if res.ok:\n",
    "    # 응답 객체에 포함된 text를 추출\n",
    "    html = res.text\n",
    "    # 추출한 text를 파싱하기 위한 BeautifulSoup 객체생성\n",
    "    soup = BeautifulSoup(html, 'html.parser')\n",
    "    # <div id='tb_list'> div 태그 선택 ,1개\n",
    "    print(len(soup.select('div#tb_list')))\n",
    "    # <div id='tb_list'> 하위에 있는 tr 태그 선택 ,101개\n",
    "    print(len(soup.select('div#tb_list tr')))\n",
    "    # <div id='tb_list'> 하위에 있는 tr 하위에 <div class='wrap_song_info'> , 200개\n",
    "    print(len(soup.select('div#tb_list tr .wrap_song_info')))\n",
    "    print(len(soup.select('div.wrap_song_info')))\n",
    "    # <div id='tb_list'> 하위에 있는 tr 하위에 <div class='wrap_song_info'> 하위에 a\n",
    "    print(len(soup.select('div#tb_list tr .wrap_song_info a'))) #458\n",
    "    print(len(soup.select('div.wrap_song_info a'))) #458\n",
    "    # <div id='tb_list'> 하위에 있는 tr 하위에 <div class='wrap_song_info'> \n",
    "    # 하위에 <a href='playSong'> \n",
    "    print(len(soup.select('div#tb_list tr .wrap_song_info a[href*=\\'playSong\\']')))\n",
    "    \n",
    "    atag_list = soup.select(\"div#tb_list tr .wrap_song_info a[href*='playSong']\")\n",
    "    print('-------------')\n",
    "    print(type(atag_list), type(atag_list[2]), atag_list[2].text)\n",
    "    \n",
    "    # 100곡 노래 저장할 list\n",
    "    song_list = []\n",
    "    for idx, atag in enumerate(atag_list, 1):\n",
    "        # 1곡 노래 저장할 dict\n",
    "        song_dict = {}\n",
    "        \n",
    "        # a tag 의 content\n",
    "        title = atag.text\n",
    "        # a tag의 href 속성 값\n",
    "        href = atag['href']\n",
    "        # 정규표현식 패턴으로 숫자를 검색\n",
    "        matched = re.search(r'(\\d+)\\);', href)\n",
    "        #print(matched, matched.group(0), matched.group(1))\n",
    "        song_id = matched.group(1)\n",
    "        #print(idx, title, song_id)\n",
    "        song_url = f'https://www.melon.com/song/detail.htm?songId={song_id}'\n",
    "        \n",
    "        #추출한 song title과 url를 song_dict에 저장\n",
    "        song_dict['title'] = title\n",
    "        song_dict['url'] = song_url\n",
    "        #1개의 노래정보를 담고 있는 song_dict를 song_list에 추가\n",
    "        song_list.append(song_dict)\n",
    "\n",
    "print(len(song_list))        \n",
    "song_list[0:3]"
   ]
  },
  {
   "cell_type": "markdown",
   "metadata": {},
   "source": [
    "### 2. Song ID로 상세페이지를 100번 요청해서 노래 상세정보 추출"
   ]
  },
  {
   "cell_type": "code",
   "execution_count": 26,
   "metadata": {},
   "outputs": [
    {
     "name": "stdout",
     "output_type": "stream",
     "text": [
      "200\n",
      "200\n",
      "200\n",
      "200\n",
      "200\n",
      "200\n",
      "200\n",
      "200\n",
      "200\n",
      "200\n",
      "200\n",
      "200\n",
      "200\n",
      "200\n",
      "200\n",
      "200\n",
      "200\n",
      "200\n",
      "200\n",
      "200\n",
      "200\n",
      "200\n",
      "200\n",
      "200\n",
      "200\n",
      "200\n",
      "200\n",
      "200\n",
      "200\n",
      "200\n",
      "200\n",
      "200\n",
      "200\n",
      "200\n",
      "200\n",
      "200\n",
      "200\n",
      "200\n",
      "200\n",
      "200\n",
      "200\n",
      "200\n",
      "200\n",
      "200\n",
      "200\n",
      "200\n",
      "200\n",
      "200\n",
      "200\n",
      "200\n",
      "200\n",
      "200\n",
      "200\n",
      "200\n",
      "200\n",
      "200\n",
      "200\n",
      "200\n",
      "200\n",
      "200\n",
      "200\n",
      "200\n",
      "200\n",
      "200\n",
      "200\n",
      "200\n",
      "200\n",
      "200\n",
      "200\n",
      "200\n",
      "200\n",
      "200\n",
      "200\n",
      "200\n",
      "200\n",
      "200\n",
      "200\n",
      "200\n",
      "200\n",
      "200\n",
      "200\n",
      "200\n",
      "200\n",
      "200\n",
      "200\n",
      "200\n",
      "200\n",
      "200\n",
      "200\n",
      "200\n",
      "200\n",
      "200\n",
      "200\n",
      "200\n",
      "200\n",
      "200\n",
      "200\n",
      "200\n",
      "200\n",
      "200\n",
      "100\n",
      "[{'곡명': 'VVS (Feat. JUSTHIS) (Prod. GroovyRoom)', '가수': '미란이 (Mirani)', '앨범': '쇼미더머니 9 Episode 1', '발매일': '2020.11.21', '장르': '랩/힙합', '가사': \"보여줘야겠어내가 망할 거랬던 놈들에게도내가 잘될 거라 했던 너에게도다 할게 최선갈아끼워 다 새 거My life's shining like a VVS VVS내 삶은 빛나 VVS VVS보란 듯 나와 TV에Now you see me babe내 삶은 빛나 VVS VVSSkrt-skrtHey new water new vv난 알바 째고 무대 위Yeah go get it go get it가사 위 가난이 빛나지안 가 무한리필살아봐야겠어 내 빌딩 Yeah개 같던 세상의뒤통수 치러 왔지더 크게 Callin’ ma name모두 날 보고 놀래미란이가 TV에떼버려 Tag사 새롭게 Yeah yeah타고 비행Skrr skrr 난 올라가Skrr skrr 난 빛이 나내가 뭐라 했어 Mom꺼내겠다고 포차맨 밑바닥의 소녀엄마의 술병이 날 만들어허기져 이를 꽉 물어Chit chat bout me 덤벼 겁쟁이 너VVS on ma neck 꿈 앞에녹슨 팔찌 버려 문 앞에구제 벨트 아직 허리에원망하던 과거와 춤출래인디고 카니발 Skrt-skrt목숨은 다 꺼내놓고자판기 밑 먼지 덕지덕지 붙은동전까지 털어-털어여기까지 왔지What you know about me내 속 이야기 털어놓으려지갑 털어 차린 술상 위넌 폰만 바라봤잖아이제 그 스크린에서 날 봐라 I'ma먹고서 Fly 너가 나갈 건 삔또지악플들이 돈과 함께 쏟아지니Got a nice ring to it꼬우면 네 오빠인지 아저씨인지한테일러바치고 한 판 더 뜨자 해 빛이나는 Solo라니까 뭘 그렇게 재니다 드루와 내 패기170에 60kg도 안 되지만 국보 1호 MCThe Q's certified new kingin the rap내가 TV에 쬐끔 나왔다고연예인 된 줄 알았다는 이미 넌 패Bigger stacks bigger schemesDo bigger thangG+Jus like this team I'm blessed모든 게 끝나고 홍대로 돌아가도모든 건 변함없겠지 Like this VVS보여줘야겠어내가 망할 거랬던 놈들에게도내가 잘될 거라 했던 너에게도다 할게 최선갈아끼워 다 새 거My life's shining like a VVS VVS내 삶은 빛나 VVS VVS보란 듯 나와 TV에Now you see me babe내 삶은 빛나 VVS VVSSkrt-skrtAy 먼치맨 복근에 장착된 VVS내 행동 위험해 걸리지 심의에자체 발광 계속해 실시해날 보고 배워요 EBS흔들릴 바엔 다 흔들어흘려온 땀이 내 Career명품이 없어도 고개를 쳐들어Keep my head upKeep your head up걱정도 했었지 DAY N NIGHT싸워서 만드는 내일의 나MBA 11명 매일이 Party난 역시나 함께일 때가 빛나Imma good vibeGV처럼 춤춰 GOOD BYE내 사랑아 잘 가 웃자형은 미련 안 키워OK 이제 난 노래나 불러전방에 1분간 함성을 발사기 모아 발포해 내 에너지파수직상승 올라가 내 텐션 도레미파먼치맨 YO YO I AIN't got no lie이제 빛난대 주변에서 TRUE어쩌면 너가 응원해서근데 네 말대로 모두특별하니까 라면특별히 뭐가 특별해더 묻고파도 바뀌었지마치 내 작업실 앞 거리짧던 이 사정거리 가사가다 퍼진 광역시또 걔가 부럽다는 팔로잉NOW YOU SEE삐까번쩍 빛나 벌써 이 밤처럼시간 없어 바쁜 삶일단 먼저 필사적으로 덤벼 던져기회는 한순간잡았다면 밝게 빛나그 어떤 래퍼의 목걸이보다도그 HEARTBEAT 진실의 파동넌 곧 못 볼 거니 좀 봐둬내 손목은 비었지만그건 실은 의도적이야천리안 없이 난 멀리 봐머리와 멋진 Rhyme시급으로 따지면 아마도 천만 원이야힉야 못 돌아가 시야가 넓어서날 부정하려면 너 보여봐라지금 내가 네게 보여준 것처럼보여줘야겠어내가 망할 거랬던 놈들에게도내가 잘될 거라 했던 너에게도다 할게 최선갈아끼워 다 새 거My life's shining like a VVS VVS내 삶은 빛나 VVS VVS보란 듯 나와 TV에Now you see me babe내 삶은 빛나 VVS VVSSkrt-skrt역시 성공은 고난을 동반말없이 등산을 등반하는 것처럼I gotta move하늘에 계신 할매 보고 있습니까조금 늦었습니다저 뱀들을 물리치느라이겨내거라내일이 없는 듯이 아버지권투선수 인생 한방이니깐필요하다 한방이알겠슴돠동네의 육상선수 나의 어머니론다로우지 장애물 따윈없는 듯이 달려라 태민You gotta moveLet’s go let’s go멜로디 없던 내 인생아침 해 다시 꼬기오술 팔아 쪽 팔아 벌었던 돈하루 사는 하루살이의 콧노래후룰룰루훈화말씀새 나라의 어린이 아니뭐 그런 흔한 말씀을 또Let’s go요것 좀 봐라라고 하는 선생 그거 좀 마라이 멋 좀 봐라야 걱정하지마머쉬베놈월이백에서 이천으로넌 떠나 서울 to 경기 이천으로넌 찍어라 브이로그옜다 저스디스 톤으로My life's shining like a VVS VVS내 삶은 빛나 VVS VVS보란 듯 나와 TV에Now you see me babe내 삶은 빛나 VVS VVSSkrt-skrt왔노라 봤노라결국 이겨냈노라\"}, {'곡명': '밤하늘의 별을(2020)', '가수': '경서', '앨범': '밤하늘의 별을(2020)', '발매일': '2020.11.14', '장르': '발라드', '가사': '밤하늘의 별을 따서 너에게 줄래 너는 내가 사랑하니까 더 소중하니까 오직 너 아니면 안 된다고 외치고 싶어 그저 내 곁에만 있어줘 떠나지 말아줘 참 많이 어색했었죠 널 처음 만난 날 멀리서 좋아하다가 들킨 사람처럼 숨이 가득 차올라서 아무 말 하지 못했는데 너는 말 없이 웃으며 내 손 잡아줬죠 밤하늘의 별을 따서 너에게 줄래 너는 내가 사랑하니까 더 소중하니까 오직 너 아니면 안 된다고 외치고 싶어 그저 내 곁에만 있어줘 떠나지 말아줘 널 좋아하는 내 마음이 표현이 안 돼 꿈이 아니면 좋겠어 자꾸 웃음 나와 내 모든 걸 다 준대도 너에겐 아깝질 않아 이 순간이 영원하길 난 정말 행복해 밤하늘의 별을 따서 너에게 줄래 너는 내가 사랑하니까 더 소중하니까 오직 너 아니면 안 된다고 외치고 싶어 그저 내 곁에만 있어줘 떠나지 말아줘 그저 내 곁에만 있어줘 떠나지 말아줘 많고 많은 사람 중에 너를 만나서 행복하고 싶어 두 번 다시 울지 않을래 오직 내 눈에는 너만 보여 나를 아껴줘 이제부터 혼자가 아니야 우린 함께니까 나나나 난난 난난나 나나나 난난 난난나 나 나나나 난난 난난나 나나난나 나나나 난난 난난나나나나 난난 난난나나 나나나 난난 난난나 나나난나'}, {'곡명': 'Dynamite', '가수': '방탄소년단', '앨범': 'Dynamite (DayTime Version)', '발매일': '2020.08.24', '장르': '댄스', '가사': \"Cos ah ahI’m in the stars tonightSo watch me bring the fireand set the night alightShoes on get up in the mornCup of milk let’s rock and rollKing Kong kick the drumrolling on like a rolling stoneSing song when I’m walking homeJump up to the top LeBronDing dong call me on my phoneIce tea and a game of ping pongThis is getting heavyCan you hear the bass boomI’m readyLife is sweet as honeyYeah this beat cha chinglike moneyDisco overload I’m intothat I’m good to goI'm diamond you know I glow upHey so let’s goCos ah ahI’m in the stars tonightSo watch me bring the fireand set the night alightShining through the citywith a little funk and soulSo I’mma light it uplike dynamite woahBring a friend join the crowdWhoever wanna come alongWord up talk the talkjust move like we off the wallDay or night the sky’s alightSo we dance to the break of dawnLadies and gentlemenI got the medicineso you should keep yaeyes on the ball huhThis is getting heavyCan you hear the bass boomI’m readyLife is sweet as honeyYeah this beat cha chinglike moneyDisco overloadI’m into that I’m good to goI'm diamond you know I glow upLet’s goCos ah ahI’m in the stars tonightSo watch me bring the fireand set the night alightShining through the citywith a little funk and soulSo I’mma light it uplike dynamite woahDynnnnnanana life is dynamiteDynnnnnanana life is dynamiteShining through the citywith a little funk and soulSo I’mma light it uplike dynamite woahDynnnnnanana ehDynnnnnanana ehDynnnnnanana ehLight it up like dynamiteDynnnnnanana ehDynnnnnanana ehDynnnnnanana ehLight it up like dynamiteCos ah ahI’m in the stars tonightSo watch me bring the fireand set the night alightShining through the citywith a little funk and soulSo I’mma light it uplike dynamiteCos ah ahI’m in the stars tonightSo watch me bring the fireand set the night alightShining through the citywith a little funk and soulSo I’mma light it uplike dynamite woahDynnnnnanana life is dynamiteDynnnnnanana life is dynamiteShining through the citywith a little funk and soulSo I’mma light it uplike dynamite woah\"}]\n"
     ]
    }
   ],
   "source": [
    "import requests\n",
    "from bs4 import BeautifulSoup\n",
    "import re\n",
    "\n",
    "req_header = {\n",
    "    'user-agent': 'Mozilla/5.0 (Windows NT 10.0; Win64; x64) AppleWebKit/537.36 (KHTML, like Gecko) Chrome/86.0.4240.75 Safari/537.36'\n",
    "}\n",
    "\n",
    "#노래 100곡의 상세정보를 저장할 list\n",
    "song_detail_list = []\n",
    "\n",
    "for song in song_list:\n",
    "    #노래 1곡의 상세정보를 저장할 dict\n",
    "    song_detail_dict = {}\n",
    "    \n",
    "    #print(song['title'], song['link'])\n",
    "    song_url = song['url']\n",
    "    res = requests.get(song_url, headers=req_header)\n",
    "    print(res.status_code)\n",
    "    if res.ok:\n",
    "        html = res.text\n",
    "        soup = BeautifulSoup(html,'html.parser')\n",
    "        #노래제목\n",
    "        song_detail_dict['곡명'] = song['title']\n",
    "        #가수\n",
    "        song_detail_dict['가수'] = \\\n",
    "            soup.select('a[href*=\"goArtistDetail\"] span')[0].text\n",
    "        #앨범\n",
    "        song_detail_dict['앨범'] = soup.select('div.meta dd')[0].text\n",
    "        #발매일\n",
    "        song_detail_dict['발매일'] = soup.select('div.meta dd')[1].text\n",
    "        #장르\n",
    "        song_detail_dict['장르'] = soup.select('div.meta dd')[2].text\n",
    "        #가사\n",
    "        lyric = soup.select('div#d_video_summary')[0].text\n",
    "        #정규표현식 Pattern 생성\n",
    "        regexp = re.compile(r'[\\n\\r\\t]')     \n",
    "        #Pattern과 매칭되는 문자열로 empty string으로 치환해라\n",
    "        song_detail_dict['가사'] = regexp.sub('', lyric.strip())\n",
    "        \n",
    "        #각각의 Song정보를 담고 있는 dict를 list에 저장\n",
    "        song_detail_list.append(song_detail_dict)\n",
    "#         print('-----')\n",
    "#         print(song_detail_dict)    \n",
    "\n",
    "print(len(song_detail_list))\n",
    "print(song_detail_list[0:3])"
   ]
  },
  {
   "cell_type": "markdown",
   "metadata": {},
   "source": [
    "#### 3. 100곡의 상세정보를 json file에 저장하고 읽어온다."
   ]
  },
  {
   "cell_type": "code",
   "execution_count": 27,
   "metadata": {},
   "outputs": [],
   "source": [
    "import json\n",
    "\n",
    "with open('data/songs.json', 'w', encoding='utf-8') as file:\n",
    "    json.dump(song_detail_list, file)"
   ]
  },
  {
   "cell_type": "code",
   "execution_count": 31,
   "metadata": {},
   "outputs": [
    {
     "name": "stdout",
     "output_type": "stream",
     "text": [
      "100 <class 'list'>\n",
      "{'곡명': 'VVS (Feat. JUSTHIS) (Prod. GroovyRoom)', '가수': '미란이 (Mirani)', '앨범': '쇼미더머니 9 Episode 1', '발매일': '2020.11.21', '장르': '랩/힙합', '가사': \"보여줘야겠어내가 망할 거랬던 놈들에게도내가 잘될 거라 했던 너에게도다 할게 최선갈아끼워 다 새 거My life's shining like a VVS VVS내 삶은 빛나 VVS VVS보란 듯 나와 TV에Now you see me babe내 삶은 빛나 VVS VVSSkrt-skrtHey new water new vv난 알바 째고 무대 위Yeah go get it go get it가사 위 가난이 빛나지안 가 무한리필살아봐야겠어 내 빌딩 Yeah개 같던 세상의뒤통수 치러 왔지더 크게 Callin’ ma name모두 날 보고 놀래미란이가 TV에떼버려 Tag사 새롭게 Yeah yeah타고 비행Skrr skrr 난 올라가Skrr skrr 난 빛이 나내가 뭐라 했어 Mom꺼내겠다고 포차맨 밑바닥의 소녀엄마의 술병이 날 만들어허기져 이를 꽉 물어Chit chat bout me 덤벼 겁쟁이 너VVS on ma neck 꿈 앞에녹슨 팔찌 버려 문 앞에구제 벨트 아직 허리에원망하던 과거와 춤출래인디고 카니발 Skrt-skrt목숨은 다 꺼내놓고자판기 밑 먼지 덕지덕지 붙은동전까지 털어-털어여기까지 왔지What you know about me내 속 이야기 털어놓으려지갑 털어 차린 술상 위넌 폰만 바라봤잖아이제 그 스크린에서 날 봐라 I'ma먹고서 Fly 너가 나갈 건 삔또지악플들이 돈과 함께 쏟아지니Got a nice ring to it꼬우면 네 오빠인지 아저씨인지한테일러바치고 한 판 더 뜨자 해 빛이나는 Solo라니까 뭘 그렇게 재니다 드루와 내 패기170에 60kg도 안 되지만 국보 1호 MCThe Q's certified new kingin the rap내가 TV에 쬐끔 나왔다고연예인 된 줄 알았다는 이미 넌 패Bigger stacks bigger schemesDo bigger thangG+Jus like this team I'm blessed모든 게 끝나고 홍대로 돌아가도모든 건 변함없겠지 Like this VVS보여줘야겠어내가 망할 거랬던 놈들에게도내가 잘될 거라 했던 너에게도다 할게 최선갈아끼워 다 새 거My life's shining like a VVS VVS내 삶은 빛나 VVS VVS보란 듯 나와 TV에Now you see me babe내 삶은 빛나 VVS VVSSkrt-skrtAy 먼치맨 복근에 장착된 VVS내 행동 위험해 걸리지 심의에자체 발광 계속해 실시해날 보고 배워요 EBS흔들릴 바엔 다 흔들어흘려온 땀이 내 Career명품이 없어도 고개를 쳐들어Keep my head upKeep your head up걱정도 했었지 DAY N NIGHT싸워서 만드는 내일의 나MBA 11명 매일이 Party난 역시나 함께일 때가 빛나Imma good vibeGV처럼 춤춰 GOOD BYE내 사랑아 잘 가 웃자형은 미련 안 키워OK 이제 난 노래나 불러전방에 1분간 함성을 발사기 모아 발포해 내 에너지파수직상승 올라가 내 텐션 도레미파먼치맨 YO YO I AIN't got no lie이제 빛난대 주변에서 TRUE어쩌면 너가 응원해서근데 네 말대로 모두특별하니까 라면특별히 뭐가 특별해더 묻고파도 바뀌었지마치 내 작업실 앞 거리짧던 이 사정거리 가사가다 퍼진 광역시또 걔가 부럽다는 팔로잉NOW YOU SEE삐까번쩍 빛나 벌써 이 밤처럼시간 없어 바쁜 삶일단 먼저 필사적으로 덤벼 던져기회는 한순간잡았다면 밝게 빛나그 어떤 래퍼의 목걸이보다도그 HEARTBEAT 진실의 파동넌 곧 못 볼 거니 좀 봐둬내 손목은 비었지만그건 실은 의도적이야천리안 없이 난 멀리 봐머리와 멋진 Rhyme시급으로 따지면 아마도 천만 원이야힉야 못 돌아가 시야가 넓어서날 부정하려면 너 보여봐라지금 내가 네게 보여준 것처럼보여줘야겠어내가 망할 거랬던 놈들에게도내가 잘될 거라 했던 너에게도다 할게 최선갈아끼워 다 새 거My life's shining like a VVS VVS내 삶은 빛나 VVS VVS보란 듯 나와 TV에Now you see me babe내 삶은 빛나 VVS VVSSkrt-skrt역시 성공은 고난을 동반말없이 등산을 등반하는 것처럼I gotta move하늘에 계신 할매 보고 있습니까조금 늦었습니다저 뱀들을 물리치느라이겨내거라내일이 없는 듯이 아버지권투선수 인생 한방이니깐필요하다 한방이알겠슴돠동네의 육상선수 나의 어머니론다로우지 장애물 따윈없는 듯이 달려라 태민You gotta moveLet’s go let’s go멜로디 없던 내 인생아침 해 다시 꼬기오술 팔아 쪽 팔아 벌었던 돈하루 사는 하루살이의 콧노래후룰룰루훈화말씀새 나라의 어린이 아니뭐 그런 흔한 말씀을 또Let’s go요것 좀 봐라라고 하는 선생 그거 좀 마라이 멋 좀 봐라야 걱정하지마머쉬베놈월이백에서 이천으로넌 떠나 서울 to 경기 이천으로넌 찍어라 브이로그옜다 저스디스 톤으로My life's shining like a VVS VVS내 삶은 빛나 VVS VVS보란 듯 나와 TV에Now you see me babe내 삶은 빛나 VVS VVSSkrt-skrt왔노라 봤노라결국 이겨냈노라\"}\n"
     ]
    }
   ],
   "source": [
    "with open('data/songs.json','r',encoding='utf-8') as file:\n",
    "    contents = file.read()\n",
    "    songs_json = json.loads(contents)\n",
    "\n",
    "print(len(songs_json), type(songs_json)) \n",
    "# [{},{},{}]\n",
    "#print(songs_json[0])"
   ]
  },
  {
   "cell_type": "markdown",
   "metadata": {},
   "source": [
    "#### 4. json file을 Pandas의 DataFrame 객체에 저장해서 표 데이터를 만들기"
   ]
  },
  {
   "cell_type": "code",
   "execution_count": 34,
   "metadata": {},
   "outputs": [
    {
     "data": {
      "text/html": [
       "<div>\n",
       "<style scoped>\n",
       "    .dataframe tbody tr th:only-of-type {\n",
       "        vertical-align: middle;\n",
       "    }\n",
       "\n",
       "    .dataframe tbody tr th {\n",
       "        vertical-align: top;\n",
       "    }\n",
       "\n",
       "    .dataframe thead th {\n",
       "        text-align: right;\n",
       "    }\n",
       "</style>\n",
       "<table border=\"1\" class=\"dataframe\">\n",
       "  <thead>\n",
       "    <tr style=\"text-align: right;\">\n",
       "      <th></th>\n",
       "      <th>곡명</th>\n",
       "      <th>가수</th>\n",
       "      <th>앨범</th>\n",
       "      <th>발매일</th>\n",
       "      <th>장르</th>\n",
       "      <th>가사</th>\n",
       "    </tr>\n",
       "  </thead>\n",
       "  <tbody>\n",
       "    <tr>\n",
       "      <th>0</th>\n",
       "      <td>VVS (Feat. JUSTHIS) (Prod. GroovyRoom)</td>\n",
       "      <td>미란이 (Mirani)</td>\n",
       "      <td>쇼미더머니 9 Episode 1</td>\n",
       "      <td>2020.11.21</td>\n",
       "      <td>랩/힙합</td>\n",
       "      <td>보여줘야겠어내가 망할 거랬던 놈들에게도내가 잘될 거라 했던 너에게도다 할게 최선갈아...</td>\n",
       "    </tr>\n",
       "    <tr>\n",
       "      <th>1</th>\n",
       "      <td>밤하늘의 별을(2020)</td>\n",
       "      <td>경서</td>\n",
       "      <td>밤하늘의 별을(2020)</td>\n",
       "      <td>2020.11.14</td>\n",
       "      <td>발라드</td>\n",
       "      <td>밤하늘의 별을 따서 너에게 줄래 너는 내가 사랑하니까 더 소중하니까 오직 너 아니면...</td>\n",
       "    </tr>\n",
       "    <tr>\n",
       "      <th>2</th>\n",
       "      <td>Dynamite</td>\n",
       "      <td>방탄소년단</td>\n",
       "      <td>Dynamite (DayTime Version)</td>\n",
       "      <td>2020.08.24</td>\n",
       "      <td>댄스</td>\n",
       "      <td>Cos ah ahI’m in the stars tonightSo watch me b...</td>\n",
       "    </tr>\n",
       "    <tr>\n",
       "      <th>3</th>\n",
       "      <td>잠이 오질 않네요</td>\n",
       "      <td>장범준</td>\n",
       "      <td>잠이 오질 않네요</td>\n",
       "      <td>2020.10.24</td>\n",
       "      <td>발라드</td>\n",
       "      <td>당신은 날 설레게 만들어조용한 내 마음 자꾸만 춤추게 해얼마나 얼마나 날 떨리게 하...</td>\n",
       "    </tr>\n",
       "    <tr>\n",
       "      <th>4</th>\n",
       "      <td>내일이 오면 (Feat. 기리보이, BIG Naughty (서동현))</td>\n",
       "      <td>릴보이 (lIlBOI)</td>\n",
       "      <td>쇼미더머니 9 Episode 3</td>\n",
       "      <td>2020.12.05</td>\n",
       "      <td>랩/힙합</td>\n",
       "      <td>See I just wannashare the vibe with ya우리가 10년 ...</td>\n",
       "    </tr>\n",
       "  </tbody>\n",
       "</table>\n",
       "</div>"
      ],
      "text/plain": [
       "                                       곡명            가수  \\\n",
       "0  VVS (Feat. JUSTHIS) (Prod. GroovyRoom)  미란이 (Mirani)   \n",
       "1                           밤하늘의 별을(2020)            경서   \n",
       "2                                Dynamite         방탄소년단   \n",
       "3                               잠이 오질 않네요           장범준   \n",
       "4  내일이 오면 (Feat. 기리보이, BIG Naughty (서동현))  릴보이 (lIlBOI)   \n",
       "\n",
       "                           앨범         발매일    장르  \\\n",
       "0           쇼미더머니 9 Episode 1  2020.11.21  랩/힙합   \n",
       "1               밤하늘의 별을(2020)  2020.11.14   발라드   \n",
       "2  Dynamite (DayTime Version)  2020.08.24    댄스   \n",
       "3                   잠이 오질 않네요  2020.10.24   발라드   \n",
       "4           쇼미더머니 9 Episode 3  2020.12.05  랩/힙합   \n",
       "\n",
       "                                                  가사  \n",
       "0  보여줘야겠어내가 망할 거랬던 놈들에게도내가 잘될 거라 했던 너에게도다 할게 최선갈아...  \n",
       "1  밤하늘의 별을 따서 너에게 줄래 너는 내가 사랑하니까 더 소중하니까 오직 너 아니면...  \n",
       "2  Cos ah ahI’m in the stars tonightSo watch me b...  \n",
       "3  당신은 날 설레게 만들어조용한 내 마음 자꾸만 춤추게 해얼마나 얼마나 날 떨리게 하...  \n",
       "4  See I just wannashare the vibe with ya우리가 10년 ...  "
      ]
     },
     "execution_count": 34,
     "metadata": {},
     "output_type": "execute_result"
    }
   ],
   "source": [
    "import pandas as pd\n",
    "\n",
    "#DataFrame 객체생성\n",
    "song_df = pd.DataFrame(columns=['곡명','가수','앨범','발매일','장르','가사'])\n",
    "#song_df\n",
    "\n",
    "for song in songs_json:\n",
    "    # dict객체를 Series 객체에 저장\n",
    "    series_obj = pd.Series(song)\n",
    "    # Series 객체를 DataFrame 객체에 append 합니다.\n",
    "    song_df = song_df.append(series_obj, ignore_index=True)\n",
    "\n",
    "song_df.head()    "
   ]
  },
  {
   "cell_type": "code",
   "execution_count": 36,
   "metadata": {},
   "outputs": [
    {
     "data": {
      "text/html": [
       "<div>\n",
       "<style scoped>\n",
       "    .dataframe tbody tr th:only-of-type {\n",
       "        vertical-align: middle;\n",
       "    }\n",
       "\n",
       "    .dataframe tbody tr th {\n",
       "        vertical-align: top;\n",
       "    }\n",
       "\n",
       "    .dataframe thead th {\n",
       "        text-align: right;\n",
       "    }\n",
       "</style>\n",
       "<table border=\"1\" class=\"dataframe\">\n",
       "  <thead>\n",
       "    <tr style=\"text-align: right;\">\n",
       "      <th></th>\n",
       "      <th>곡명</th>\n",
       "      <th>가수</th>\n",
       "      <th>앨범</th>\n",
       "      <th>발매일</th>\n",
       "      <th>장르</th>\n",
       "      <th>가사</th>\n",
       "    </tr>\n",
       "  </thead>\n",
       "  <tbody>\n",
       "    <tr>\n",
       "      <th>95</th>\n",
       "      <td>Blue &amp; Grey</td>\n",
       "      <td>방탄소년단</td>\n",
       "      <td>BE</td>\n",
       "      <td>2020.11.20</td>\n",
       "      <td>발라드</td>\n",
       "      <td>Where is my angel하루의 끝을 드리운Someone come and sa...</td>\n",
       "    </tr>\n",
       "    <tr>\n",
       "      <th>96</th>\n",
       "      <td>12월의 어느 겨울…</td>\n",
       "      <td>윤도 (YoonDo)</td>\n",
       "      <td>12월의 어느 겨울…</td>\n",
       "      <td>2020.12.26</td>\n",
       "      <td>발라드</td>\n",
       "      <td>십이월의 어느 겨울밤하얀 첫눈이 올 때쯤내려오는 눈꽃을 보며걷고 싶어 너와 함께온통...</td>\n",
       "    </tr>\n",
       "    <tr>\n",
       "      <th>97</th>\n",
       "      <td>내 방을 여행하는 법</td>\n",
       "      <td>방탄소년단</td>\n",
       "      <td>BE</td>\n",
       "      <td>2020.11.20</td>\n",
       "      <td>R&amp;B/Soul</td>\n",
       "      <td>떠나볼까 let me fly to my시선을 낮추고 어디든 막 zoom지금 나와 l...</td>\n",
       "    </tr>\n",
       "    <tr>\n",
       "      <th>98</th>\n",
       "      <td>요즘</td>\n",
       "      <td>양다일</td>\n",
       "      <td>요즘</td>\n",
       "      <td>2020.12.29</td>\n",
       "      <td>발라드</td>\n",
       "      <td>해가 질 때쯤에눈을 뜨고 나면다가오는 어둠 속에나만 홀로 깨어 있는 듯해고요한 거리...</td>\n",
       "    </tr>\n",
       "    <tr>\n",
       "      <th>99</th>\n",
       "      <td>크리스마스니까</td>\n",
       "      <td>성시경</td>\n",
       "      <td>Jelly Christmas 2012 HEART PROJECT</td>\n",
       "      <td>2012.12.06</td>\n",
       "      <td>발라드</td>\n",
       "      <td>오늘은 뭔가 좀 다른 기분 Feeling 이젠 때가 된 것 같은 느낌 Love U ...</td>\n",
       "    </tr>\n",
       "  </tbody>\n",
       "</table>\n",
       "</div>"
      ],
      "text/plain": [
       "             곡명           가수                                  앨범         발매일  \\\n",
       "95  Blue & Grey        방탄소년단                                  BE  2020.11.20   \n",
       "96  12월의 어느 겨울…  윤도 (YoonDo)                         12월의 어느 겨울…  2020.12.26   \n",
       "97  내 방을 여행하는 법        방탄소년단                                  BE  2020.11.20   \n",
       "98           요즘          양다일                                  요즘  2020.12.29   \n",
       "99      크리스마스니까          성시경  Jelly Christmas 2012 HEART PROJECT  2012.12.06   \n",
       "\n",
       "          장르                                                 가사  \n",
       "95       발라드  Where is my angel하루의 끝을 드리운Someone come and sa...  \n",
       "96       발라드  십이월의 어느 겨울밤하얀 첫눈이 올 때쯤내려오는 눈꽃을 보며걷고 싶어 너와 함께온통...  \n",
       "97  R&B/Soul  떠나볼까 let me fly to my시선을 낮추고 어디든 막 zoom지금 나와 l...  \n",
       "98       발라드  해가 질 때쯤에눈을 뜨고 나면다가오는 어둠 속에나만 홀로 깨어 있는 듯해고요한 거리...  \n",
       "99       발라드  오늘은 뭔가 좀 다른 기분 Feeling 이젠 때가 된 것 같은 느낌 Love U ...  "
      ]
     },
     "execution_count": 36,
     "metadata": {},
     "output_type": "execute_result"
    }
   ],
   "source": [
    "song_df.tail()"
   ]
  },
  {
   "cell_type": "code",
   "execution_count": 40,
   "metadata": {},
   "outputs": [
    {
     "data": {
      "text/html": [
       "<div>\n",
       "<style scoped>\n",
       "    .dataframe tbody tr th:only-of-type {\n",
       "        vertical-align: middle;\n",
       "    }\n",
       "\n",
       "    .dataframe tbody tr th {\n",
       "        vertical-align: top;\n",
       "    }\n",
       "\n",
       "    .dataframe thead th {\n",
       "        text-align: right;\n",
       "    }\n",
       "</style>\n",
       "<table border=\"1\" class=\"dataframe\">\n",
       "  <thead>\n",
       "    <tr style=\"text-align: right;\">\n",
       "      <th></th>\n",
       "      <th>곡명</th>\n",
       "      <th>가수</th>\n",
       "      <th>앨범</th>\n",
       "      <th>발매일</th>\n",
       "      <th>장르</th>\n",
       "      <th>가사</th>\n",
       "    </tr>\n",
       "  </thead>\n",
       "  <tbody>\n",
       "    <tr>\n",
       "      <th>24</th>\n",
       "      <td>뿌리 (Feat. JUSTHIS) (Prod. GroovyRoom)</td>\n",
       "      <td>Khundi Panda</td>\n",
       "      <td>쇼미더머니 9 Episode 3</td>\n",
       "      <td>2020.12.05</td>\n",
       "      <td>랩/힙합</td>\n",
       "      <td>뿌리부터 불이 붙어우린 뿌리 그 뿌리 깊숙이뿌리까지 뿌리뿌리부터 불이 붙어우린 뿌리...</td>\n",
       "    </tr>\n",
       "    <tr>\n",
       "      <th>16</th>\n",
       "      <td>에잇(Prod.&amp;Feat. SUGA of BTS)</td>\n",
       "      <td>아이유</td>\n",
       "      <td>에잇</td>\n",
       "      <td>2020.05.06</td>\n",
       "      <td>록/메탈</td>\n",
       "      <td>So are you happy nowFinally happy now are you뭐...</td>\n",
       "    </tr>\n",
       "    <tr>\n",
       "      <th>7</th>\n",
       "      <td>취기를 빌려 (취향저격 그녀 X 산들)</td>\n",
       "      <td>산들</td>\n",
       "      <td>취기를 빌려 (취향저격 그녀 X 산들)</td>\n",
       "      <td>2020.07.20</td>\n",
       "      <td>발라드</td>\n",
       "      <td>언제부턴가 불쑥내 습관이 돼버린 너혹시나 이런 맘이어쩌면 부담일까널 주저했어언제부턴...</td>\n",
       "    </tr>\n",
       "  </tbody>\n",
       "</table>\n",
       "</div>"
      ],
      "text/plain": [
       "                                       곡명            가수  \\\n",
       "24  뿌리 (Feat. JUSTHIS) (Prod. GroovyRoom)  Khundi Panda   \n",
       "16            에잇(Prod.&Feat. SUGA of BTS)           아이유   \n",
       "7                   취기를 빌려 (취향저격 그녀 X 산들)            산들   \n",
       "\n",
       "                       앨범         발매일    장르  \\\n",
       "24      쇼미더머니 9 Episode 3  2020.12.05  랩/힙합   \n",
       "16                     에잇  2020.05.06  록/메탈   \n",
       "7   취기를 빌려 (취향저격 그녀 X 산들)  2020.07.20   발라드   \n",
       "\n",
       "                                                   가사  \n",
       "24  뿌리부터 불이 붙어우린 뿌리 그 뿌리 깊숙이뿌리까지 뿌리뿌리부터 불이 붙어우린 뿌리...  \n",
       "16  So are you happy nowFinally happy now are you뭐...  \n",
       "7   언제부턴가 불쑥내 습관이 돼버린 너혹시나 이런 맘이어쩌면 부담일까널 주저했어언제부턴...  "
      ]
     },
     "execution_count": 40,
     "metadata": {},
     "output_type": "execute_result"
    }
   ],
   "source": [
    "song_df.sample(3)"
   ]
  },
  {
   "cell_type": "code",
   "execution_count": 46,
   "metadata": {},
   "outputs": [
    {
     "name": "stdout",
     "output_type": "stream",
     "text": [
      "shape : (100, 6)\n",
      "colums : Index(['곡명', '가수', '앨범', '발매일', '장르', '가사'], dtype='object')\n",
      "index : RangeIndex(start=0, stop=100, step=1)\n",
      "<class 'numpy.ndarray'>\n"
     ]
    }
   ],
   "source": [
    "print('shape :', song_df.shape)\n",
    "print('colums :', song_df.columns)\n",
    "print('index :', song_df.index)\n",
    "print(type(song_df.values))\n",
    "#print('values : ', song_df.values[0:1]) #2차원배열"
   ]
  },
  {
   "cell_type": "code",
   "execution_count": 48,
   "metadata": {},
   "outputs": [
    {
     "name": "stdout",
     "output_type": "stream",
     "text": [
      "<class 'pandas.core.frame.DataFrame'>\n",
      "RangeIndex: 100 entries, 0 to 99\n",
      "Data columns (total 6 columns):\n",
      " #   Column  Non-Null Count  Dtype \n",
      "---  ------  --------------  ----- \n",
      " 0   곡명      100 non-null    object\n",
      " 1   가수      100 non-null    object\n",
      " 2   앨범      100 non-null    object\n",
      " 3   발매일     100 non-null    object\n",
      " 4   장르      100 non-null    object\n",
      " 5   가사      100 non-null    object\n",
      "dtypes: object(6)\n",
      "memory usage: 4.8+ KB\n"
     ]
    }
   ],
   "source": [
    "song_df.info()"
   ]
  },
  {
   "cell_type": "code",
   "execution_count": 51,
   "metadata": {},
   "outputs": [
    {
     "name": "stdout",
     "output_type": "stream",
     "text": [
      "<class 'pandas.core.series.Series'>\n"
     ]
    },
    {
     "data": {
      "text/plain": [
       "0     미란이 (Mirani)\n",
       "1               경서\n",
       "2            방탄소년단\n",
       "3              장범준\n",
       "4     릴보이 (lIlBOI)\n",
       "          ...     \n",
       "95           방탄소년단\n",
       "96     윤도 (YoonDo)\n",
       "97           방탄소년단\n",
       "98             양다일\n",
       "99             성시경\n",
       "Name: 가수, Length: 100, dtype: object"
      ]
     },
     "execution_count": 51,
     "metadata": {},
     "output_type": "execute_result"
    }
   ],
   "source": [
    "# 1개의 열(컬럼) 선택\n",
    "print(type(song_df['가수']))\n",
    "song_df['가수']"
   ]
  },
  {
   "cell_type": "code",
   "execution_count": 61,
   "metadata": {},
   "outputs": [
    {
     "data": {
      "text/plain": [
       "방탄소년단                7\n",
       "아이유                  5\n",
       "릴보이 (lIlBOI)         4\n",
       "폴킴                   4\n",
       "머쉬베놈 (MUSHVENOM)     3\n",
       "장범준                  2\n",
       "이승기                  2\n",
       "오마이걸 (OH MY GIRL)    2\n",
       "BLACKPINK            2\n",
       "미란이 (Mirani)         2\n",
       "Name: 가수, dtype: int64"
      ]
     },
     "execution_count": 61,
     "metadata": {},
     "output_type": "execute_result"
    }
   ],
   "source": [
    "# 가수별로 Row Counting\n",
    "song_df['가수'].value_counts().head(10)"
   ]
  },
  {
   "cell_type": "code",
   "execution_count": 56,
   "metadata": {},
   "outputs": [
    {
     "data": {
      "text/plain": [
       "발라드               27\n",
       "랩/힙합              19\n",
       "댄스                16\n",
       "POP               11\n",
       "R&B/Soul           6\n",
       "발라드, 국내드라마         5\n",
       "발라드, 인디음악          4\n",
       "록/메탈               3\n",
       "R&B/Soul, 인디음악     2\n",
       "록/메탈, 국내드라마        2\n",
       "랩/힙합, 인디음악         2\n",
       "성인가요               1\n",
       "인디음악, 록/메탈         1\n",
       "인디음악, 포크/블루스       1\n",
       "Name: 장르, dtype: int64"
      ]
     },
     "execution_count": 56,
     "metadata": {},
     "output_type": "execute_result"
    }
   ],
   "source": [
    "#장르별로 Row Counting\n",
    "song_df['장르'].value_counts()"
   ]
  },
  {
   "cell_type": "code",
   "execution_count": 58,
   "metadata": {},
   "outputs": [
    {
     "data": {
      "text/plain": [
       "array(['랩/힙합', '발라드', '댄스', '인디음악, 포크/블루스', 'POP', '발라드, 인디음악', '록/메탈',\n",
       "       '록/메탈, 국내드라마', '랩/힙합, 인디음악', '발라드, 국내드라마', 'R&B/Soul, 인디음악',\n",
       "       'R&B/Soul', '인디음악, 록/메탈', '성인가요'], dtype=object)"
      ]
     },
     "execution_count": 58,
     "metadata": {},
     "output_type": "execute_result"
    }
   ],
   "source": [
    "# unique 한 장르명 가져오기\n",
    "song_df['장르'].unique()"
   ]
  },
  {
   "cell_type": "code",
   "execution_count": 59,
   "metadata": {},
   "outputs": [
    {
     "data": {
      "text/plain": [
       "array(['미란이 (Mirani)', '경서', '방탄소년단', '장범준', '릴보이 (lIlBOI)', '임창정',\n",
       "       'BLACKPINK', '산들', '스탠딩 에그', 'Jawsh 685', '규현 (KYUHYUN)', '적재',\n",
       "       'AKMU (악동뮤지션)', '아이유', '박진영', '벤', '노을', '오반 (OVAN)',\n",
       "       'Khundi Panda', '마마무 (Mamamoo)', '폴킴', '조정석', '창모 (CHANGMO)',\n",
       "       '오마이걸 (OH MY GIRL)', '순순희', '환불원정대', '스윙스', '경서예지', 'TWICE (트와이스)',\n",
       "       '마크툽 (MAKTUB)', '백지영', '화사 (Hwa Sa)', '이승기', 'Maroon 5',\n",
       "       '가호 (Gaho)', '전상근', '이예준', '머쉬베놈 (MUSHVENOM)', '이하이', '신예영',\n",
       "       '제시 (Jessi)', 'Sia', '잔나비', 'Mariah Carey', '태연 (TAEYEON)',\n",
       "       'Tones And I', '황인욱', '블루 (BLOO)', 'Ariana Grande', 'Anne-Marie',\n",
       "       '먼데이 키즈 (Monday Kiz)', '비', 'IZ*ONE (아이즈원)', '엠씨더맥스 (M.C the MAX)',\n",
       "       '송하예', '전미도', '임영웅', '#안녕', '정준일', 'Dua Lipa', '허각', '지코 (ZICO)',\n",
       "       '싹쓰리 (유두래곤, 린다G, 비룡)', '청하', '원슈타인', 'Etham', 'Crush',\n",
       "       'Conan Gray', 'Lauv', 'aespa', '윤도 (YoonDo)', '양다일', '성시경'],\n",
       "      dtype=object)"
      ]
     },
     "execution_count": 59,
     "metadata": {},
     "output_type": "execute_result"
    }
   ],
   "source": [
    "song_df['가수'].unique()"
   ]
  }
 ],
 "metadata": {
  "kernelspec": {
   "display_name": "Python 3",
   "language": "python",
   "name": "python3"
  },
  "language_info": {
   "codemirror_mode": {
    "name": "ipython",
    "version": 3
   },
   "file_extension": ".py",
   "mimetype": "text/x-python",
   "name": "python",
   "nbconvert_exporter": "python",
   "pygments_lexer": "ipython3",
   "version": "3.8.5"
  }
 },
 "nbformat": 4,
 "nbformat_minor": 4
}
