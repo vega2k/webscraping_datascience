{
 "cells": [
  {
   "cell_type": "code",
   "execution_count": null,
   "metadata": {},
   "outputs": [],
   "source": [
    "import requests\n",
    "from bs4 import BeautifulSoup\n",
    "import re\n",
    "\n",
    "req_header = {\n",
    "    'user-agent': 'Mozilla/5.0 (Windows NT 10.0; Win64; x64) AppleWebKit/537.36 (KHTML, like Gecko) Chrome/86.0.4240.75 Safari/537.36'\n",
    "}\n",
    "\n",
    "song_detail_list = []\n",
    "for song in song_list:\n",
    "    song_detail_dict = {}\n",
    "    #print(song['title'], song['link'])\n",
    "    song_url = song['link']\n",
    "    res = requests.get(song_url, headers=req_header)\n",
    "    print(res.status_code)\n",
    "    if res.ok:\n",
    "        html = res.text\n",
    "        soup = BeautifulSoup(html,'html.parser')\n",
    "        #노래제목\n",
    "        song_detail_dict['곡명'] = song['title']\n",
    "        #가수\n",
    "        song_detail_dict['가수'] = soup.select('a[href*=\"goArtistDetail\"] span')[0].text\n",
    "        #앨범\n",
    "        song_detail_dict['앨범'] = soup.select('div.meta dd')[0].text\n",
    "        #발매일\n",
    "        song_detail_dict['발매일'] = soup.select('div.meta dd')[1].text\n",
    "        #장르\n",
    "        song_detail_dict['장르'] = soup.select('div.meta dd')[2].text\n",
    "        #가사\n",
    "        lyric = soup.select('div#d_video_summary')[0].text\n",
    "        regexp = re.compile(r'[\\n\\r\\t]')        \n",
    "        song_detail_dict['가사'] = regexp.sub('',lyric.strip())\n",
    "        #각각의 Song정보를 담고 있는 dict를 list에 저장\n",
    "        song_detail_list.append(song_detail_dict)\n",
    "#         print('-----')\n",
    "#         print(song_detail_dict)    \n",
    "\n",
    "print(len(song_detail_list))\n",
    "print(song_detail_list[0:3])"
   ]
  }
 ],
 "metadata": {
  "kernelspec": {
   "display_name": "Python 3",
   "language": "python",
   "name": "python3"
  },
  "language_info": {
   "codemirror_mode": {
    "name": "ipython",
    "version": 3
   },
   "file_extension": ".py",
   "mimetype": "text/x-python",
   "name": "python",
   "nbconvert_exporter": "python",
   "pygments_lexer": "ipython3",
   "version": "3.8.5"
  }
 },
 "nbformat": 4,
 "nbformat_minor": 4
}
