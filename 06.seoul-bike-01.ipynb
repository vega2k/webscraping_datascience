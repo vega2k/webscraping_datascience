{
 "cells": [
  {
   "cell_type": "markdown",
   "metadata": {},
   "source": [
    "# 서울특별시 공공자전거 따릉이 대여이력 분석\n",
    "* [miningful/seoulbike: 따릉이 따세권EDA](https://github.com/miningful/seoulbike)에서 흥미를 얻어 분석을 시작하게 됨\n",
    "\n",
    "## 데이터 출처 :\n",
    "* 서울특별시 공공자전거 대여이력 정보\n",
    "http://data.seoul.go.kr/dataList/datasetView.do?infId=OA-15182&srvType=F&serviceKind=1&currentPageNo=1\n",
    "\n",
    "* `(이달의주요공개정보)_서울_공공자전거(따릉이)_이용현황 자료(161021).xlsx (1.24MB)`\n",
    "https://opengov.seoul.go.kr/anspruch/10045476\n",
    "\n",
    "\n",
    "## 관련자료 \n",
    "* [(석간) 서울시 따릉이 회원 62만 돌파 출 퇴근시간 38% 집중](http://spp.seoul.go.kr/main/news/news_report.jsp#view/253821)\n",
    "* [공공자전거 따릉이 인기 따라 '따세권' 형성…소외지역도 :: 공감언론 뉴시스통신사 ::](http://www.newsis.com/view/?id=NISX20180706_0000356247&cID=10201&pID=10200)\n",
    "* [서울특별시 빅데이터 캠퍼스 > 분석결과/사례공유 > 서울시 분석사례 > 서울시 자전거 이동경로 분석](https://bigdata.seoul.go.kr/noti/selectNoti.do?r_id=P430&bbs_seq=229&sch_type=&sch_text=&currentPage=1)\n",
    "* [따릉이 편리하게 이용하기 위한 14가지 | 서울시 정보소통광장(정보공개)](https://opengov.seoul.go.kr/mediahub/15085803)"
   ]
  },
  {
   "cell_type": "code",
   "execution_count": 23,
   "metadata": {},
   "outputs": [
    {
     "name": "stdout",
     "output_type": "stream",
     "text": [
      "Name: plotnine\n",
      "Version: 0.7.1\n",
      "Summary: A grammar of graphics for python\n",
      "Home-page: https://github.com/has2k1/plotnine\n",
      "Author: None\n",
      "Author-email: None\n",
      "License: GPL-2\n",
      "Location: c:\\programdata\\anaconda3\\lib\\site-packages\n",
      "Requires: matplotlib, numpy, pandas, patsy, statsmodels, scipy, mizani, descartes\n",
      "Required-by: \n"
     ]
    }
   ],
   "source": [
    "#plotnine 설치\n",
    "!pip show plotnine"
   ]
  },
  {
   "cell_type": "code",
   "execution_count": 24,
   "metadata": {},
   "outputs": [
    {
     "name": "stdout",
     "output_type": "stream",
     "text": [
      "Name: folium\n",
      "Version: 0.11.0\n",
      "Summary: Make beautiful maps with Leaflet.js & Python\n",
      "Home-page: https://github.com/python-visualization/folium\n",
      "Author: Rob Story\n",
      "Author-email: wrobstory@gmail.com\n",
      "License: MIT\n",
      "Location: c:\\programdata\\anaconda3\\lib\\site-packages\n",
      "Requires: jinja2, branca, numpy, requests\n",
      "Required-by: \n"
     ]
    }
   ],
   "source": [
    "#folium 설치\n",
    "!pip show folium"
   ]
  },
  {
   "cell_type": "code",
   "execution_count": 25,
   "metadata": {},
   "outputs": [],
   "source": [
    "# 노트북이 간결해 보이도록 경고 문구는 출력되지 않도록 함\n",
    "# 프로그래밍에 익숙하다면 경고 문구도 출력해서 보도록 한다. \n",
    "# 하지만 익숙하지 않다면 당황하지 않기 위해 경고 메시지는 찍히지 않도록 한다.\n",
    "import warnings\n",
    "warnings.simplefilter(action='ignore', category=FutureWarning)"
   ]
  },
  {
   "cell_type": "markdown",
   "metadata": {},
   "source": [
    "## 사용할 도구 가져오기"
   ]
  },
  {
   "cell_type": "code",
   "execution_count": 26,
   "metadata": {},
   "outputs": [],
   "source": [
    "#!pip install plotnine"
   ]
  },
  {
   "cell_type": "code",
   "execution_count": 27,
   "metadata": {},
   "outputs": [],
   "source": [
    "import pandas as pd\n",
    "import numpy as np\n",
    "from plotnine import *\n",
    "\n",
    "\n",
    "# 그래프가 노트북 안에 보이게 하기 위해\n",
    "%matplotlib inline"
   ]
  },
  {
   "cell_type": "markdown",
   "metadata": {},
   "source": [
    "## 데이터 불러오기\n",
    "* 서울시정보소통광장에서 다운로드 받은 csv파일과 크롤링해온 대여소 정보가 있다.\n",
    "* 이 노트북에서는 전체 데이터 중 일부 데이터만을 사용해서 특정 시기의 데이터만 분석해 보고 점점 더 큰 데이터를 불러와 보도록 한다."
   ]
  },
  {
   "cell_type": "code",
   "execution_count": 28,
   "metadata": {},
   "outputs": [
    {
     "name": "stdout",
     "output_type": "stream",
     "text": [
      " C 드라이브의 볼륨: Windows\n",
      " 볼륨 일련 번호: 8E03-408B\n",
      "\n",
      " C:\\python_ds\\python_webscaping_datascience\\data 디렉터리\n",
      "\n",
      "2020-11-11  오전 09:35    <DIR>          .\n",
      "2020-11-11  오전 09:35    <DIR>          ..\n",
      "2020-10-16  오후 12:35    <DIR>          .ipynb_checkpoints\n",
      "2020-10-30  오후 04:28           239,122 actors2.json\n",
      "2020-11-11  오전 09:34           190,636 bike_rent_station.csv\n",
      "2020-10-30  오전 09:35           175,883 congress.json\n",
      "2020-11-09  오후 01:19           114,404 damunhwa.pdf\n",
      "2020-10-14  오후 12:06            12,341 data_draw_korea.csv\n",
      "2020-10-14  오후 02:41               274 dbscript.txt\n",
      "2020-10-26  오전 09:48           271,010 member.json\n",
      "2020-10-22  오전 09:50           265,143 songs.json\n",
      "2020-10-14  오후 12:06    <DIR>          titanic\n",
      "2020-10-21  오후 03:21            54,101 weater_1021.json\n",
      "2020-10-14  오후 12:06               668 yesterday.txt\n",
      "2020-10-16  오전 11:50             1,583 yesterday_trans.txt\n",
      "2020-10-14  오후 12:06         3,241,116 zip.json\n",
      "2018-12-18  오전 11:52        73,556,846 서울특별시 공공자전거 대여이력 정보_2018년_2분기_4.csv\n",
      "2020-10-16  오후 12:35               778 을의연애.txt\n",
      "2020-10-16  오후 12:39             1,582 을의연애_trans.txt\n",
      "              15개 파일          78,125,487 바이트\n",
      "               4개 디렉터리  410,918,354,944 바이트 남음\n"
     ]
    }
   ],
   "source": [
    "%ls data"
   ]
  },
  {
   "cell_type": "code",
   "execution_count": 29,
   "metadata": {},
   "outputs": [
    {
     "data": {
      "text/plain": [
       "(586304, 11)"
      ]
     },
     "execution_count": 29,
     "metadata": {},
     "output_type": "execute_result"
    }
   ],
   "source": [
    "df = pd.read_csv('data/서울특별시 공공자전거 대여이력 정보_2018년_2분기_4.csv', encoding='cp949',engine='python')\n",
    "# 2018년 2분기까지의 데이터를 보고 싶다면 아래 파일을 불러온다.\n",
    "# df = pd.read_csv('data/seoul-bike-2018.csv')\n",
    "df.shape"
   ]
  },
  {
   "cell_type": "markdown",
   "metadata": {},
   "source": [
    "## 데이터 미리보기 및 요약하기\n",
    "* head와 tail을 통해 데이터 미리보기를 해볼 수 있다.\n",
    "* head는 데이터의 윗부분을 tail은 데이터의 하단부를 미리보기 해준다. \n",
    "* 괄호안에 숫자를 넣어주면 해당 숫자만큼의 데이터를 가져온다. 기본값은 5이다."
   ]
  },
  {
   "cell_type": "code",
   "execution_count": 30,
   "metadata": {},
   "outputs": [
    {
     "data": {
      "text/html": [
       "<div>\n",
       "<style scoped>\n",
       "    .dataframe tbody tr th:only-of-type {\n",
       "        vertical-align: middle;\n",
       "    }\n",
       "\n",
       "    .dataframe tbody tr th {\n",
       "        vertical-align: top;\n",
       "    }\n",
       "\n",
       "    .dataframe thead th {\n",
       "        text-align: right;\n",
       "    }\n",
       "</style>\n",
       "<table border=\"1\" class=\"dataframe\">\n",
       "  <thead>\n",
       "    <tr style=\"text-align: right;\">\n",
       "      <th></th>\n",
       "      <th>'자전거번호'</th>\n",
       "      <th>'대여일시'</th>\n",
       "      <th>'대여대여소번호'</th>\n",
       "      <th>'대여대여소명'</th>\n",
       "      <th>'대여거치대'</th>\n",
       "      <th>'반납일시'</th>\n",
       "      <th>'반납대여소번호'</th>\n",
       "      <th>'반납대여소명'</th>\n",
       "      <th>'반납거치대'</th>\n",
       "      <th>'이용시간(분)'</th>\n",
       "      <th>'이용거리(M)'</th>\n",
       "    </tr>\n",
       "  </thead>\n",
       "  <tbody>\n",
       "    <tr>\n",
       "      <th>0</th>\n",
       "      <td>'SPB-11906'</td>\n",
       "      <td>'2018-06-16 00:00:07'</td>\n",
       "      <td>'932'</td>\n",
       "      <td>' 예일여중'</td>\n",
       "      <td>1</td>\n",
       "      <td>'2018-06-16 00:16:41'</td>\n",
       "      <td>'934'</td>\n",
       "      <td>' 신사동 성당'</td>\n",
       "      <td>11</td>\n",
       "      <td>15</td>\n",
       "      <td>2160</td>\n",
       "    </tr>\n",
       "    <tr>\n",
       "      <th>1</th>\n",
       "      <td>'SPB-16954'</td>\n",
       "      <td>'2018-06-16 00:00:07'</td>\n",
       "      <td>'272'</td>\n",
       "      <td>' 당산육갑문'</td>\n",
       "      <td>16</td>\n",
       "      <td>'2018-06-16 02:00:36'</td>\n",
       "      <td>'1827'</td>\n",
       "      <td>' 독산보도육교 앞 자전거 보관소'</td>\n",
       "      <td>9</td>\n",
       "      <td>120</td>\n",
       "      <td>18100</td>\n",
       "    </tr>\n",
       "    <tr>\n",
       "      <th>2</th>\n",
       "      <td>'SPB-09676'</td>\n",
       "      <td>'2018-06-16 00:00:11'</td>\n",
       "      <td>'1036'</td>\n",
       "      <td>' 고덕동 주양쇼핑'</td>\n",
       "      <td>7</td>\n",
       "      <td>'2018-06-16 00:24:05'</td>\n",
       "      <td>'1038'</td>\n",
       "      <td>' 강일 다솜 어린이 공원'</td>\n",
       "      <td>9</td>\n",
       "      <td>23</td>\n",
       "      <td>3350</td>\n",
       "    </tr>\n",
       "    <tr>\n",
       "      <th>3</th>\n",
       "      <td>'SPB-07143'</td>\n",
       "      <td>'2018-06-16 00:00:15'</td>\n",
       "      <td>'1726'</td>\n",
       "      <td>' 삼익세라믹아파트교차로'</td>\n",
       "      <td>7</td>\n",
       "      <td>'2018-06-16 00:15:31'</td>\n",
       "      <td>'1706'</td>\n",
       "      <td>' 기업은행 앞'</td>\n",
       "      <td>9</td>\n",
       "      <td>14</td>\n",
       "      <td>1480</td>\n",
       "    </tr>\n",
       "    <tr>\n",
       "      <th>4</th>\n",
       "      <td>'SPB-13007'</td>\n",
       "      <td>'2018-06-16 00:00:16'</td>\n",
       "      <td>'2058'</td>\n",
       "      <td>' 노량진동 맥도널드앞'</td>\n",
       "      <td>10</td>\n",
       "      <td>'2018-06-16 00:14:25'</td>\n",
       "      <td>'258'</td>\n",
       "      <td>' 신길역3번출구'</td>\n",
       "      <td>8</td>\n",
       "      <td>13</td>\n",
       "      <td>2920</td>\n",
       "    </tr>\n",
       "  </tbody>\n",
       "</table>\n",
       "</div>"
      ],
      "text/plain": [
       "       '자전거번호'                 '대여일시' '대여대여소번호'        '대여대여소명'  '대여거치대'  \\\n",
       "0  'SPB-11906'  '2018-06-16 00:00:07'     '932'         ' 예일여중'        1   \n",
       "1  'SPB-16954'  '2018-06-16 00:00:07'     '272'        ' 당산육갑문'       16   \n",
       "2  'SPB-09676'  '2018-06-16 00:00:11'    '1036'     ' 고덕동 주양쇼핑'        7   \n",
       "3  'SPB-07143'  '2018-06-16 00:00:15'    '1726'  ' 삼익세라믹아파트교차로'        7   \n",
       "4  'SPB-13007'  '2018-06-16 00:00:16'    '2058'   ' 노량진동 맥도널드앞'       10   \n",
       "\n",
       "                  '반납일시' '반납대여소번호'             '반납대여소명'  '반납거치대'  '이용시간(분)'  \\\n",
       "0  '2018-06-16 00:16:41'     '934'            ' 신사동 성당'       11         15   \n",
       "1  '2018-06-16 02:00:36'    '1827'  ' 독산보도육교 앞 자전거 보관소'        9        120   \n",
       "2  '2018-06-16 00:24:05'    '1038'      ' 강일 다솜 어린이 공원'        9         23   \n",
       "3  '2018-06-16 00:15:31'    '1706'            ' 기업은행 앞'        9         14   \n",
       "4  '2018-06-16 00:14:25'     '258'           ' 신길역3번출구'        8         13   \n",
       "\n",
       "   '이용거리(M)'  \n",
       "0       2160  \n",
       "1      18100  \n",
       "2       3350  \n",
       "3       1480  \n",
       "4       2920  "
      ]
     },
     "execution_count": 30,
     "metadata": {},
     "output_type": "execute_result"
    }
   ],
   "source": [
    "df.head()"
   ]
  },
  {
   "cell_type": "code",
   "execution_count": 31,
   "metadata": {},
   "outputs": [
    {
     "data": {
      "text/html": [
       "<div>\n",
       "<style scoped>\n",
       "    .dataframe tbody tr th:only-of-type {\n",
       "        vertical-align: middle;\n",
       "    }\n",
       "\n",
       "    .dataframe tbody tr th {\n",
       "        vertical-align: top;\n",
       "    }\n",
       "\n",
       "    .dataframe thead th {\n",
       "        text-align: right;\n",
       "    }\n",
       "</style>\n",
       "<table border=\"1\" class=\"dataframe\">\n",
       "  <thead>\n",
       "    <tr style=\"text-align: right;\">\n",
       "      <th></th>\n",
       "      <th>'자전거번호'</th>\n",
       "      <th>'대여일시'</th>\n",
       "      <th>'대여대여소번호'</th>\n",
       "      <th>'대여대여소명'</th>\n",
       "      <th>'대여거치대'</th>\n",
       "      <th>'반납일시'</th>\n",
       "      <th>'반납대여소번호'</th>\n",
       "      <th>'반납대여소명'</th>\n",
       "      <th>'반납거치대'</th>\n",
       "      <th>'이용시간(분)'</th>\n",
       "      <th>'이용거리(M)'</th>\n",
       "    </tr>\n",
       "  </thead>\n",
       "  <tbody>\n",
       "    <tr>\n",
       "      <th>586299</th>\n",
       "      <td>'SPB-15985'</td>\n",
       "      <td>'2018-06-30 23:59:55'</td>\n",
       "      <td>'505'</td>\n",
       "      <td>' 자양사거리 광진아크로텔 앞'</td>\n",
       "      <td>9</td>\n",
       "      <td>'2018-07-01 00:09:38'</td>\n",
       "      <td>'593'</td>\n",
       "      <td>'자양중앙나들목'</td>\n",
       "      <td>5</td>\n",
       "      <td>9</td>\n",
       "      <td>1230</td>\n",
       "    </tr>\n",
       "    <tr>\n",
       "      <th>586300</th>\n",
       "      <td>'SPB-15081'</td>\n",
       "      <td>'2018-06-30 23:59:55'</td>\n",
       "      <td>'1328'</td>\n",
       "      <td>' 월곡역 3번출구'</td>\n",
       "      <td>7</td>\n",
       "      <td>'2018-07-01 00:18:02'</td>\n",
       "      <td>'647'</td>\n",
       "      <td>' 신이문역 1번출구'</td>\n",
       "      <td>7</td>\n",
       "      <td>17</td>\n",
       "      <td>3600</td>\n",
       "    </tr>\n",
       "    <tr>\n",
       "      <th>586301</th>\n",
       "      <td>'SPB-13677'</td>\n",
       "      <td>'2018-06-30 23:59:57'</td>\n",
       "      <td>'2376'</td>\n",
       "      <td>' 수서역 6번출구 앞'</td>\n",
       "      <td>2</td>\n",
       "      <td>'2018-07-01 00:20:38'</td>\n",
       "      <td>'2387'</td>\n",
       "      <td>' 래미안강남힐즈 사거리'</td>\n",
       "      <td>5</td>\n",
       "      <td>20</td>\n",
       "      <td>2590</td>\n",
       "    </tr>\n",
       "    <tr>\n",
       "      <th>586302</th>\n",
       "      <td>'SPB-06577'</td>\n",
       "      <td>'2018-06-30 23:59:57'</td>\n",
       "      <td>'1251'</td>\n",
       "      <td>' 석촌역 2번출구'</td>\n",
       "      <td>2</td>\n",
       "      <td>'2018-07-01 00:57:29'</td>\n",
       "      <td>'1245'</td>\n",
       "      <td>' 문정 법조단지9'</td>\n",
       "      <td>4</td>\n",
       "      <td>57</td>\n",
       "      <td>6640</td>\n",
       "    </tr>\n",
       "    <tr>\n",
       "      <th>586303</th>\n",
       "      <td>'SPB-03842'</td>\n",
       "      <td>'2018-06-30 23:59:58'</td>\n",
       "      <td>'2169'</td>\n",
       "      <td>' 봉천역 2번출구'</td>\n",
       "      <td>6</td>\n",
       "      <td>'2018-07-01 00:08:05'</td>\n",
       "      <td>'2112'</td>\n",
       "      <td>' 서울대입구역 마에스트로'</td>\n",
       "      <td>7</td>\n",
       "      <td>7</td>\n",
       "      <td>910</td>\n",
       "    </tr>\n",
       "  </tbody>\n",
       "</table>\n",
       "</div>"
      ],
      "text/plain": [
       "            '자전거번호'                 '대여일시' '대여대여소번호'           '대여대여소명'  \\\n",
       "586299  'SPB-15985'  '2018-06-30 23:59:55'     '505'  ' 자양사거리 광진아크로텔 앞'   \n",
       "586300  'SPB-15081'  '2018-06-30 23:59:55'    '1328'        ' 월곡역 3번출구'   \n",
       "586301  'SPB-13677'  '2018-06-30 23:59:57'    '2376'      ' 수서역 6번출구 앞'   \n",
       "586302  'SPB-06577'  '2018-06-30 23:59:57'    '1251'        ' 석촌역 2번출구'   \n",
       "586303  'SPB-03842'  '2018-06-30 23:59:58'    '2169'        ' 봉천역 2번출구'   \n",
       "\n",
       "        '대여거치대'                 '반납일시' '반납대여소번호'         '반납대여소명'  '반납거치대'  \\\n",
       "586299        9  '2018-07-01 00:09:38'     '593'        '자양중앙나들목'        5   \n",
       "586300        7  '2018-07-01 00:18:02'     '647'     ' 신이문역 1번출구'        7   \n",
       "586301        2  '2018-07-01 00:20:38'    '2387'   ' 래미안강남힐즈 사거리'        5   \n",
       "586302        2  '2018-07-01 00:57:29'    '1245'      ' 문정 법조단지9'        4   \n",
       "586303        6  '2018-07-01 00:08:05'    '2112'  ' 서울대입구역 마에스트로'        7   \n",
       "\n",
       "        '이용시간(분)'  '이용거리(M)'  \n",
       "586299          9       1230  \n",
       "586300         17       3600  \n",
       "586301         20       2590  \n",
       "586302         57       6640  \n",
       "586303          7        910  "
      ]
     },
     "execution_count": 31,
     "metadata": {},
     "output_type": "execute_result"
    }
   ],
   "source": [
    "df.tail()"
   ]
  },
  {
   "cell_type": "markdown",
   "metadata": {},
   "source": [
    "* info를 사용하면 해당 데이터의 요약정보를 볼 수 있다.\n",
    "* 데이터의 갯수와 데이터의 타입, 크기 등을 볼 수 있다."
   ]
  },
  {
   "cell_type": "code",
   "execution_count": 32,
   "metadata": {},
   "outputs": [
    {
     "name": "stdout",
     "output_type": "stream",
     "text": [
      "<class 'pandas.core.frame.DataFrame'>\n",
      "RangeIndex: 586304 entries, 0 to 586303\n",
      "Data columns (total 11 columns):\n",
      " #   Column     Non-Null Count   Dtype \n",
      "---  ------     --------------   ----- \n",
      " 0   '자전거번호'    586304 non-null  object\n",
      " 1   '대여일시'     586304 non-null  object\n",
      " 2   '대여대여소번호'  586304 non-null  object\n",
      " 3   '대여대여소명'   586304 non-null  object\n",
      " 4   '대여거치대'    586304 non-null  int64 \n",
      " 5   '반납일시'     586304 non-null  object\n",
      " 6   '반납대여소번호'  586304 non-null  object\n",
      " 7   '반납대여소명'   586304 non-null  object\n",
      " 8   '반납거치대'    586304 non-null  int64 \n",
      " 9   '이용시간(분)'  586304 non-null  int64 \n",
      " 10  '이용거리(M)'  586304 non-null  int64 \n",
      "dtypes: int64(4), object(7)\n",
      "memory usage: 49.2+ MB\n"
     ]
    }
   ],
   "source": [
    "df.info()"
   ]
  },
  {
   "cell_type": "code",
   "execution_count": 33,
   "metadata": {},
   "outputs": [
    {
     "data": {
      "text/html": [
       "<div>\n",
       "<style scoped>\n",
       "    .dataframe tbody tr th:only-of-type {\n",
       "        vertical-align: middle;\n",
       "    }\n",
       "\n",
       "    .dataframe tbody tr th {\n",
       "        vertical-align: top;\n",
       "    }\n",
       "\n",
       "    .dataframe thead th {\n",
       "        text-align: right;\n",
       "    }\n",
       "</style>\n",
       "<table border=\"1\" class=\"dataframe\">\n",
       "  <thead>\n",
       "    <tr style=\"text-align: right;\">\n",
       "      <th></th>\n",
       "      <th>'대여거치대'</th>\n",
       "      <th>'반납거치대'</th>\n",
       "      <th>'이용시간(분)'</th>\n",
       "      <th>'이용거리(M)'</th>\n",
       "    </tr>\n",
       "  </thead>\n",
       "  <tbody>\n",
       "    <tr>\n",
       "      <th>count</th>\n",
       "      <td>586304.000000</td>\n",
       "      <td>586304.000000</td>\n",
       "      <td>586304.000000</td>\n",
       "      <td>586304.000000</td>\n",
       "    </tr>\n",
       "    <tr>\n",
       "      <th>mean</th>\n",
       "      <td>6.981460</td>\n",
       "      <td>6.939248</td>\n",
       "      <td>28.922530</td>\n",
       "      <td>4712.563602</td>\n",
       "    </tr>\n",
       "    <tr>\n",
       "      <th>std</th>\n",
       "      <td>5.217671</td>\n",
       "      <td>5.196975</td>\n",
       "      <td>30.866556</td>\n",
       "      <td>9003.052657</td>\n",
       "    </tr>\n",
       "    <tr>\n",
       "      <th>min</th>\n",
       "      <td>1.000000</td>\n",
       "      <td>1.000000</td>\n",
       "      <td>2.000000</td>\n",
       "      <td>0.000000</td>\n",
       "    </tr>\n",
       "    <tr>\n",
       "      <th>25%</th>\n",
       "      <td>3.000000</td>\n",
       "      <td>3.000000</td>\n",
       "      <td>9.000000</td>\n",
       "      <td>1320.000000</td>\n",
       "    </tr>\n",
       "    <tr>\n",
       "      <th>50%</th>\n",
       "      <td>6.000000</td>\n",
       "      <td>6.000000</td>\n",
       "      <td>18.000000</td>\n",
       "      <td>2530.000000</td>\n",
       "    </tr>\n",
       "    <tr>\n",
       "      <th>75%</th>\n",
       "      <td>10.000000</td>\n",
       "      <td>10.000000</td>\n",
       "      <td>40.000000</td>\n",
       "      <td>5290.000000</td>\n",
       "    </tr>\n",
       "    <tr>\n",
       "      <th>max</th>\n",
       "      <td>40.000000</td>\n",
       "      <td>40.000000</td>\n",
       "      <td>4320.000000</td>\n",
       "      <td>255070.000000</td>\n",
       "    </tr>\n",
       "  </tbody>\n",
       "</table>\n",
       "</div>"
      ],
      "text/plain": [
       "             '대여거치대'        '반납거치대'      '이용시간(분)'      '이용거리(M)'\n",
       "count  586304.000000  586304.000000  586304.000000  586304.000000\n",
       "mean        6.981460       6.939248      28.922530    4712.563602\n",
       "std         5.217671       5.196975      30.866556    9003.052657\n",
       "min         1.000000       1.000000       2.000000       0.000000\n",
       "25%         3.000000       3.000000       9.000000    1320.000000\n",
       "50%         6.000000       6.000000      18.000000    2530.000000\n",
       "75%        10.000000      10.000000      40.000000    5290.000000\n",
       "max        40.000000      40.000000    4320.000000  255070.000000"
      ]
     },
     "execution_count": 33,
     "metadata": {},
     "output_type": "execute_result"
    }
   ],
   "source": [
    "df.describe()"
   ]
  },
  {
   "cell_type": "code",
   "execution_count": 34,
   "metadata": {},
   "outputs": [
    {
     "data": {
      "text/html": [
       "<div>\n",
       "<style scoped>\n",
       "    .dataframe tbody tr th:only-of-type {\n",
       "        vertical-align: middle;\n",
       "    }\n",
       "\n",
       "    .dataframe tbody tr th {\n",
       "        vertical-align: top;\n",
       "    }\n",
       "\n",
       "    .dataframe thead th {\n",
       "        text-align: right;\n",
       "    }\n",
       "</style>\n",
       "<table border=\"1\" class=\"dataframe\">\n",
       "  <thead>\n",
       "    <tr style=\"text-align: right;\">\n",
       "      <th></th>\n",
       "      <th>'자전거번호'</th>\n",
       "      <th>'대여일시'</th>\n",
       "      <th>'대여대여소번호'</th>\n",
       "      <th>'대여대여소명'</th>\n",
       "      <th>'반납일시'</th>\n",
       "      <th>'반납대여소번호'</th>\n",
       "      <th>'반납대여소명'</th>\n",
       "    </tr>\n",
       "  </thead>\n",
       "  <tbody>\n",
       "    <tr>\n",
       "      <th>count</th>\n",
       "      <td>586304</td>\n",
       "      <td>586304</td>\n",
       "      <td>586304</td>\n",
       "      <td>586304</td>\n",
       "      <td>586304</td>\n",
       "      <td>586304</td>\n",
       "      <td>586304</td>\n",
       "    </tr>\n",
       "    <tr>\n",
       "      <th>unique</th>\n",
       "      <td>12970</td>\n",
       "      <td>426750</td>\n",
       "      <td>1267</td>\n",
       "      <td>1267</td>\n",
       "      <td>427833</td>\n",
       "      <td>1269</td>\n",
       "      <td>1269</td>\n",
       "    </tr>\n",
       "    <tr>\n",
       "      <th>top</th>\n",
       "      <td>'SPB-18238'</td>\n",
       "      <td>'2018-06-18 19:42:44'</td>\n",
       "      <td>'207'</td>\n",
       "      <td>' 여의나루역 1번출구 앞'</td>\n",
       "      <td>'2018-06-19 19:53:32'</td>\n",
       "      <td>'113'</td>\n",
       "      <td>' 홍대입구역 2번출구 앞'</td>\n",
       "    </tr>\n",
       "    <tr>\n",
       "      <th>freq</th>\n",
       "      <td>139</td>\n",
       "      <td>42</td>\n",
       "      <td>4073</td>\n",
       "      <td>4073</td>\n",
       "      <td>18</td>\n",
       "      <td>3896</td>\n",
       "      <td>3896</td>\n",
       "    </tr>\n",
       "  </tbody>\n",
       "</table>\n",
       "</div>"
      ],
      "text/plain": [
       "            '자전거번호'                 '대여일시' '대여대여소번호'         '대여대여소명'  \\\n",
       "count        586304                 586304    586304           586304   \n",
       "unique        12970                 426750      1267             1267   \n",
       "top     'SPB-18238'  '2018-06-18 19:42:44'     '207'  ' 여의나루역 1번출구 앞'   \n",
       "freq            139                     42      4073             4073   \n",
       "\n",
       "                       '반납일시' '반납대여소번호'         '반납대여소명'  \n",
       "count                  586304    586304           586304  \n",
       "unique                 427833      1269             1269  \n",
       "top     '2018-06-19 19:53:32'     '113'  ' 홍대입구역 2번출구 앞'  \n",
       "freq                       18      3896             3896  "
      ]
     },
     "execution_count": 34,
     "metadata": {},
     "output_type": "execute_result"
    }
   ],
   "source": [
    "df.describe(include=np.object)"
   ]
  },
  {
   "cell_type": "markdown",
   "metadata": {},
   "source": [
    "## 분석을 위한 전처리\n",
    "* 위에서 데이터를 미리보기 했을 때 컬럼과 데이터에 불필요한 홑따옴표가 포함되어 있다.\n",
    "* 전처리를 통해 제거해 준다.\n",
    "* object 타입의 데이터에는 모두 홑따옴표가 들어가 있다. 따라서 object 데이터 타입이라면 홑따옴표를 제거해 주도록 한다."
   ]
  },
  {
   "cell_type": "code",
   "execution_count": 35,
   "metadata": {},
   "outputs": [],
   "source": [
    "# 컬럼에 있는 '를 제거한다.\n",
    "df.columns = df.columns.str.strip(\"'\")"
   ]
  },
  {
   "cell_type": "code",
   "execution_count": 36,
   "metadata": {},
   "outputs": [
    {
     "data": {
      "text/html": [
       "<div>\n",
       "<style scoped>\n",
       "    .dataframe tbody tr th:only-of-type {\n",
       "        vertical-align: middle;\n",
       "    }\n",
       "\n",
       "    .dataframe tbody tr th {\n",
       "        vertical-align: top;\n",
       "    }\n",
       "\n",
       "    .dataframe thead th {\n",
       "        text-align: right;\n",
       "    }\n",
       "</style>\n",
       "<table border=\"1\" class=\"dataframe\">\n",
       "  <thead>\n",
       "    <tr style=\"text-align: right;\">\n",
       "      <th></th>\n",
       "      <th>자전거번호</th>\n",
       "      <th>대여일시</th>\n",
       "      <th>대여대여소번호</th>\n",
       "      <th>대여대여소명</th>\n",
       "      <th>대여거치대</th>\n",
       "      <th>반납일시</th>\n",
       "      <th>반납대여소번호</th>\n",
       "      <th>반납대여소명</th>\n",
       "      <th>반납거치대</th>\n",
       "      <th>이용시간(분)</th>\n",
       "      <th>이용거리(M)</th>\n",
       "    </tr>\n",
       "  </thead>\n",
       "  <tbody>\n",
       "    <tr>\n",
       "      <th>0</th>\n",
       "      <td>'SPB-11906'</td>\n",
       "      <td>'2018-06-16 00:00:07'</td>\n",
       "      <td>'932'</td>\n",
       "      <td>' 예일여중'</td>\n",
       "      <td>1</td>\n",
       "      <td>'2018-06-16 00:16:41'</td>\n",
       "      <td>'934'</td>\n",
       "      <td>' 신사동 성당'</td>\n",
       "      <td>11</td>\n",
       "      <td>15</td>\n",
       "      <td>2160</td>\n",
       "    </tr>\n",
       "  </tbody>\n",
       "</table>\n",
       "</div>"
      ],
      "text/plain": [
       "         자전거번호                   대여일시 대여대여소번호   대여대여소명  대여거치대  \\\n",
       "0  'SPB-11906'  '2018-06-16 00:00:07'   '932'  ' 예일여중'      1   \n",
       "\n",
       "                    반납일시 반납대여소번호     반납대여소명  반납거치대  이용시간(분)  이용거리(M)  \n",
       "0  '2018-06-16 00:16:41'   '934'  ' 신사동 성당'     11       15     2160  "
      ]
     },
     "execution_count": 36,
     "metadata": {},
     "output_type": "execute_result"
    }
   ],
   "source": [
    "df.head(1)"
   ]
  },
  {
   "cell_type": "code",
   "execution_count": 37,
   "metadata": {},
   "outputs": [],
   "source": [
    "# 불필요하게 '가 들어가 있다. 스트링 타입으로 되어있는 데이터에서 '을 제거하자.\n",
    "df = df.apply(lambda x: x.str.strip(\"'\") if x.dtype == np.dtype('object') else x)\n",
    "\n",
    "# 다음의 방법으로 제거할 수도 있다.\n",
    "# df.iloc[:, :4] = df.iloc[:, :4].apply(lambda x: x.str.strip(\"'\"))\n",
    "# df.iloc[:, 5:8] = df.iloc[:, 5:8].apply(lambda x: x.str.strip(\"'\"))"
   ]
  },
  {
   "cell_type": "code",
   "execution_count": 38,
   "metadata": {},
   "outputs": [
    {
     "data": {
      "text/html": [
       "<div>\n",
       "<style scoped>\n",
       "    .dataframe tbody tr th:only-of-type {\n",
       "        vertical-align: middle;\n",
       "    }\n",
       "\n",
       "    .dataframe tbody tr th {\n",
       "        vertical-align: top;\n",
       "    }\n",
       "\n",
       "    .dataframe thead th {\n",
       "        text-align: right;\n",
       "    }\n",
       "</style>\n",
       "<table border=\"1\" class=\"dataframe\">\n",
       "  <thead>\n",
       "    <tr style=\"text-align: right;\">\n",
       "      <th></th>\n",
       "      <th>자전거번호</th>\n",
       "      <th>대여일시</th>\n",
       "      <th>대여대여소번호</th>\n",
       "      <th>대여대여소명</th>\n",
       "      <th>대여거치대</th>\n",
       "      <th>반납일시</th>\n",
       "      <th>반납대여소번호</th>\n",
       "      <th>반납대여소명</th>\n",
       "      <th>반납거치대</th>\n",
       "      <th>이용시간(분)</th>\n",
       "      <th>이용거리(M)</th>\n",
       "    </tr>\n",
       "  </thead>\n",
       "  <tbody>\n",
       "    <tr>\n",
       "      <th>0</th>\n",
       "      <td>SPB-11906</td>\n",
       "      <td>2018-06-16 00:00:07</td>\n",
       "      <td>932</td>\n",
       "      <td>예일여중</td>\n",
       "      <td>1</td>\n",
       "      <td>2018-06-16 00:16:41</td>\n",
       "      <td>934</td>\n",
       "      <td>신사동 성당</td>\n",
       "      <td>11</td>\n",
       "      <td>15</td>\n",
       "      <td>2160</td>\n",
       "    </tr>\n",
       "    <tr>\n",
       "      <th>1</th>\n",
       "      <td>SPB-16954</td>\n",
       "      <td>2018-06-16 00:00:07</td>\n",
       "      <td>272</td>\n",
       "      <td>당산육갑문</td>\n",
       "      <td>16</td>\n",
       "      <td>2018-06-16 02:00:36</td>\n",
       "      <td>1827</td>\n",
       "      <td>독산보도육교 앞 자전거 보관소</td>\n",
       "      <td>9</td>\n",
       "      <td>120</td>\n",
       "      <td>18100</td>\n",
       "    </tr>\n",
       "    <tr>\n",
       "      <th>2</th>\n",
       "      <td>SPB-09676</td>\n",
       "      <td>2018-06-16 00:00:11</td>\n",
       "      <td>1036</td>\n",
       "      <td>고덕동 주양쇼핑</td>\n",
       "      <td>7</td>\n",
       "      <td>2018-06-16 00:24:05</td>\n",
       "      <td>1038</td>\n",
       "      <td>강일 다솜 어린이 공원</td>\n",
       "      <td>9</td>\n",
       "      <td>23</td>\n",
       "      <td>3350</td>\n",
       "    </tr>\n",
       "    <tr>\n",
       "      <th>3</th>\n",
       "      <td>SPB-07143</td>\n",
       "      <td>2018-06-16 00:00:15</td>\n",
       "      <td>1726</td>\n",
       "      <td>삼익세라믹아파트교차로</td>\n",
       "      <td>7</td>\n",
       "      <td>2018-06-16 00:15:31</td>\n",
       "      <td>1706</td>\n",
       "      <td>기업은행 앞</td>\n",
       "      <td>9</td>\n",
       "      <td>14</td>\n",
       "      <td>1480</td>\n",
       "    </tr>\n",
       "    <tr>\n",
       "      <th>4</th>\n",
       "      <td>SPB-13007</td>\n",
       "      <td>2018-06-16 00:00:16</td>\n",
       "      <td>2058</td>\n",
       "      <td>노량진동 맥도널드앞</td>\n",
       "      <td>10</td>\n",
       "      <td>2018-06-16 00:14:25</td>\n",
       "      <td>258</td>\n",
       "      <td>신길역3번출구</td>\n",
       "      <td>8</td>\n",
       "      <td>13</td>\n",
       "      <td>2920</td>\n",
       "    </tr>\n",
       "  </tbody>\n",
       "</table>\n",
       "</div>"
      ],
      "text/plain": [
       "       자전거번호                 대여일시 대여대여소번호        대여대여소명  대여거치대  \\\n",
       "0  SPB-11906  2018-06-16 00:00:07     932          예일여중      1   \n",
       "1  SPB-16954  2018-06-16 00:00:07     272         당산육갑문     16   \n",
       "2  SPB-09676  2018-06-16 00:00:11    1036      고덕동 주양쇼핑      7   \n",
       "3  SPB-07143  2018-06-16 00:00:15    1726   삼익세라믹아파트교차로      7   \n",
       "4  SPB-13007  2018-06-16 00:00:16    2058    노량진동 맥도널드앞     10   \n",
       "\n",
       "                  반납일시 반납대여소번호             반납대여소명  반납거치대  이용시간(분)  이용거리(M)  \n",
       "0  2018-06-16 00:16:41     934             신사동 성당     11       15     2160  \n",
       "1  2018-06-16 02:00:36    1827   독산보도육교 앞 자전거 보관소      9      120    18100  \n",
       "2  2018-06-16 00:24:05    1038       강일 다솜 어린이 공원      9       23     3350  \n",
       "3  2018-06-16 00:15:31    1706             기업은행 앞      9       14     1480  \n",
       "4  2018-06-16 00:14:25     258            신길역3번출구      8       13     2920  "
      ]
     },
     "execution_count": 38,
     "metadata": {},
     "output_type": "execute_result"
    }
   ],
   "source": [
    "df.head()"
   ]
  },
  {
   "cell_type": "code",
   "execution_count": 39,
   "metadata": {},
   "outputs": [
    {
     "data": {
      "text/html": [
       "<div>\n",
       "<style scoped>\n",
       "    .dataframe tbody tr th:only-of-type {\n",
       "        vertical-align: middle;\n",
       "    }\n",
       "\n",
       "    .dataframe tbody tr th {\n",
       "        vertical-align: top;\n",
       "    }\n",
       "\n",
       "    .dataframe thead th {\n",
       "        text-align: right;\n",
       "    }\n",
       "</style>\n",
       "<table border=\"1\" class=\"dataframe\">\n",
       "  <thead>\n",
       "    <tr style=\"text-align: right;\">\n",
       "      <th></th>\n",
       "      <th>자전거번호</th>\n",
       "      <th>대여일시</th>\n",
       "      <th>대여대여소번호</th>\n",
       "      <th>대여대여소명</th>\n",
       "      <th>대여거치대</th>\n",
       "      <th>반납일시</th>\n",
       "      <th>반납대여소번호</th>\n",
       "      <th>반납대여소명</th>\n",
       "      <th>반납거치대</th>\n",
       "      <th>이용시간(분)</th>\n",
       "      <th>이용거리(M)</th>\n",
       "    </tr>\n",
       "  </thead>\n",
       "  <tbody>\n",
       "    <tr>\n",
       "      <th>586299</th>\n",
       "      <td>SPB-15985</td>\n",
       "      <td>2018-06-30 23:59:55</td>\n",
       "      <td>505</td>\n",
       "      <td>자양사거리 광진아크로텔 앞</td>\n",
       "      <td>9</td>\n",
       "      <td>2018-07-01 00:09:38</td>\n",
       "      <td>593</td>\n",
       "      <td>자양중앙나들목</td>\n",
       "      <td>5</td>\n",
       "      <td>9</td>\n",
       "      <td>1230</td>\n",
       "    </tr>\n",
       "    <tr>\n",
       "      <th>586300</th>\n",
       "      <td>SPB-15081</td>\n",
       "      <td>2018-06-30 23:59:55</td>\n",
       "      <td>1328</td>\n",
       "      <td>월곡역 3번출구</td>\n",
       "      <td>7</td>\n",
       "      <td>2018-07-01 00:18:02</td>\n",
       "      <td>647</td>\n",
       "      <td>신이문역 1번출구</td>\n",
       "      <td>7</td>\n",
       "      <td>17</td>\n",
       "      <td>3600</td>\n",
       "    </tr>\n",
       "    <tr>\n",
       "      <th>586301</th>\n",
       "      <td>SPB-13677</td>\n",
       "      <td>2018-06-30 23:59:57</td>\n",
       "      <td>2376</td>\n",
       "      <td>수서역 6번출구 앞</td>\n",
       "      <td>2</td>\n",
       "      <td>2018-07-01 00:20:38</td>\n",
       "      <td>2387</td>\n",
       "      <td>래미안강남힐즈 사거리</td>\n",
       "      <td>5</td>\n",
       "      <td>20</td>\n",
       "      <td>2590</td>\n",
       "    </tr>\n",
       "    <tr>\n",
       "      <th>586302</th>\n",
       "      <td>SPB-06577</td>\n",
       "      <td>2018-06-30 23:59:57</td>\n",
       "      <td>1251</td>\n",
       "      <td>석촌역 2번출구</td>\n",
       "      <td>2</td>\n",
       "      <td>2018-07-01 00:57:29</td>\n",
       "      <td>1245</td>\n",
       "      <td>문정 법조단지9</td>\n",
       "      <td>4</td>\n",
       "      <td>57</td>\n",
       "      <td>6640</td>\n",
       "    </tr>\n",
       "    <tr>\n",
       "      <th>586303</th>\n",
       "      <td>SPB-03842</td>\n",
       "      <td>2018-06-30 23:59:58</td>\n",
       "      <td>2169</td>\n",
       "      <td>봉천역 2번출구</td>\n",
       "      <td>6</td>\n",
       "      <td>2018-07-01 00:08:05</td>\n",
       "      <td>2112</td>\n",
       "      <td>서울대입구역 마에스트로</td>\n",
       "      <td>7</td>\n",
       "      <td>7</td>\n",
       "      <td>910</td>\n",
       "    </tr>\n",
       "  </tbody>\n",
       "</table>\n",
       "</div>"
      ],
      "text/plain": [
       "            자전거번호                 대여일시 대여대여소번호           대여대여소명  대여거치대  \\\n",
       "586299  SPB-15985  2018-06-30 23:59:55     505   자양사거리 광진아크로텔 앞      9   \n",
       "586300  SPB-15081  2018-06-30 23:59:55    1328         월곡역 3번출구      7   \n",
       "586301  SPB-13677  2018-06-30 23:59:57    2376       수서역 6번출구 앞      2   \n",
       "586302  SPB-06577  2018-06-30 23:59:57    1251         석촌역 2번출구      2   \n",
       "586303  SPB-03842  2018-06-30 23:59:58    2169         봉천역 2번출구      6   \n",
       "\n",
       "                       반납일시 반납대여소번호         반납대여소명  반납거치대  이용시간(분)  이용거리(M)  \n",
       "586299  2018-07-01 00:09:38     593        자양중앙나들목      5        9     1230  \n",
       "586300  2018-07-01 00:18:02     647      신이문역 1번출구      7       17     3600  \n",
       "586301  2018-07-01 00:20:38    2387    래미안강남힐즈 사거리      5       20     2590  \n",
       "586302  2018-07-01 00:57:29    1245       문정 법조단지9      4       57     6640  \n",
       "586303  2018-07-01 00:08:05    2112   서울대입구역 마에스트로      7        7      910  "
      ]
     },
     "execution_count": 39,
     "metadata": {},
     "output_type": "execute_result"
    }
   ],
   "source": [
    "df.tail()"
   ]
  },
  {
   "cell_type": "code",
   "execution_count": 40,
   "metadata": {},
   "outputs": [
    {
     "name": "stdout",
     "output_type": "stream",
     "text": [
      "<class 'pandas.core.frame.DataFrame'>\n",
      "RangeIndex: 586304 entries, 0 to 586303\n",
      "Data columns (total 11 columns):\n",
      " #   Column   Non-Null Count   Dtype \n",
      "---  ------   --------------   ----- \n",
      " 0   자전거번호    586304 non-null  object\n",
      " 1   대여일시     586304 non-null  object\n",
      " 2   대여대여소번호  586304 non-null  object\n",
      " 3   대여대여소명   586304 non-null  object\n",
      " 4   대여거치대    586304 non-null  int64 \n",
      " 5   반납일시     586304 non-null  object\n",
      " 6   반납대여소번호  586304 non-null  object\n",
      " 7   반납대여소명   586304 non-null  object\n",
      " 8   반납거치대    586304 non-null  int64 \n",
      " 9   이용시간(분)  586304 non-null  int64 \n",
      " 10  이용거리(M)  586304 non-null  int64 \n",
      "dtypes: int64(4), object(7)\n",
      "memory usage: 49.2+ MB\n"
     ]
    }
   ],
   "source": [
    "df.info()"
   ]
  },
  {
   "cell_type": "code",
   "execution_count": 41,
   "metadata": {},
   "outputs": [
    {
     "data": {
      "text/html": [
       "<div>\n",
       "<style scoped>\n",
       "    .dataframe tbody tr th:only-of-type {\n",
       "        vertical-align: middle;\n",
       "    }\n",
       "\n",
       "    .dataframe tbody tr th {\n",
       "        vertical-align: top;\n",
       "    }\n",
       "\n",
       "    .dataframe thead th {\n",
       "        text-align: right;\n",
       "    }\n",
       "</style>\n",
       "<table border=\"1\" class=\"dataframe\">\n",
       "  <thead>\n",
       "    <tr style=\"text-align: right;\">\n",
       "      <th></th>\n",
       "      <th>자전거번호</th>\n",
       "      <th>대여일시</th>\n",
       "      <th>대여대여소번호</th>\n",
       "      <th>대여대여소명</th>\n",
       "      <th>반납일시</th>\n",
       "      <th>반납대여소번호</th>\n",
       "      <th>반납대여소명</th>\n",
       "    </tr>\n",
       "  </thead>\n",
       "  <tbody>\n",
       "    <tr>\n",
       "      <th>count</th>\n",
       "      <td>586304</td>\n",
       "      <td>586304</td>\n",
       "      <td>586304</td>\n",
       "      <td>586304</td>\n",
       "      <td>586304</td>\n",
       "      <td>586304</td>\n",
       "      <td>586304</td>\n",
       "    </tr>\n",
       "    <tr>\n",
       "      <th>unique</th>\n",
       "      <td>12970</td>\n",
       "      <td>426750</td>\n",
       "      <td>1267</td>\n",
       "      <td>1267</td>\n",
       "      <td>427833</td>\n",
       "      <td>1269</td>\n",
       "      <td>1269</td>\n",
       "    </tr>\n",
       "    <tr>\n",
       "      <th>top</th>\n",
       "      <td>SPB-18238</td>\n",
       "      <td>2018-06-18 18:56:44</td>\n",
       "      <td>207</td>\n",
       "      <td>여의나루역 1번출구 앞</td>\n",
       "      <td>2018-06-19 19:53:32</td>\n",
       "      <td>113</td>\n",
       "      <td>홍대입구역 2번출구 앞</td>\n",
       "    </tr>\n",
       "    <tr>\n",
       "      <th>freq</th>\n",
       "      <td>139</td>\n",
       "      <td>42</td>\n",
       "      <td>4073</td>\n",
       "      <td>4073</td>\n",
       "      <td>18</td>\n",
       "      <td>3896</td>\n",
       "      <td>3896</td>\n",
       "    </tr>\n",
       "  </tbody>\n",
       "</table>\n",
       "</div>"
      ],
      "text/plain": [
       "            자전거번호                 대여일시 대여대여소번호         대여대여소명  \\\n",
       "count      586304               586304  586304         586304   \n",
       "unique      12970               426750    1267           1267   \n",
       "top     SPB-18238  2018-06-18 18:56:44     207   여의나루역 1번출구 앞   \n",
       "freq          139                   42    4073           4073   \n",
       "\n",
       "                       반납일시 반납대여소번호         반납대여소명  \n",
       "count                586304  586304         586304  \n",
       "unique               427833    1269           1269  \n",
       "top     2018-06-19 19:53:32     113   홍대입구역 2번출구 앞  \n",
       "freq                     18    3896           3896  "
      ]
     },
     "execution_count": 41,
     "metadata": {},
     "output_type": "execute_result"
    }
   ],
   "source": [
    "df.describe(include=np.object)"
   ]
  },
  {
   "cell_type": "markdown",
   "metadata": {},
   "source": [
    "## 결측치 보기"
   ]
  },
  {
   "cell_type": "code",
   "execution_count": 42,
   "metadata": {},
   "outputs": [
    {
     "data": {
      "text/plain": [
       "자전거번호      0\n",
       "대여일시       0\n",
       "대여대여소번호    0\n",
       "대여대여소명     0\n",
       "대여거치대      0\n",
       "반납일시       0\n",
       "반납대여소번호    0\n",
       "반납대여소명     0\n",
       "반납거치대      0\n",
       "이용시간(분)    0\n",
       "이용거리(M)    0\n",
       "dtype: int64"
      ]
     },
     "execution_count": 42,
     "metadata": {},
     "output_type": "execute_result"
    }
   ],
   "source": [
    "df.isnull().sum()"
   ]
  },
  {
   "cell_type": "markdown",
   "metadata": {},
   "source": [
    "## 결측치 시각화 하기\n",
    "* missingno는 별도로 설치해야 하는 시각화 도구 입니다. 결측치를 시각화해서 볼 수 있습니다."
   ]
  },
  {
   "cell_type": "code",
   "execution_count": 43,
   "metadata": {},
   "outputs": [],
   "source": [
    "#!pip install missingno"
   ]
  },
  {
   "cell_type": "code",
   "execution_count": 44,
   "metadata": {},
   "outputs": [
    {
     "data": {
      "text/plain": [
       "<matplotlib.axes._subplots.AxesSubplot at 0x1bdef48bc40>"
      ]
     },
     "execution_count": 44,
     "metadata": {},
     "output_type": "execute_result"
    },
    {
     "name": "stderr",
     "output_type": "stream",
     "text": [
      "C:\\ProgramData\\Anaconda3\\lib\\site-packages\\matplotlib\\backends\\backend_agg.py:214: RuntimeWarning: Glyph 51088 missing from current font.\n",
      "C:\\ProgramData\\Anaconda3\\lib\\site-packages\\matplotlib\\backends\\backend_agg.py:214: RuntimeWarning: Glyph 51204 missing from current font.\n",
      "C:\\ProgramData\\Anaconda3\\lib\\site-packages\\matplotlib\\backends\\backend_agg.py:214: RuntimeWarning: Glyph 44144 missing from current font.\n",
      "C:\\ProgramData\\Anaconda3\\lib\\site-packages\\matplotlib\\backends\\backend_agg.py:214: RuntimeWarning: Glyph 48264 missing from current font.\n",
      "C:\\ProgramData\\Anaconda3\\lib\\site-packages\\matplotlib\\backends\\backend_agg.py:214: RuntimeWarning: Glyph 54840 missing from current font.\n",
      "C:\\ProgramData\\Anaconda3\\lib\\site-packages\\matplotlib\\backends\\backend_agg.py:214: RuntimeWarning: Glyph 45824 missing from current font.\n",
      "C:\\ProgramData\\Anaconda3\\lib\\site-packages\\matplotlib\\backends\\backend_agg.py:214: RuntimeWarning: Glyph 50668 missing from current font.\n",
      "C:\\ProgramData\\Anaconda3\\lib\\site-packages\\matplotlib\\backends\\backend_agg.py:214: RuntimeWarning: Glyph 51068 missing from current font.\n",
      "C:\\ProgramData\\Anaconda3\\lib\\site-packages\\matplotlib\\backends\\backend_agg.py:214: RuntimeWarning: Glyph 49884 missing from current font.\n",
      "C:\\ProgramData\\Anaconda3\\lib\\site-packages\\matplotlib\\backends\\backend_agg.py:214: RuntimeWarning: Glyph 49548 missing from current font.\n",
      "C:\\ProgramData\\Anaconda3\\lib\\site-packages\\matplotlib\\backends\\backend_agg.py:214: RuntimeWarning: Glyph 47749 missing from current font.\n",
      "C:\\ProgramData\\Anaconda3\\lib\\site-packages\\matplotlib\\backends\\backend_agg.py:214: RuntimeWarning: Glyph 52824 missing from current font.\n",
      "C:\\ProgramData\\Anaconda3\\lib\\site-packages\\matplotlib\\backends\\backend_agg.py:214: RuntimeWarning: Glyph 48152 missing from current font.\n",
      "C:\\ProgramData\\Anaconda3\\lib\\site-packages\\matplotlib\\backends\\backend_agg.py:214: RuntimeWarning: Glyph 45225 missing from current font.\n",
      "C:\\ProgramData\\Anaconda3\\lib\\site-packages\\matplotlib\\backends\\backend_agg.py:214: RuntimeWarning: Glyph 51060 missing from current font.\n",
      "C:\\ProgramData\\Anaconda3\\lib\\site-packages\\matplotlib\\backends\\backend_agg.py:214: RuntimeWarning: Glyph 50857 missing from current font.\n",
      "C:\\ProgramData\\Anaconda3\\lib\\site-packages\\matplotlib\\backends\\backend_agg.py:214: RuntimeWarning: Glyph 44036 missing from current font.\n",
      "C:\\ProgramData\\Anaconda3\\lib\\site-packages\\matplotlib\\backends\\backend_agg.py:214: RuntimeWarning: Glyph 48516 missing from current font.\n",
      "C:\\ProgramData\\Anaconda3\\lib\\site-packages\\matplotlib\\backends\\backend_agg.py:214: RuntimeWarning: Glyph 47532 missing from current font.\n",
      "C:\\ProgramData\\Anaconda3\\lib\\site-packages\\matplotlib\\backends\\backend_agg.py:183: RuntimeWarning: Glyph 51088 missing from current font.\n",
      "C:\\ProgramData\\Anaconda3\\lib\\site-packages\\matplotlib\\backends\\backend_agg.py:183: RuntimeWarning: Glyph 51204 missing from current font.\n",
      "C:\\ProgramData\\Anaconda3\\lib\\site-packages\\matplotlib\\backends\\backend_agg.py:183: RuntimeWarning: Glyph 44144 missing from current font.\n",
      "C:\\ProgramData\\Anaconda3\\lib\\site-packages\\matplotlib\\backends\\backend_agg.py:183: RuntimeWarning: Glyph 48264 missing from current font.\n",
      "C:\\ProgramData\\Anaconda3\\lib\\site-packages\\matplotlib\\backends\\backend_agg.py:183: RuntimeWarning: Glyph 54840 missing from current font.\n",
      "C:\\ProgramData\\Anaconda3\\lib\\site-packages\\matplotlib\\backends\\backend_agg.py:183: RuntimeWarning: Glyph 45824 missing from current font.\n",
      "C:\\ProgramData\\Anaconda3\\lib\\site-packages\\matplotlib\\backends\\backend_agg.py:183: RuntimeWarning: Glyph 50668 missing from current font.\n",
      "C:\\ProgramData\\Anaconda3\\lib\\site-packages\\matplotlib\\backends\\backend_agg.py:183: RuntimeWarning: Glyph 51068 missing from current font.\n",
      "C:\\ProgramData\\Anaconda3\\lib\\site-packages\\matplotlib\\backends\\backend_agg.py:183: RuntimeWarning: Glyph 49884 missing from current font.\n",
      "C:\\ProgramData\\Anaconda3\\lib\\site-packages\\matplotlib\\backends\\backend_agg.py:183: RuntimeWarning: Glyph 49548 missing from current font.\n",
      "C:\\ProgramData\\Anaconda3\\lib\\site-packages\\matplotlib\\backends\\backend_agg.py:183: RuntimeWarning: Glyph 47749 missing from current font.\n",
      "C:\\ProgramData\\Anaconda3\\lib\\site-packages\\matplotlib\\backends\\backend_agg.py:183: RuntimeWarning: Glyph 52824 missing from current font.\n",
      "C:\\ProgramData\\Anaconda3\\lib\\site-packages\\matplotlib\\backends\\backend_agg.py:183: RuntimeWarning: Glyph 48152 missing from current font.\n",
      "C:\\ProgramData\\Anaconda3\\lib\\site-packages\\matplotlib\\backends\\backend_agg.py:183: RuntimeWarning: Glyph 45225 missing from current font.\n",
      "C:\\ProgramData\\Anaconda3\\lib\\site-packages\\matplotlib\\backends\\backend_agg.py:183: RuntimeWarning: Glyph 51060 missing from current font.\n",
      "C:\\ProgramData\\Anaconda3\\lib\\site-packages\\matplotlib\\backends\\backend_agg.py:183: RuntimeWarning: Glyph 50857 missing from current font.\n",
      "C:\\ProgramData\\Anaconda3\\lib\\site-packages\\matplotlib\\backends\\backend_agg.py:183: RuntimeWarning: Glyph 44036 missing from current font.\n",
      "C:\\ProgramData\\Anaconda3\\lib\\site-packages\\matplotlib\\backends\\backend_agg.py:183: RuntimeWarning: Glyph 48516 missing from current font.\n",
      "C:\\ProgramData\\Anaconda3\\lib\\site-packages\\matplotlib\\backends\\backend_agg.py:183: RuntimeWarning: Glyph 47532 missing from current font.\n"
     ]
    },
    {
     "data": {
      "image/png": "[encoded data removed]",
      "text/plain": [
       "<Figure size 864x360 with 2 Axes>"
      ]
     },
     "metadata": {
      "needs_background": "light"
     },
     "output_type": "display_data"
    }
   ],
   "source": [
    "# 결측치 보기\n",
    "import missingno as msno\n",
    "\n",
    "msno.matrix(df, figsize=(12,5))"
   ]
  },
  {
   "cell_type": "markdown",
   "metadata": {},
   "source": [
    "## 대여소별 대여|반납 현황"
   ]
  },
  {
   "cell_type": "code",
   "execution_count": 45,
   "metadata": {},
   "outputs": [],
   "source": [
    "#df['대여대여소번호'].unique().shape[0]"
   ]
  },
  {
   "cell_type": "code",
   "execution_count": 46,
   "metadata": {},
   "outputs": [],
   "source": [
    "# print('# 대여소 수')\n",
    "# print('대여 대여소: ', df['대여대여소번호'].unique().shape[0])\n",
    "# print('반납 대여소: ', df['반납대여소번호'].unique().shape[0])"
   ]
  },
  {
   "cell_type": "code",
   "execution_count": 47,
   "metadata": {},
   "outputs": [],
   "source": [
    "# df['대여대여소번호'].value_counts().tail(10)"
   ]
  },
  {
   "cell_type": "markdown",
   "metadata": {},
   "source": [
    "* 대여 대여소번호에 상암센터 정비실과 위트콤 같은 숫자가 아닌 곳들이 있음"
   ]
  },
  {
   "cell_type": "code",
   "execution_count": 48,
   "metadata": {},
   "outputs": [
    {
     "data": {
      "text/plain": [
       " 여의나루역 1번출구 앞               4073\n",
       " 뚝섬유원지역 1번출구 앞              3369\n",
       " 홍대입구역 2번출구 앞               3174\n",
       " 봉림교 교통섬                    2709\n",
       " 롯데월드타워(잠실역2번출구 쪽)          2637\n",
       " 고속터미널역 8-1번, 8-2번 출구 사이    2453\n",
       " 마포구민체육센터 앞                 2178\n",
       " 신도림역 1번 출구 앞               2022\n",
       " 안암로터리 버스정류장 앞              1987\n",
       " 잠실새내역 5번 출구 뒤              1841\n",
       "Name: 대여대여소명, dtype: int64"
      ]
     },
     "execution_count": 48,
     "metadata": {},
     "output_type": "execute_result"
    }
   ],
   "source": [
    "# 대여량이 많은 상위 대여소\n",
    "df['대여대여소명'].value_counts().head(10)"
   ]
  },
  {
   "cell_type": "code",
   "execution_count": 49,
   "metadata": {},
   "outputs": [
    {
     "data": {
      "text/plain": [
       " 홍대입구역 2번출구 앞               3896\n",
       " 뚝섬유원지역 1번출구 앞              3814\n",
       " 여의나루역 1번출구 앞               3730\n",
       " 봉림교 교통섬                    2762\n",
       " 롯데월드타워(잠실역2번출구 쪽)          2624\n",
       " 고속터미널역 8-1번, 8-2번 출구 사이    2495\n",
       " 마포구민체육센터 앞                 2454\n",
       " 안암로터리 버스정류장 앞              2110\n",
       " 신도림역 1번 출구 앞               1961\n",
       " CJ 드림시티                    1932\n",
       "Name: 반납대여소명, dtype: int64"
      ]
     },
     "execution_count": 49,
     "metadata": {},
     "output_type": "execute_result"
    }
   ],
   "source": [
    "# 반납량이 많은 상위 대여소\n",
    "df['반납대여소명'].value_counts().head(10)"
   ]
  },
  {
   "cell_type": "markdown",
   "metadata": {},
   "source": [
    "1. 대여반납이 많은 상위 대여소인 홍대입구역, 여의나루역, 뚝섬유원지, 롯데월드타워는 모두 강이나 호수를 인근에 두고 있다. \n",
    "2. 성대입구나 안암로터리 버스정류장은 대학가 인근이다."
   ]
  },
  {
   "cell_type": "code",
   "execution_count": 50,
   "metadata": {},
   "outputs": [
    {
     "data": {
      "text/plain": [
       "대여대여소명\n",
       "  강동구청 앞          3823.703704\n",
       "  둔촌역 3번 출입구      3733.403042\n",
       " (구)신한은행 중랑교지점    4562.977346\n",
       " (구)합정동 주민센터      4876.831169\n",
       " 3호선 매봉역 3번출구앞    5489.920319\n",
       "                     ...     \n",
       "이수역 4번 출구         4728.075370\n",
       "자양중앙나들목           4192.175503\n",
       "중랑센터              4281.914894\n",
       "청계산입구역 1번출구       2695.479705\n",
       "하나은행 방배동지점 앞      6159.078341\n",
       "Name: 이용거리(M), Length: 1267, dtype: float64"
      ]
     },
     "execution_count": 50,
     "metadata": {},
     "output_type": "execute_result"
    }
   ],
   "source": [
    "df.groupby(['대여대여소명'])['이용거리(M)'].mean()"
   ]
  },
  {
   "cell_type": "code",
   "execution_count": 51,
   "metadata": {},
   "outputs": [
    {
     "data": {
      "text/html": [
       "<div>\n",
       "<style scoped>\n",
       "    .dataframe tbody tr th:only-of-type {\n",
       "        vertical-align: middle;\n",
       "    }\n",
       "\n",
       "    .dataframe tbody tr th {\n",
       "        vertical-align: top;\n",
       "    }\n",
       "\n",
       "    .dataframe thead th {\n",
       "        text-align: right;\n",
       "    }\n",
       "</style>\n",
       "<table border=\"1\" class=\"dataframe\">\n",
       "  <thead>\n",
       "    <tr style=\"text-align: right;\">\n",
       "      <th></th>\n",
       "      <th>대여대여소명</th>\n",
       "      <th>이용거리(M)</th>\n",
       "    </tr>\n",
       "  </thead>\n",
       "  <tbody>\n",
       "    <tr>\n",
       "      <th>353</th>\n",
       "      <td>동작역 5번출구 동작주차공원</td>\n",
       "      <td>10454.240000</td>\n",
       "    </tr>\n",
       "    <tr>\n",
       "      <th>330</th>\n",
       "      <td>독산보도육교 앞 자전거 보관소</td>\n",
       "      <td>10401.840607</td>\n",
       "    </tr>\n",
       "    <tr>\n",
       "      <th>810</th>\n",
       "      <td>신한은행 시흥대로금융센터지점</td>\n",
       "      <td>9857.738095</td>\n",
       "    </tr>\n",
       "    <tr>\n",
       "      <th>280</th>\n",
       "      <td>달맞이공원</td>\n",
       "      <td>9639.504950</td>\n",
       "    </tr>\n",
       "    <tr>\n",
       "      <th>1166</th>\n",
       "      <td>한내근린공원 남측</td>\n",
       "      <td>9419.090909</td>\n",
       "    </tr>\n",
       "    <tr>\n",
       "      <th>1197</th>\n",
       "      <td>현대자동차서비스 앞</td>\n",
       "      <td>9364.282178</td>\n",
       "    </tr>\n",
       "    <tr>\n",
       "      <th>419</th>\n",
       "      <td>망원초록길 입구</td>\n",
       "      <td>9160.294118</td>\n",
       "    </tr>\n",
       "    <tr>\n",
       "      <th>1194</th>\n",
       "      <td>현대고등학교 건너편</td>\n",
       "      <td>9047.614350</td>\n",
       "    </tr>\n",
       "    <tr>\n",
       "      <th>1231</th>\n",
       "      <td>흑석역 1번출구</td>\n",
       "      <td>8938.909300</td>\n",
       "    </tr>\n",
       "    <tr>\n",
       "      <th>1113</th>\n",
       "      <td>청계천 생태교실 앞</td>\n",
       "      <td>8923.918819</td>\n",
       "    </tr>\n",
       "  </tbody>\n",
       "</table>\n",
       "</div>"
      ],
      "text/plain": [
       "                 대여대여소명       이용거리(M)\n",
       "353     동작역 5번출구 동작주차공원  10454.240000\n",
       "330    독산보도육교 앞 자전거 보관소  10401.840607\n",
       "810     신한은행 시흥대로금융센터지점   9857.738095\n",
       "280               달맞이공원   9639.504950\n",
       "1166          한내근린공원 남측   9419.090909\n",
       "1197         현대자동차서비스 앞   9364.282178\n",
       "419            망원초록길 입구   9160.294118\n",
       "1194         현대고등학교 건너편   9047.614350\n",
       "1231           흑석역 1번출구   8938.909300\n",
       "1113         청계천 생태교실 앞   8923.918819"
      ]
     },
     "execution_count": 51,
     "metadata": {},
     "output_type": "execute_result"
    }
   ],
   "source": [
    "# 평균 이용거리가 긴 상위 대여소 \n",
    "# df.groupby(['대여대여소명'])['이용거리(M)'].mean() 의 결과는 Series객체이지만 \n",
    "# reset_index()를 하면 DataFrame이 된다.\n",
    "df.groupby(['대여대여소명'])['이용거리(M)'].mean().reset_index()\\\n",
    ".sort_values(by='이용거리(M)', ascending=False).head(10)"
   ]
  },
  {
   "cell_type": "code",
   "execution_count": 52,
   "metadata": {},
   "outputs": [
    {
     "data": {
      "text/html": [
       "<div>\n",
       "<style scoped>\n",
       "    .dataframe tbody tr th:only-of-type {\n",
       "        vertical-align: middle;\n",
       "    }\n",
       "\n",
       "    .dataframe tbody tr th {\n",
       "        vertical-align: top;\n",
       "    }\n",
       "\n",
       "    .dataframe thead th {\n",
       "        text-align: right;\n",
       "    }\n",
       "</style>\n",
       "<table border=\"1\" class=\"dataframe\">\n",
       "  <thead>\n",
       "    <tr style=\"text-align: right;\">\n",
       "      <th></th>\n",
       "      <th>대여대여소명</th>\n",
       "      <th>이용거리(M)</th>\n",
       "    </tr>\n",
       "  </thead>\n",
       "  <tbody>\n",
       "    <tr>\n",
       "      <th>1249</th>\n",
       "      <td>상암센터 정비실</td>\n",
       "      <td>256.250000</td>\n",
       "    </tr>\n",
       "    <tr>\n",
       "      <th>188</th>\n",
       "      <td>국군복지단</td>\n",
       "      <td>1828.244275</td>\n",
       "    </tr>\n",
       "    <tr>\n",
       "      <th>7</th>\n",
       "      <td>CJ오쇼핑앞</td>\n",
       "      <td>1832.727273</td>\n",
       "    </tr>\n",
       "    <tr>\n",
       "      <th>100</th>\n",
       "      <td>건국대학교 과학관(이과대) 앞</td>\n",
       "      <td>2143.065327</td>\n",
       "    </tr>\n",
       "    <tr>\n",
       "      <th>937</th>\n",
       "      <td>원남동사거리</td>\n",
       "      <td>2234.752294</td>\n",
       "    </tr>\n",
       "  </tbody>\n",
       "</table>\n",
       "</div>"
      ],
      "text/plain": [
       "                 대여대여소명      이용거리(M)\n",
       "1249           상암센터 정비실   256.250000\n",
       "188               국군복지단  1828.244275\n",
       "7                CJ오쇼핑앞  1832.727273\n",
       "100    건국대학교 과학관(이과대) 앞  2143.065327\n",
       "937              원남동사거리  2234.752294"
      ]
     },
     "execution_count": 52,
     "metadata": {},
     "output_type": "execute_result"
    }
   ],
   "source": [
    "# 평균 이용거리가 짧은 대여소\n",
    "df.groupby(['대여대여소명'])['이용거리(M)'].mean().reset_index()\\\n",
    ".sort_values(by='이용거리(M)', ascending=True).head()"
   ]
  },
  {
   "cell_type": "code",
   "execution_count": 53,
   "metadata": {},
   "outputs": [
    {
     "data": {
      "text/html": [
       "<div>\n",
       "<style scoped>\n",
       "    .dataframe tbody tr th:only-of-type {\n",
       "        vertical-align: middle;\n",
       "    }\n",
       "\n",
       "    .dataframe tbody tr th {\n",
       "        vertical-align: top;\n",
       "    }\n",
       "\n",
       "    .dataframe thead th {\n",
       "        text-align: right;\n",
       "    }\n",
       "</style>\n",
       "<table border=\"1\" class=\"dataframe\">\n",
       "  <thead>\n",
       "    <tr style=\"text-align: right;\">\n",
       "      <th></th>\n",
       "      <th>대여대여소명</th>\n",
       "      <th>이용시간(분)</th>\n",
       "    </tr>\n",
       "  </thead>\n",
       "  <tbody>\n",
       "    <tr>\n",
       "      <th>280</th>\n",
       "      <td>달맞이공원</td>\n",
       "      <td>59.782178</td>\n",
       "    </tr>\n",
       "    <tr>\n",
       "      <th>353</th>\n",
       "      <td>동작역 5번출구 동작주차공원</td>\n",
       "      <td>59.484000</td>\n",
       "    </tr>\n",
       "    <tr>\n",
       "      <th>93</th>\n",
       "      <td>개화동상사마을종점 버스정류장</td>\n",
       "      <td>55.500000</td>\n",
       "    </tr>\n",
       "    <tr>\n",
       "      <th>649</th>\n",
       "      <td>서울숲 남문 버스정류소 옆</td>\n",
       "      <td>55.495074</td>\n",
       "    </tr>\n",
       "    <tr>\n",
       "      <th>648</th>\n",
       "      <td>서울숲 관리사무소</td>\n",
       "      <td>55.492228</td>\n",
       "    </tr>\n",
       "  </tbody>\n",
       "</table>\n",
       "</div>"
      ],
      "text/plain": [
       "               대여대여소명    이용시간(분)\n",
       "280             달맞이공원  59.782178\n",
       "353   동작역 5번출구 동작주차공원  59.484000\n",
       "93    개화동상사마을종점 버스정류장  55.500000\n",
       "649    서울숲 남문 버스정류소 옆  55.495074\n",
       "648         서울숲 관리사무소  55.492228"
      ]
     },
     "execution_count": 53,
     "metadata": {},
     "output_type": "execute_result"
    }
   ],
   "source": [
    "# 평균 이용시간이 많은 상위 대여소\n",
    "df.groupby(['대여대여소명'])['이용시간(분)'].mean().reset_index()\\\n",
    ".sort_values(by='이용시간(분)', ascending=False).head()"
   ]
  },
  {
   "cell_type": "code",
   "execution_count": 54,
   "metadata": {},
   "outputs": [
    {
     "data": {
      "text/html": [
       "<div>\n",
       "<style scoped>\n",
       "    .dataframe tbody tr th:only-of-type {\n",
       "        vertical-align: middle;\n",
       "    }\n",
       "\n",
       "    .dataframe tbody tr th {\n",
       "        vertical-align: top;\n",
       "    }\n",
       "\n",
       "    .dataframe thead th {\n",
       "        text-align: right;\n",
       "    }\n",
       "</style>\n",
       "<table border=\"1\" class=\"dataframe\">\n",
       "  <thead>\n",
       "    <tr style=\"text-align: right;\">\n",
       "      <th></th>\n",
       "      <th>대여대여소명</th>\n",
       "      <th>이용시간(분)</th>\n",
       "    </tr>\n",
       "  </thead>\n",
       "  <tbody>\n",
       "    <tr>\n",
       "      <th>7</th>\n",
       "      <td>CJ오쇼핑앞</td>\n",
       "      <td>11.416667</td>\n",
       "    </tr>\n",
       "    <tr>\n",
       "      <th>1249</th>\n",
       "      <td>상암센터 정비실</td>\n",
       "      <td>12.000000</td>\n",
       "    </tr>\n",
       "    <tr>\n",
       "      <th>188</th>\n",
       "      <td>국군복지단</td>\n",
       "      <td>12.022901</td>\n",
       "    </tr>\n",
       "    <tr>\n",
       "      <th>1089</th>\n",
       "      <td>참새공원(백곡경노당)</td>\n",
       "      <td>12.666667</td>\n",
       "    </tr>\n",
       "    <tr>\n",
       "      <th>575</th>\n",
       "      <td>삼일초등학교 인근</td>\n",
       "      <td>14.460274</td>\n",
       "    </tr>\n",
       "  </tbody>\n",
       "</table>\n",
       "</div>"
      ],
      "text/plain": [
       "            대여대여소명    이용시간(분)\n",
       "7           CJ오쇼핑앞  11.416667\n",
       "1249      상암센터 정비실  12.000000\n",
       "188          국군복지단  12.022901\n",
       "1089   참새공원(백곡경노당)  12.666667\n",
       "575      삼일초등학교 인근  14.460274"
      ]
     },
     "execution_count": 54,
     "metadata": {},
     "output_type": "execute_result"
    }
   ],
   "source": [
    "# 평균 이용시간이 적은 상위 대여소\n",
    "df.groupby(['대여대여소명'])['이용시간(분)'].mean().reset_index()\\\n",
    ".sort_values(by='이용시간(분)', ascending=True).head()"
   ]
  },
  {
   "cell_type": "markdown",
   "metadata": {},
   "source": [
    "## 시계열 데이터 보기"
   ]
  },
  {
   "cell_type": "code",
   "execution_count": 55,
   "metadata": {},
   "outputs": [
    {
     "data": {
      "text/plain": [
       "자전거번호      object\n",
       "대여일시       object\n",
       "대여대여소번호    object\n",
       "대여대여소명     object\n",
       "대여거치대       int64\n",
       "반납일시       object\n",
       "반납대여소번호    object\n",
       "반납대여소명     object\n",
       "반납거치대       int64\n",
       "이용시간(분)     int64\n",
       "이용거리(M)     int64\n",
       "dtype: object"
      ]
     },
     "execution_count": 55,
     "metadata": {},
     "output_type": "execute_result"
    }
   ],
   "source": [
    "df.dtypes"
   ]
  },
  {
   "cell_type": "code",
   "execution_count": 56,
   "metadata": {},
   "outputs": [
    {
     "data": {
      "text/plain": [
       "자전거번호              object\n",
       "대여일시       datetime64[ns]\n",
       "대여대여소번호            object\n",
       "대여대여소명             object\n",
       "대여거치대               int64\n",
       "반납일시       datetime64[ns]\n",
       "반납대여소번호            object\n",
       "반납대여소명             object\n",
       "반납거치대               int64\n",
       "이용시간(분)             int64\n",
       "이용거리(M)             int64\n",
       "dtype: object"
      ]
     },
     "execution_count": 56,
     "metadata": {},
     "output_type": "execute_result"
    }
   ],
   "source": [
    "df['대여일시'] = pd.to_datetime(df['대여일시'])\n",
    "df['반납일시'] = pd.to_datetime(df['반납일시'])\n",
    "df.dtypes"
   ]
  },
  {
   "cell_type": "code",
   "execution_count": 57,
   "metadata": {},
   "outputs": [
    {
     "data": {
      "text/plain": [
       "Index(['자전거번호', '대여일시', '대여대여소번호', '대여대여소명', '대여거치대', '반납일시', '반납대여소번호',\n",
       "       '반납대여소명', '반납거치대', '이용시간(분)', '이용거리(M)', '대여년', '대여월', '대여일', '대여시',\n",
       "       '대여분', '대여요일'],\n",
       "      dtype='object')"
      ]
     },
     "execution_count": 57,
     "metadata": {},
     "output_type": "execute_result"
    }
   ],
   "source": [
    "df['대여년'] = df['대여일시'].dt.year\n",
    "df['대여월'] = df['대여일시'].dt.month\n",
    "df['대여일'] = df['대여일시'].dt.day\n",
    "df['대여시'] = df['대여일시'].dt.hour\n",
    "df['대여분'] = df['대여일시'].dt.minute\n",
    "df['대여요일'] = df['대여일시'].dt.dayofweek\n",
    "df.columns"
   ]
  },
  {
   "cell_type": "code",
   "execution_count": 58,
   "metadata": {},
   "outputs": [
    {
     "data": {
      "text/plain": [
       "Index(['자전거번호', '대여일시', '대여대여소번호', '대여대여소명', '대여거치대', '반납일시', '반납대여소번호',\n",
       "       '반납대여소명', '반납거치대', '이용시간(분)', '이용거리(M)', '대여년', '대여월', '대여일', '대여시',\n",
       "       '대여분', '대여요일', '반납년', '반납월', '반납일', '반납시', '반납분', '반납요일'],\n",
       "      dtype='object')"
      ]
     },
     "execution_count": 58,
     "metadata": {},
     "output_type": "execute_result"
    }
   ],
   "source": [
    "df['반납년'] = df['반납일시'].dt.year\n",
    "df['반납월'] = df['반납일시'].dt.month\n",
    "df['반납일'] = df['반납일시'].dt.day\n",
    "df['반납시'] = df['반납일시'].dt.hour\n",
    "df['반납분'] = df['반납일시'].dt.minute\n",
    "df['반납요일'] = df['반납일시'].dt.dayofweek\n",
    "df.columns"
   ]
  },
  {
   "cell_type": "markdown",
   "metadata": {},
   "source": [
    "## 일자별 대여|반납 현황\n",
    "* 날짜에 따라 대여|반납 횟수를 확인한다."
   ]
  },
  {
   "cell_type": "code",
   "execution_count": 59,
   "metadata": {},
   "outputs": [
    {
     "data": {
      "text/html": [
       "<div>\n",
       "<style scoped>\n",
       "    .dataframe tbody tr th:only-of-type {\n",
       "        vertical-align: middle;\n",
       "    }\n",
       "\n",
       "    .dataframe tbody tr th {\n",
       "        vertical-align: top;\n",
       "    }\n",
       "\n",
       "    .dataframe thead th {\n",
       "        text-align: right;\n",
       "    }\n",
       "</style>\n",
       "<table border=\"1\" class=\"dataframe\">\n",
       "  <thead>\n",
       "    <tr style=\"text-align: right;\">\n",
       "      <th></th>\n",
       "      <th>index</th>\n",
       "      <th>대여일</th>\n",
       "    </tr>\n",
       "  </thead>\n",
       "  <tbody>\n",
       "    <tr>\n",
       "      <th>0</th>\n",
       "      <td>21</td>\n",
       "      <td>47319</td>\n",
       "    </tr>\n",
       "    <tr>\n",
       "      <th>1</th>\n",
       "      <td>22</td>\n",
       "      <td>47024</td>\n",
       "    </tr>\n",
       "    <tr>\n",
       "      <th>2</th>\n",
       "      <td>19</td>\n",
       "      <td>46839</td>\n",
       "    </tr>\n",
       "    <tr>\n",
       "      <th>3</th>\n",
       "      <td>20</td>\n",
       "      <td>46107</td>\n",
       "    </tr>\n",
       "    <tr>\n",
       "      <th>4</th>\n",
       "      <td>25</td>\n",
       "      <td>46105</td>\n",
       "    </tr>\n",
       "    <tr>\n",
       "      <th>5</th>\n",
       "      <td>16</td>\n",
       "      <td>46038</td>\n",
       "    </tr>\n",
       "    <tr>\n",
       "      <th>6</th>\n",
       "      <td>23</td>\n",
       "      <td>45274</td>\n",
       "    </tr>\n",
       "    <tr>\n",
       "      <th>7</th>\n",
       "      <td>17</td>\n",
       "      <td>43161</td>\n",
       "    </tr>\n",
       "    <tr>\n",
       "      <th>8</th>\n",
       "      <td>29</td>\n",
       "      <td>42313</td>\n",
       "    </tr>\n",
       "    <tr>\n",
       "      <th>9</th>\n",
       "      <td>27</td>\n",
       "      <td>40698</td>\n",
       "    </tr>\n",
       "    <tr>\n",
       "      <th>10</th>\n",
       "      <td>24</td>\n",
       "      <td>39164</td>\n",
       "    </tr>\n",
       "    <tr>\n",
       "      <th>11</th>\n",
       "      <td>18</td>\n",
       "      <td>35828</td>\n",
       "    </tr>\n",
       "    <tr>\n",
       "      <th>12</th>\n",
       "      <td>28</td>\n",
       "      <td>27453</td>\n",
       "    </tr>\n",
       "    <tr>\n",
       "      <th>13</th>\n",
       "      <td>30</td>\n",
       "      <td>26669</td>\n",
       "    </tr>\n",
       "    <tr>\n",
       "      <th>14</th>\n",
       "      <td>26</td>\n",
       "      <td>6312</td>\n",
       "    </tr>\n",
       "  </tbody>\n",
       "</table>\n",
       "</div>"
      ],
      "text/plain": [
       "    index    대여일\n",
       "0      21  47319\n",
       "1      22  47024\n",
       "2      19  46839\n",
       "3      20  46107\n",
       "4      25  46105\n",
       "5      16  46038\n",
       "6      23  45274\n",
       "7      17  43161\n",
       "8      29  42313\n",
       "9      27  40698\n",
       "10     24  39164\n",
       "11     18  35828\n",
       "12     28  27453\n",
       "13     30  26669\n",
       "14     26   6312"
      ]
     },
     "execution_count": 59,
     "metadata": {},
     "output_type": "execute_result"
    }
   ],
   "source": [
    "df['대여일'].value_counts().reset_index()"
   ]
  },
  {
   "cell_type": "code",
   "execution_count": 60,
   "metadata": {},
   "outputs": [
    {
     "data": {
      "text/html": [
       "<div>\n",
       "<style scoped>\n",
       "    .dataframe tbody tr th:only-of-type {\n",
       "        vertical-align: middle;\n",
       "    }\n",
       "\n",
       "    .dataframe tbody tr th {\n",
       "        vertical-align: top;\n",
       "    }\n",
       "\n",
       "    .dataframe thead th {\n",
       "        text-align: right;\n",
       "    }\n",
       "</style>\n",
       "<table border=\"1\" class=\"dataframe\">\n",
       "  <thead>\n",
       "    <tr style=\"text-align: right;\">\n",
       "      <th></th>\n",
       "      <th>index</th>\n",
       "      <th>반납일</th>\n",
       "    </tr>\n",
       "  </thead>\n",
       "  <tbody>\n",
       "    <tr>\n",
       "      <th>0</th>\n",
       "      <td>21</td>\n",
       "      <td>47232</td>\n",
       "    </tr>\n",
       "    <tr>\n",
       "      <th>1</th>\n",
       "      <td>19</td>\n",
       "      <td>46878</td>\n",
       "    </tr>\n",
       "    <tr>\n",
       "      <th>2</th>\n",
       "      <td>22</td>\n",
       "      <td>46670</td>\n",
       "    </tr>\n",
       "    <tr>\n",
       "      <th>3</th>\n",
       "      <td>25</td>\n",
       "      <td>46276</td>\n",
       "    </tr>\n",
       "    <tr>\n",
       "      <th>4</th>\n",
       "      <td>20</td>\n",
       "      <td>46085</td>\n",
       "    </tr>\n",
       "    <tr>\n",
       "      <th>5</th>\n",
       "      <td>23</td>\n",
       "      <td>45695</td>\n",
       "    </tr>\n",
       "    <tr>\n",
       "      <th>6</th>\n",
       "      <td>16</td>\n",
       "      <td>44701</td>\n",
       "    </tr>\n",
       "    <tr>\n",
       "      <th>7</th>\n",
       "      <td>17</td>\n",
       "      <td>43669</td>\n",
       "    </tr>\n",
       "    <tr>\n",
       "      <th>8</th>\n",
       "      <td>29</td>\n",
       "      <td>41498</td>\n",
       "    </tr>\n",
       "    <tr>\n",
       "      <th>9</th>\n",
       "      <td>27</td>\n",
       "      <td>40450</td>\n",
       "    </tr>\n",
       "    <tr>\n",
       "      <th>10</th>\n",
       "      <td>24</td>\n",
       "      <td>38962</td>\n",
       "    </tr>\n",
       "    <tr>\n",
       "      <th>11</th>\n",
       "      <td>18</td>\n",
       "      <td>35781</td>\n",
       "    </tr>\n",
       "    <tr>\n",
       "      <th>12</th>\n",
       "      <td>28</td>\n",
       "      <td>27540</td>\n",
       "    </tr>\n",
       "    <tr>\n",
       "      <th>13</th>\n",
       "      <td>30</td>\n",
       "      <td>27299</td>\n",
       "    </tr>\n",
       "    <tr>\n",
       "      <th>14</th>\n",
       "      <td>26</td>\n",
       "      <td>7028</td>\n",
       "    </tr>\n",
       "    <tr>\n",
       "      <th>15</th>\n",
       "      <td>1</td>\n",
       "      <td>538</td>\n",
       "    </tr>\n",
       "    <tr>\n",
       "      <th>16</th>\n",
       "      <td>3</td>\n",
       "      <td>1</td>\n",
       "    </tr>\n",
       "    <tr>\n",
       "      <th>17</th>\n",
       "      <td>2</td>\n",
       "      <td>1</td>\n",
       "    </tr>\n",
       "  </tbody>\n",
       "</table>\n",
       "</div>"
      ],
      "text/plain": [
       "    index    반납일\n",
       "0      21  47232\n",
       "1      19  46878\n",
       "2      22  46670\n",
       "3      25  46276\n",
       "4      20  46085\n",
       "5      23  45695\n",
       "6      16  44701\n",
       "7      17  43669\n",
       "8      29  41498\n",
       "9      27  40450\n",
       "10     24  38962\n",
       "11     18  35781\n",
       "12     28  27540\n",
       "13     30  27299\n",
       "14     26   7028\n",
       "15      1    538\n",
       "16      3      1\n",
       "17      2      1"
      ]
     },
     "execution_count": 60,
     "metadata": {},
     "output_type": "execute_result"
    }
   ],
   "source": [
    "df['반납일'].value_counts().reset_index()"
   ]
  },
  {
   "cell_type": "code",
   "execution_count": 61,
   "metadata": {},
   "outputs": [
    {
     "name": "stdout",
     "output_type": "stream",
     "text": [
      "(15, 3)\n",
      "(18, 3)\n",
      "(33, 3)\n"
     ]
    },
    {
     "data": {
      "text/html": [
       "<div>\n",
       "<style scoped>\n",
       "    .dataframe tbody tr th:only-of-type {\n",
       "        vertical-align: middle;\n",
       "    }\n",
       "\n",
       "    .dataframe tbody tr th {\n",
       "        vertical-align: top;\n",
       "    }\n",
       "\n",
       "    .dataframe thead th {\n",
       "        text-align: right;\n",
       "    }\n",
       "</style>\n",
       "<table border=\"1\" class=\"dataframe\">\n",
       "  <thead>\n",
       "    <tr style=\"text-align: right;\">\n",
       "      <th></th>\n",
       "      <th>day</th>\n",
       "      <th>count</th>\n",
       "      <th>대여반납</th>\n",
       "    </tr>\n",
       "  </thead>\n",
       "  <tbody>\n",
       "    <tr>\n",
       "      <th>5</th>\n",
       "      <td>16</td>\n",
       "      <td>46038</td>\n",
       "      <td>대여</td>\n",
       "    </tr>\n",
       "    <tr>\n",
       "      <th>7</th>\n",
       "      <td>17</td>\n",
       "      <td>43161</td>\n",
       "      <td>대여</td>\n",
       "    </tr>\n",
       "    <tr>\n",
       "      <th>11</th>\n",
       "      <td>18</td>\n",
       "      <td>35828</td>\n",
       "      <td>대여</td>\n",
       "    </tr>\n",
       "    <tr>\n",
       "      <th>2</th>\n",
       "      <td>19</td>\n",
       "      <td>46839</td>\n",
       "      <td>대여</td>\n",
       "    </tr>\n",
       "    <tr>\n",
       "      <th>3</th>\n",
       "      <td>20</td>\n",
       "      <td>46107</td>\n",
       "      <td>대여</td>\n",
       "    </tr>\n",
       "  </tbody>\n",
       "</table>\n",
       "</div>"
      ],
      "text/plain": [
       "    day  count 대여반납\n",
       "5    16  46038   대여\n",
       "7    17  43161   대여\n",
       "11   18  35828   대여\n",
       "2    19  46839   대여\n",
       "3    20  46107   대여"
      ]
     },
     "execution_count": 61,
     "metadata": {},
     "output_type": "execute_result"
    }
   ],
   "source": [
    "df_day_1 = df['대여일'].value_counts().reset_index()\n",
    "df_day_1.columns = ['day', 'count']\n",
    "\n",
    "df_day_1 = df_day_1.sort_values('day')\n",
    "df_day_1['대여반납'] = '대여'\n",
    "#print(df_day_1)\n",
    "print(df_day_1.shape)\n",
    "\n",
    "df_day_2 = df['반납일'].value_counts().reset_index()\n",
    "df_day_2.columns = ['day', 'count']\n",
    "df_day_2 = df_day_2.sort_values('day')\n",
    "df_day_2['대여반납'] = '반납'\n",
    "#print(df_day_2)\n",
    "print(df_day_2.shape)\n",
    "\n",
    "df_day = pd.concat([df_day_1, df_day_2])\n",
    "print(df_day.shape)\n",
    "df_day.head()"
   ]
  },
  {
   "cell_type": "code",
   "execution_count": 62,
   "metadata": {},
   "outputs": [
    {
     "data": {
      "text/html": [
       "<div>\n",
       "<style scoped>\n",
       "    .dataframe tbody tr th:only-of-type {\n",
       "        vertical-align: middle;\n",
       "    }\n",
       "\n",
       "    .dataframe tbody tr th {\n",
       "        vertical-align: top;\n",
       "    }\n",
       "\n",
       "    .dataframe thead th {\n",
       "        text-align: right;\n",
       "    }\n",
       "</style>\n",
       "<table border=\"1\" class=\"dataframe\">\n",
       "  <thead>\n",
       "    <tr style=\"text-align: right;\">\n",
       "      <th></th>\n",
       "      <th>day</th>\n",
       "      <th>count</th>\n",
       "      <th>대여반납</th>\n",
       "    </tr>\n",
       "  </thead>\n",
       "  <tbody>\n",
       "    <tr>\n",
       "      <th>5</th>\n",
       "      <td>16</td>\n",
       "      <td>46038</td>\n",
       "      <td>대여</td>\n",
       "    </tr>\n",
       "    <tr>\n",
       "      <th>7</th>\n",
       "      <td>17</td>\n",
       "      <td>43161</td>\n",
       "      <td>대여</td>\n",
       "    </tr>\n",
       "    <tr>\n",
       "      <th>11</th>\n",
       "      <td>18</td>\n",
       "      <td>35828</td>\n",
       "      <td>대여</td>\n",
       "    </tr>\n",
       "    <tr>\n",
       "      <th>2</th>\n",
       "      <td>19</td>\n",
       "      <td>46839</td>\n",
       "      <td>대여</td>\n",
       "    </tr>\n",
       "    <tr>\n",
       "      <th>3</th>\n",
       "      <td>20</td>\n",
       "      <td>46107</td>\n",
       "      <td>대여</td>\n",
       "    </tr>\n",
       "    <tr>\n",
       "      <th>0</th>\n",
       "      <td>21</td>\n",
       "      <td>47319</td>\n",
       "      <td>대여</td>\n",
       "    </tr>\n",
       "    <tr>\n",
       "      <th>1</th>\n",
       "      <td>22</td>\n",
       "      <td>47024</td>\n",
       "      <td>대여</td>\n",
       "    </tr>\n",
       "    <tr>\n",
       "      <th>6</th>\n",
       "      <td>23</td>\n",
       "      <td>45274</td>\n",
       "      <td>대여</td>\n",
       "    </tr>\n",
       "    <tr>\n",
       "      <th>10</th>\n",
       "      <td>24</td>\n",
       "      <td>39164</td>\n",
       "      <td>대여</td>\n",
       "    </tr>\n",
       "    <tr>\n",
       "      <th>4</th>\n",
       "      <td>25</td>\n",
       "      <td>46105</td>\n",
       "      <td>대여</td>\n",
       "    </tr>\n",
       "    <tr>\n",
       "      <th>14</th>\n",
       "      <td>26</td>\n",
       "      <td>6312</td>\n",
       "      <td>대여</td>\n",
       "    </tr>\n",
       "    <tr>\n",
       "      <th>9</th>\n",
       "      <td>27</td>\n",
       "      <td>40698</td>\n",
       "      <td>대여</td>\n",
       "    </tr>\n",
       "    <tr>\n",
       "      <th>12</th>\n",
       "      <td>28</td>\n",
       "      <td>27453</td>\n",
       "      <td>대여</td>\n",
       "    </tr>\n",
       "    <tr>\n",
       "      <th>8</th>\n",
       "      <td>29</td>\n",
       "      <td>42313</td>\n",
       "      <td>대여</td>\n",
       "    </tr>\n",
       "    <tr>\n",
       "      <th>13</th>\n",
       "      <td>30</td>\n",
       "      <td>26669</td>\n",
       "      <td>대여</td>\n",
       "    </tr>\n",
       "    <tr>\n",
       "      <th>15</th>\n",
       "      <td>1</td>\n",
       "      <td>538</td>\n",
       "      <td>반납</td>\n",
       "    </tr>\n",
       "    <tr>\n",
       "      <th>17</th>\n",
       "      <td>2</td>\n",
       "      <td>1</td>\n",
       "      <td>반납</td>\n",
       "    </tr>\n",
       "    <tr>\n",
       "      <th>16</th>\n",
       "      <td>3</td>\n",
       "      <td>1</td>\n",
       "      <td>반납</td>\n",
       "    </tr>\n",
       "    <tr>\n",
       "      <th>6</th>\n",
       "      <td>16</td>\n",
       "      <td>44701</td>\n",
       "      <td>반납</td>\n",
       "    </tr>\n",
       "    <tr>\n",
       "      <th>7</th>\n",
       "      <td>17</td>\n",
       "      <td>43669</td>\n",
       "      <td>반납</td>\n",
       "    </tr>\n",
       "    <tr>\n",
       "      <th>11</th>\n",
       "      <td>18</td>\n",
       "      <td>35781</td>\n",
       "      <td>반납</td>\n",
       "    </tr>\n",
       "    <tr>\n",
       "      <th>1</th>\n",
       "      <td>19</td>\n",
       "      <td>46878</td>\n",
       "      <td>반납</td>\n",
       "    </tr>\n",
       "    <tr>\n",
       "      <th>4</th>\n",
       "      <td>20</td>\n",
       "      <td>46085</td>\n",
       "      <td>반납</td>\n",
       "    </tr>\n",
       "    <tr>\n",
       "      <th>0</th>\n",
       "      <td>21</td>\n",
       "      <td>47232</td>\n",
       "      <td>반납</td>\n",
       "    </tr>\n",
       "    <tr>\n",
       "      <th>2</th>\n",
       "      <td>22</td>\n",
       "      <td>46670</td>\n",
       "      <td>반납</td>\n",
       "    </tr>\n",
       "    <tr>\n",
       "      <th>5</th>\n",
       "      <td>23</td>\n",
       "      <td>45695</td>\n",
       "      <td>반납</td>\n",
       "    </tr>\n",
       "    <tr>\n",
       "      <th>10</th>\n",
       "      <td>24</td>\n",
       "      <td>38962</td>\n",
       "      <td>반납</td>\n",
       "    </tr>\n",
       "    <tr>\n",
       "      <th>3</th>\n",
       "      <td>25</td>\n",
       "      <td>46276</td>\n",
       "      <td>반납</td>\n",
       "    </tr>\n",
       "    <tr>\n",
       "      <th>14</th>\n",
       "      <td>26</td>\n",
       "      <td>7028</td>\n",
       "      <td>반납</td>\n",
       "    </tr>\n",
       "    <tr>\n",
       "      <th>9</th>\n",
       "      <td>27</td>\n",
       "      <td>40450</td>\n",
       "      <td>반납</td>\n",
       "    </tr>\n",
       "    <tr>\n",
       "      <th>12</th>\n",
       "      <td>28</td>\n",
       "      <td>27540</td>\n",
       "      <td>반납</td>\n",
       "    </tr>\n",
       "    <tr>\n",
       "      <th>8</th>\n",
       "      <td>29</td>\n",
       "      <td>41498</td>\n",
       "      <td>반납</td>\n",
       "    </tr>\n",
       "    <tr>\n",
       "      <th>13</th>\n",
       "      <td>30</td>\n",
       "      <td>27299</td>\n",
       "      <td>반납</td>\n",
       "    </tr>\n",
       "  </tbody>\n",
       "</table>\n",
       "</div>"
      ],
      "text/plain": [
       "    day  count 대여반납\n",
       "5    16  46038   대여\n",
       "7    17  43161   대여\n",
       "11   18  35828   대여\n",
       "2    19  46839   대여\n",
       "3    20  46107   대여\n",
       "0    21  47319   대여\n",
       "1    22  47024   대여\n",
       "6    23  45274   대여\n",
       "10   24  39164   대여\n",
       "4    25  46105   대여\n",
       "14   26   6312   대여\n",
       "9    27  40698   대여\n",
       "12   28  27453   대여\n",
       "8    29  42313   대여\n",
       "13   30  26669   대여\n",
       "15    1    538   반납\n",
       "17    2      1   반납\n",
       "16    3      1   반납\n",
       "6    16  44701   반납\n",
       "7    17  43669   반납\n",
       "11   18  35781   반납\n",
       "1    19  46878   반납\n",
       "4    20  46085   반납\n",
       "0    21  47232   반납\n",
       "2    22  46670   반납\n",
       "5    23  45695   반납\n",
       "10   24  38962   반납\n",
       "3    25  46276   반납\n",
       "14   26   7028   반납\n",
       "9    27  40450   반납\n",
       "12   28  27540   반납\n",
       "8    29  41498   반납\n",
       "13   30  27299   반납"
      ]
     },
     "execution_count": 62,
     "metadata": {},
     "output_type": "execute_result"
    }
   ],
   "source": [
    "df_day"
   ]
  },
  {
   "cell_type": "code",
   "execution_count": 63,
   "metadata": {},
   "outputs": [],
   "source": [
    "import matplotlib\n",
    "import matplotlib.font_manager as fm\n",
    "\n",
    "font_path = 'C:/Windows/Fonts/malgun.ttf'\n",
    "fontprop = fm.FontProperties(fname=font_path).get_name()\n",
    "matplotlib.rc('font', family = fontprop)"
   ]
  },
  {
   "cell_type": "markdown",
   "metadata": {},
   "source": [
    "ggplot2의 문법을 구성하는 기본 요소는 아래와 같습니다.\n",
    "\n",
    "* 데이터 프레임(data frame)\n",
    "* 색상, 크기 같은 외적 요소(aes)\n",
    "* 점, 선, 모양 같은 기하학적 요소(geoms)\n",
    "* 통계적 처리 방법(stats)\n",
    "* aes에서 사용할 스케일(scale)\n",
    "* geom_bar()에서 아무 것도 설정해 주지 않으면 histogram/도수분포표가 됩니다.\n",
    "* stat 요소를 “identity” (데이터 프레임의 값을 그대로 사용해서 그래프를 그리라는 뜻)으로 설정해 주는 것입니다.\n",
    "* position을 설정하지 않으면 stack bar가 된다.\n",
    "* 막대 모양을 바꿔주려면 geom_bar에서 position 요소를 “dodge”로 설정\n",
    "* coord_flip()는 가로형 막대 그래프"
   ]
  },
  {
   "cell_type": "code",
   "execution_count": 64,
   "metadata": {},
   "outputs": [
    {
     "data": {
      "image/png": "[encoded data removed]",
      "text/plain": [
       "<Figure size 1200x600 with 1 Axes>"
      ]
     },
     "metadata": {},
     "output_type": "display_data"
    },
    {
     "data": {
      "text/plain": [
       "<ggplot: (119704084815)>"
      ]
     },
     "execution_count": 64,
     "metadata": {},
     "output_type": "execute_result"
    }
   ],
   "source": [
    "(ggplot(df_day) \n",
    "       + aes(x='day', y='count', fill='대여반납') \n",
    "       + geom_bar(stat='identity',position='dodge')\n",
    "       + coord_flip()\n",
    "       + theme(text=element_text(family=fontprop),figure_size=(12,6))\n",
    "       + labs(x='대여/반납일', y='대여/반납수', title='일별 자전거 대여/반납수')\n",
    "      )"
   ]
  },
  {
   "cell_type": "code",
   "execution_count": 65,
   "metadata": {},
   "outputs": [
    {
     "data": {
      "image/png": "[encoded data removed]",
      "text/plain": [
       "<Figure size 1200x600 with 1 Axes>"
      ]
     },
     "metadata": {},
     "output_type": "display_data"
    },
    {
     "data": {
      "text/plain": [
       "<ggplot: (119704054399)>"
      ]
     },
     "execution_count": 65,
     "metadata": {},
     "output_type": "execute_result"
    }
   ],
   "source": [
    "(ggplot(df_day)\n",
    " + aes(x='day', y='count', fill='대여반납')\n",
    " + geom_bar(stat='identity', position='dodge')\n",
    " + labs(x='대여일', y='대여수', title='일별 자전거 대여수')\n",
    " + theme(text=element_text(family=fontprop),\n",
    "        figure_size=(12,6))\n",
    ")"
   ]
  },
  {
   "cell_type": "markdown",
   "metadata": {},
   "source": [
    "* 일부 날짜의 데이터만 있다.\n",
    "* 2018년 6월 데이터만 봤을 때 26일에는 대여와 반납모두 적다.\n",
    "* 26일의 일기예보를 보면 장맛비가 내린것을 확인해 볼 수 있다. https://www.youtube.com/watch?v=cYHC8iwfFyU"
   ]
  },
  {
   "cell_type": "markdown",
   "metadata": {},
   "source": [
    "## 요일별 대여|반납 현황\n",
    "* 대여|반납별로 어떤 요일에 주로 대여반납이 되는지 시각화해보기 위해 Tidy Data를 만든다."
   ]
  },
  {
   "cell_type": "code",
   "execution_count": 66,
   "metadata": {},
   "outputs": [
    {
     "name": "stdout",
     "output_type": "stream",
     "text": [
      "(7, 3)\n",
      "(7, 3)\n",
      "(14, 3)\n"
     ]
    },
    {
     "data": {
      "text/html": [
       "<div>\n",
       "<style scoped>\n",
       "    .dataframe tbody tr th:only-of-type {\n",
       "        vertical-align: middle;\n",
       "    }\n",
       "\n",
       "    .dataframe tbody tr th {\n",
       "        vertical-align: top;\n",
       "    }\n",
       "\n",
       "    .dataframe thead th {\n",
       "        text-align: right;\n",
       "    }\n",
       "</style>\n",
       "<table border=\"1\" class=\"dataframe\">\n",
       "  <thead>\n",
       "    <tr style=\"text-align: right;\">\n",
       "      <th></th>\n",
       "      <th>dayofweek</th>\n",
       "      <th>count</th>\n",
       "      <th>대여반납</th>\n",
       "    </tr>\n",
       "  </thead>\n",
       "  <tbody>\n",
       "    <tr>\n",
       "      <th>4</th>\n",
       "      <td>0</td>\n",
       "      <td>81933</td>\n",
       "      <td>대여</td>\n",
       "    </tr>\n",
       "    <tr>\n",
       "      <th>6</th>\n",
       "      <td>1</td>\n",
       "      <td>53151</td>\n",
       "      <td>대여</td>\n",
       "    </tr>\n",
       "    <tr>\n",
       "      <th>2</th>\n",
       "      <td>2</td>\n",
       "      <td>86805</td>\n",
       "      <td>대여</td>\n",
       "    </tr>\n",
       "    <tr>\n",
       "      <th>5</th>\n",
       "      <td>3</td>\n",
       "      <td>74772</td>\n",
       "      <td>대여</td>\n",
       "    </tr>\n",
       "    <tr>\n",
       "      <th>1</th>\n",
       "      <td>4</td>\n",
       "      <td>89337</td>\n",
       "      <td>대여</td>\n",
       "    </tr>\n",
       "    <tr>\n",
       "      <th>0</th>\n",
       "      <td>5</td>\n",
       "      <td>117981</td>\n",
       "      <td>대여</td>\n",
       "    </tr>\n",
       "    <tr>\n",
       "      <th>3</th>\n",
       "      <td>6</td>\n",
       "      <td>82325</td>\n",
       "      <td>대여</td>\n",
       "    </tr>\n",
       "    <tr>\n",
       "      <th>4</th>\n",
       "      <td>0</td>\n",
       "      <td>82058</td>\n",
       "      <td>반납</td>\n",
       "    </tr>\n",
       "    <tr>\n",
       "      <th>6</th>\n",
       "      <td>1</td>\n",
       "      <td>53907</td>\n",
       "      <td>반납</td>\n",
       "    </tr>\n",
       "    <tr>\n",
       "      <th>2</th>\n",
       "      <td>2</td>\n",
       "      <td>86535</td>\n",
       "      <td>반납</td>\n",
       "    </tr>\n",
       "    <tr>\n",
       "      <th>5</th>\n",
       "      <td>3</td>\n",
       "      <td>74772</td>\n",
       "      <td>반납</td>\n",
       "    </tr>\n",
       "    <tr>\n",
       "      <th>1</th>\n",
       "      <td>4</td>\n",
       "      <td>88168</td>\n",
       "      <td>반납</td>\n",
       "    </tr>\n",
       "    <tr>\n",
       "      <th>0</th>\n",
       "      <td>5</td>\n",
       "      <td>117695</td>\n",
       "      <td>반납</td>\n",
       "    </tr>\n",
       "    <tr>\n",
       "      <th>3</th>\n",
       "      <td>6</td>\n",
       "      <td>83169</td>\n",
       "      <td>반납</td>\n",
       "    </tr>\n",
       "  </tbody>\n",
       "</table>\n",
       "</div>"
      ],
      "text/plain": [
       "   dayofweek   count 대여반납\n",
       "4          0   81933   대여\n",
       "6          1   53151   대여\n",
       "2          2   86805   대여\n",
       "5          3   74772   대여\n",
       "1          4   89337   대여\n",
       "0          5  117981   대여\n",
       "3          6   82325   대여\n",
       "4          0   82058   반납\n",
       "6          1   53907   반납\n",
       "2          2   86535   반납\n",
       "5          3   74772   반납\n",
       "1          4   88168   반납\n",
       "0          5  117695   반납\n",
       "3          6   83169   반납"
      ]
     },
     "execution_count": 66,
     "metadata": {},
     "output_type": "execute_result"
    }
   ],
   "source": [
    "df_dow_1 = df['대여요일'].value_counts().reset_index()\n",
    "df_dow_1.columns = ['dayofweek', 'count']\n",
    "df_dow_1 = df_dow_1.sort_values('dayofweek')\n",
    "df_dow_1['대여반납'] = '대여'\n",
    "print(df_dow_1.shape)\n",
    "\n",
    "df_dow_2 = df['반납요일'].value_counts().reset_index()\n",
    "df_dow_2.columns = ['dayofweek', 'count']\n",
    "df_dow_2 = df_dow_2.sort_values('dayofweek')\n",
    "df_dow_2['대여반납'] = '반납'\n",
    "print(df_dow_2.shape)\n",
    "\n",
    "df_dow = pd.concat([df_dow_1, df_dow_2])\n",
    "print(df_dow.shape)\n",
    "df_dow"
   ]
  },
  {
   "cell_type": "code",
   "execution_count": 67,
   "metadata": {},
   "outputs": [
    {
     "data": {
      "text/html": [
       "<div>\n",
       "<style scoped>\n",
       "    .dataframe tbody tr th:only-of-type {\n",
       "        vertical-align: middle;\n",
       "    }\n",
       "\n",
       "    .dataframe tbody tr th {\n",
       "        vertical-align: top;\n",
       "    }\n",
       "\n",
       "    .dataframe thead th {\n",
       "        text-align: right;\n",
       "    }\n",
       "</style>\n",
       "<table border=\"1\" class=\"dataframe\">\n",
       "  <thead>\n",
       "    <tr style=\"text-align: right;\">\n",
       "      <th></th>\n",
       "      <th>dayofweek</th>\n",
       "      <th>count</th>\n",
       "      <th>대여반납</th>\n",
       "    </tr>\n",
       "  </thead>\n",
       "  <tbody>\n",
       "    <tr>\n",
       "      <th>4</th>\n",
       "      <td>0</td>\n",
       "      <td>81933</td>\n",
       "      <td>대여</td>\n",
       "    </tr>\n",
       "    <tr>\n",
       "      <th>6</th>\n",
       "      <td>1</td>\n",
       "      <td>53151</td>\n",
       "      <td>대여</td>\n",
       "    </tr>\n",
       "    <tr>\n",
       "      <th>2</th>\n",
       "      <td>2</td>\n",
       "      <td>86805</td>\n",
       "      <td>대여</td>\n",
       "    </tr>\n",
       "  </tbody>\n",
       "</table>\n",
       "</div>"
      ],
      "text/plain": [
       "   dayofweek  count 대여반납\n",
       "4          0  81933   대여\n",
       "6          1  53151   대여\n",
       "2          2  86805   대여"
      ]
     },
     "execution_count": 67,
     "metadata": {},
     "output_type": "execute_result"
    }
   ],
   "source": [
    "df_dow.head(3)"
   ]
  },
  {
   "cell_type": "code",
   "execution_count": 68,
   "metadata": {},
   "outputs": [
    {
     "data": {
      "text/html": [
       "<div>\n",
       "<style scoped>\n",
       "    .dataframe tbody tr th:only-of-type {\n",
       "        vertical-align: middle;\n",
       "    }\n",
       "\n",
       "    .dataframe tbody tr th {\n",
       "        vertical-align: top;\n",
       "    }\n",
       "\n",
       "    .dataframe thead th {\n",
       "        text-align: right;\n",
       "    }\n",
       "</style>\n",
       "<table border=\"1\" class=\"dataframe\">\n",
       "  <thead>\n",
       "    <tr style=\"text-align: right;\">\n",
       "      <th></th>\n",
       "      <th>dayofweek</th>\n",
       "      <th>count</th>\n",
       "      <th>대여반납</th>\n",
       "    </tr>\n",
       "  </thead>\n",
       "  <tbody>\n",
       "    <tr>\n",
       "      <th>1</th>\n",
       "      <td>4</td>\n",
       "      <td>88168</td>\n",
       "      <td>반납</td>\n",
       "    </tr>\n",
       "    <tr>\n",
       "      <th>0</th>\n",
       "      <td>5</td>\n",
       "      <td>117695</td>\n",
       "      <td>반납</td>\n",
       "    </tr>\n",
       "    <tr>\n",
       "      <th>3</th>\n",
       "      <td>6</td>\n",
       "      <td>83169</td>\n",
       "      <td>반납</td>\n",
       "    </tr>\n",
       "  </tbody>\n",
       "</table>\n",
       "</div>"
      ],
      "text/plain": [
       "   dayofweek   count 대여반납\n",
       "1          4   88168   반납\n",
       "0          5  117695   반납\n",
       "3          6   83169   반납"
      ]
     },
     "execution_count": 68,
     "metadata": {},
     "output_type": "execute_result"
    }
   ],
   "source": [
    "df_dow.tail(3)"
   ]
  },
  {
   "cell_type": "code",
   "execution_count": 69,
   "metadata": {},
   "outputs": [],
   "source": [
    "weekday_map= {0:'MON', 1:'TUE', 2:'WED', 3:'THU',\n",
    "              4:'FRI', 5:'SAT', 6:'SUN'}\n",
    "df_dow['label'] = df_dow['dayofweek'].replace(weekday_map)"
   ]
  },
  {
   "cell_type": "code",
   "execution_count": 70,
   "metadata": {},
   "outputs": [
    {
     "data": {
      "text/html": [
       "<div>\n",
       "<style scoped>\n",
       "    .dataframe tbody tr th:only-of-type {\n",
       "        vertical-align: middle;\n",
       "    }\n",
       "\n",
       "    .dataframe tbody tr th {\n",
       "        vertical-align: top;\n",
       "    }\n",
       "\n",
       "    .dataframe thead th {\n",
       "        text-align: right;\n",
       "    }\n",
       "</style>\n",
       "<table border=\"1\" class=\"dataframe\">\n",
       "  <thead>\n",
       "    <tr style=\"text-align: right;\">\n",
       "      <th></th>\n",
       "      <th>dayofweek</th>\n",
       "      <th>count</th>\n",
       "      <th>대여반납</th>\n",
       "      <th>label</th>\n",
       "    </tr>\n",
       "  </thead>\n",
       "  <tbody>\n",
       "    <tr>\n",
       "      <th>2</th>\n",
       "      <td>2</td>\n",
       "      <td>86535</td>\n",
       "      <td>반납</td>\n",
       "      <td>WED</td>\n",
       "    </tr>\n",
       "    <tr>\n",
       "      <th>5</th>\n",
       "      <td>3</td>\n",
       "      <td>74772</td>\n",
       "      <td>반납</td>\n",
       "      <td>THU</td>\n",
       "    </tr>\n",
       "    <tr>\n",
       "      <th>1</th>\n",
       "      <td>4</td>\n",
       "      <td>88168</td>\n",
       "      <td>반납</td>\n",
       "      <td>FRI</td>\n",
       "    </tr>\n",
       "    <tr>\n",
       "      <th>0</th>\n",
       "      <td>5</td>\n",
       "      <td>117695</td>\n",
       "      <td>반납</td>\n",
       "      <td>SAT</td>\n",
       "    </tr>\n",
       "    <tr>\n",
       "      <th>3</th>\n",
       "      <td>6</td>\n",
       "      <td>83169</td>\n",
       "      <td>반납</td>\n",
       "      <td>SUN</td>\n",
       "    </tr>\n",
       "  </tbody>\n",
       "</table>\n",
       "</div>"
      ],
      "text/plain": [
       "   dayofweek   count 대여반납 label\n",
       "2          2   86535   반납   WED\n",
       "5          3   74772   반납   THU\n",
       "1          4   88168   반납   FRI\n",
       "0          5  117695   반납   SAT\n",
       "3          6   83169   반납   SUN"
      ]
     },
     "execution_count": 70,
     "metadata": {},
     "output_type": "execute_result"
    }
   ],
   "source": [
    "df_dow.tail()"
   ]
  },
  {
   "cell_type": "code",
   "execution_count": 71,
   "metadata": {},
   "outputs": [
    {
     "data": {
      "image/png": "[encoded data removed]",
      "text/plain": [
       "<Figure size 1200x600 with 1 Axes>"
      ]
     },
     "metadata": {},
     "output_type": "display_data"
    },
    {
     "data": {
      "text/plain": [
       "<ggplot: (119704054426)>"
      ]
     },
     "execution_count": 71,
     "metadata": {},
     "output_type": "execute_result"
    }
   ],
   "source": [
    "(ggplot(df_dow)\n",
    " + aes(x='dayofweek', y='count', fill='대여반납')\n",
    " + geom_bar(stat='identity', position='dodge')\n",
    " + geom_point()\n",
    " + geom_line(color='blue')\n",
    " + labs(x='대여요일', y='대여수', title='요일별 자전거 대여수')\n",
    " + theme(text=element_text(family=fontprop),\n",
    "        figure_size=(12,6))\n",
    ")"
   ]
  },
  {
   "cell_type": "markdown",
   "metadata": {},
   "source": [
    "## 시간대별 대여|반납량"
   ]
  },
  {
   "cell_type": "code",
   "execution_count": 72,
   "metadata": {},
   "outputs": [
    {
     "data": {
      "text/html": [
       "<div>\n",
       "<style scoped>\n",
       "    .dataframe tbody tr th:only-of-type {\n",
       "        vertical-align: middle;\n",
       "    }\n",
       "\n",
       "    .dataframe tbody tr th {\n",
       "        vertical-align: top;\n",
       "    }\n",
       "\n",
       "    .dataframe thead th {\n",
       "        text-align: right;\n",
       "    }\n",
       "</style>\n",
       "<table border=\"1\" class=\"dataframe\">\n",
       "  <thead>\n",
       "    <tr style=\"text-align: right;\">\n",
       "      <th></th>\n",
       "      <th>hour</th>\n",
       "      <th>count</th>\n",
       "      <th>대여반납</th>\n",
       "    </tr>\n",
       "  </thead>\n",
       "  <tbody>\n",
       "    <tr>\n",
       "      <th>13</th>\n",
       "      <td>0</td>\n",
       "      <td>19837</td>\n",
       "      <td>대여</td>\n",
       "    </tr>\n",
       "    <tr>\n",
       "      <th>17</th>\n",
       "      <td>1</td>\n",
       "      <td>15358</td>\n",
       "      <td>대여</td>\n",
       "    </tr>\n",
       "    <tr>\n",
       "      <th>19</th>\n",
       "      <td>2</td>\n",
       "      <td>12255</td>\n",
       "      <td>대여</td>\n",
       "    </tr>\n",
       "    <tr>\n",
       "      <th>21</th>\n",
       "      <td>3</td>\n",
       "      <td>7462</td>\n",
       "      <td>대여</td>\n",
       "    </tr>\n",
       "    <tr>\n",
       "      <th>23</th>\n",
       "      <td>4</td>\n",
       "      <td>4392</td>\n",
       "      <td>대여</td>\n",
       "    </tr>\n",
       "  </tbody>\n",
       "</table>\n",
       "</div>"
      ],
      "text/plain": [
       "    hour  count 대여반납\n",
       "13     0  19837   대여\n",
       "17     1  15358   대여\n",
       "19     2  12255   대여\n",
       "21     3   7462   대여\n",
       "23     4   4392   대여"
      ]
     },
     "execution_count": 72,
     "metadata": {},
     "output_type": "execute_result"
    }
   ],
   "source": [
    "df_hour_1 = df['대여시'].value_counts().reset_index()\n",
    "df_hour_1.columns = ['hour', 'count']\n",
    "df_hour_1 = df_hour_1.sort_values('hour')\n",
    "df_hour_1['대여반납'] = '대여'\n",
    "df_hour_1.head()\n",
    "\n",
    "df_hour_2 = df['반납시'].value_counts().reset_index()\n",
    "df_hour_2.columns = ['hour', 'count']\n",
    "df_hour_2 = df_hour_2.sort_values('hour')\n",
    "df_hour_2['대여반납'] = '반납'\n",
    "df_hour_2.head()\n",
    "\n",
    "df_hour = pd.concat([df_hour_1, df_hour_2])\n",
    "df_hour.head()"
   ]
  },
  {
   "cell_type": "code",
   "execution_count": 73,
   "metadata": {},
   "outputs": [
    {
     "data": {
      "text/html": [
       "<div>\n",
       "<style scoped>\n",
       "    .dataframe tbody tr th:only-of-type {\n",
       "        vertical-align: middle;\n",
       "    }\n",
       "\n",
       "    .dataframe tbody tr th {\n",
       "        vertical-align: top;\n",
       "    }\n",
       "\n",
       "    .dataframe thead th {\n",
       "        text-align: right;\n",
       "    }\n",
       "</style>\n",
       "<table border=\"1\" class=\"dataframe\">\n",
       "  <thead>\n",
       "    <tr style=\"text-align: right;\">\n",
       "      <th></th>\n",
       "      <th>hour</th>\n",
       "      <th>count</th>\n",
       "      <th>대여반납</th>\n",
       "    </tr>\n",
       "  </thead>\n",
       "  <tbody>\n",
       "    <tr>\n",
       "      <th>1</th>\n",
       "      <td>19</td>\n",
       "      <td>46836</td>\n",
       "      <td>반납</td>\n",
       "    </tr>\n",
       "    <tr>\n",
       "      <th>2</th>\n",
       "      <td>20</td>\n",
       "      <td>45713</td>\n",
       "      <td>반납</td>\n",
       "    </tr>\n",
       "    <tr>\n",
       "      <th>3</th>\n",
       "      <td>21</td>\n",
       "      <td>45628</td>\n",
       "      <td>반납</td>\n",
       "    </tr>\n",
       "    <tr>\n",
       "      <th>4</th>\n",
       "      <td>22</td>\n",
       "      <td>44417</td>\n",
       "      <td>반납</td>\n",
       "    </tr>\n",
       "    <tr>\n",
       "      <th>5</th>\n",
       "      <td>23</td>\n",
       "      <td>34927</td>\n",
       "      <td>반납</td>\n",
       "    </tr>\n",
       "  </tbody>\n",
       "</table>\n",
       "</div>"
      ],
      "text/plain": [
       "   hour  count 대여반납\n",
       "1    19  46836   반납\n",
       "2    20  45713   반납\n",
       "3    21  45628   반납\n",
       "4    22  44417   반납\n",
       "5    23  34927   반납"
      ]
     },
     "execution_count": 73,
     "metadata": {},
     "output_type": "execute_result"
    }
   ],
   "source": [
    "df_hour.tail()"
   ]
  },
  {
   "cell_type": "code",
   "execution_count": 74,
   "metadata": {},
   "outputs": [
    {
     "data": {
      "image/png": "[encoded data removed]",
      "text/plain": [
       "<Figure size 1200x600 with 1 Axes>"
      ]
     },
     "metadata": {},
     "output_type": "display_data"
    },
    {
     "data": {
      "text/plain": [
       "<ggplot: (119703849692)>"
      ]
     },
     "execution_count": 74,
     "metadata": {},
     "output_type": "execute_result"
    }
   ],
   "source": [
    "(ggplot(df_hour)\n",
    " + aes(x='hour', y='count', fill='대여반납')\n",
    " + geom_bar(stat='identity', position='dodge')\n",
    " + geom_point()\n",
    " + geom_line(color='blue')\n",
    " + labs(x='시간', y='대여/반납 수', title='시간대별 자전거 대여/반납수')\n",
    " + theme(text=element_text(family=fontprop),\n",
    "        figure_size=(12,6))\n",
    ")"
   ]
  },
  {
   "cell_type": "markdown",
   "metadata": {},
   "source": [
    "* 새벽시간대로 갈 수록 대여/반납 수가 줄어든다.\n",
    "* 출근시간대에는 대여가 반납보다 많다.\n",
    "* 오전에는 8시대에 대여/반납이 많으며, 오후시간대에는 18시에 대여/반납이 가장 많다.\n",
    "* 오전 11시부터 20시까지는 대여가 반납보다 많다.(대여>반납)\n",
    "* 21시 이후부터 오전 4시까지는 대여보다 반납이 많다.(대여<반납)"
   ]
  },
  {
   "cell_type": "code",
   "execution_count": 75,
   "metadata": {},
   "outputs": [
    {
     "name": "stdout",
     "output_type": "stream",
     "text": [
      "(60, 3)\n",
      "(60, 3)\n",
      "(120, 3)\n"
     ]
    }
   ],
   "source": [
    "df_minute_1 = df['대여분'].value_counts().reset_index()\n",
    "df_minute_1.columns = ['minute', 'count']\n",
    "df_minute_1 = df_minute_1.sort_values('minute')\n",
    "df_minute_1['대여반납'] = '대여'\n",
    "print(df_minute_1.shape)\n",
    "\n",
    "df_minute_2 = df['반납분'].value_counts().reset_index()\n",
    "df_minute_2.columns = ['minute', 'count']\n",
    "df_minute_2 = df_minute_2.sort_values('minute')\n",
    "df_minute_2['대여반납'] = '반납'\n",
    "print(df_minute_2.shape)\n",
    "\n",
    "df_minute = pd.concat([df_minute_1, df_minute_2])\n",
    "print(df_minute.shape)"
   ]
  },
  {
   "cell_type": "code",
   "execution_count": 76,
   "metadata": {},
   "outputs": [
    {
     "data": {
      "text/html": [
       "<div>\n",
       "<style scoped>\n",
       "    .dataframe tbody tr th:only-of-type {\n",
       "        vertical-align: middle;\n",
       "    }\n",
       "\n",
       "    .dataframe tbody tr th {\n",
       "        vertical-align: top;\n",
       "    }\n",
       "\n",
       "    .dataframe thead th {\n",
       "        text-align: right;\n",
       "    }\n",
       "</style>\n",
       "<table border=\"1\" class=\"dataframe\">\n",
       "  <thead>\n",
       "    <tr style=\"text-align: right;\">\n",
       "      <th></th>\n",
       "      <th>minute</th>\n",
       "      <th>count</th>\n",
       "      <th>대여반납</th>\n",
       "    </tr>\n",
       "  </thead>\n",
       "  <tbody>\n",
       "    <tr>\n",
       "      <th>57</th>\n",
       "      <td>0</td>\n",
       "      <td>9326</td>\n",
       "      <td>대여</td>\n",
       "    </tr>\n",
       "    <tr>\n",
       "      <th>41</th>\n",
       "      <td>1</td>\n",
       "      <td>9601</td>\n",
       "      <td>대여</td>\n",
       "    </tr>\n",
       "    <tr>\n",
       "      <th>24</th>\n",
       "      <td>2</td>\n",
       "      <td>9758</td>\n",
       "      <td>대여</td>\n",
       "    </tr>\n",
       "    <tr>\n",
       "      <th>28</th>\n",
       "      <td>3</td>\n",
       "      <td>9748</td>\n",
       "      <td>대여</td>\n",
       "    </tr>\n",
       "    <tr>\n",
       "      <th>11</th>\n",
       "      <td>4</td>\n",
       "      <td>10037</td>\n",
       "      <td>대여</td>\n",
       "    </tr>\n",
       "  </tbody>\n",
       "</table>\n",
       "</div>"
      ],
      "text/plain": [
       "    minute  count 대여반납\n",
       "57       0   9326   대여\n",
       "41       1   9601   대여\n",
       "24       2   9758   대여\n",
       "28       3   9748   대여\n",
       "11       4  10037   대여"
      ]
     },
     "execution_count": 76,
     "metadata": {},
     "output_type": "execute_result"
    }
   ],
   "source": [
    "df_minute.head()"
   ]
  },
  {
   "cell_type": "code",
   "execution_count": 77,
   "metadata": {},
   "outputs": [
    {
     "data": {
      "text/html": [
       "<div>\n",
       "<style scoped>\n",
       "    .dataframe tbody tr th:only-of-type {\n",
       "        vertical-align: middle;\n",
       "    }\n",
       "\n",
       "    .dataframe tbody tr th {\n",
       "        vertical-align: top;\n",
       "    }\n",
       "\n",
       "    .dataframe thead th {\n",
       "        text-align: right;\n",
       "    }\n",
       "</style>\n",
       "<table border=\"1\" class=\"dataframe\">\n",
       "  <thead>\n",
       "    <tr style=\"text-align: right;\">\n",
       "      <th></th>\n",
       "      <th>minute</th>\n",
       "      <th>count</th>\n",
       "      <th>대여반납</th>\n",
       "    </tr>\n",
       "  </thead>\n",
       "  <tbody>\n",
       "    <tr>\n",
       "      <th>3</th>\n",
       "      <td>55</td>\n",
       "      <td>10369</td>\n",
       "      <td>반납</td>\n",
       "    </tr>\n",
       "    <tr>\n",
       "      <th>10</th>\n",
       "      <td>56</td>\n",
       "      <td>10095</td>\n",
       "      <td>반납</td>\n",
       "    </tr>\n",
       "    <tr>\n",
       "      <th>11</th>\n",
       "      <td>57</td>\n",
       "      <td>10094</td>\n",
       "      <td>반납</td>\n",
       "    </tr>\n",
       "    <tr>\n",
       "      <th>19</th>\n",
       "      <td>58</td>\n",
       "      <td>9882</td>\n",
       "      <td>반납</td>\n",
       "    </tr>\n",
       "    <tr>\n",
       "      <th>18</th>\n",
       "      <td>59</td>\n",
       "      <td>9887</td>\n",
       "      <td>반납</td>\n",
       "    </tr>\n",
       "  </tbody>\n",
       "</table>\n",
       "</div>"
      ],
      "text/plain": [
       "    minute  count 대여반납\n",
       "3       55  10369   반납\n",
       "10      56  10095   반납\n",
       "11      57  10094   반납\n",
       "19      58   9882   반납\n",
       "18      59   9887   반납"
      ]
     },
     "execution_count": 77,
     "metadata": {},
     "output_type": "execute_result"
    }
   ],
   "source": [
    "df_minute.tail()"
   ]
  },
  {
   "cell_type": "code",
   "execution_count": 78,
   "metadata": {},
   "outputs": [
    {
     "data": {
      "image/png": "[encoded data removed]",
      "text/plain": [
       "<Figure size 1200x600 with 1 Axes>"
      ]
     },
     "metadata": {},
     "output_type": "display_data"
    },
    {
     "data": {
      "text/plain": [
       "<ggplot: (119703829520)>"
      ]
     },
     "execution_count": 78,
     "metadata": {},
     "output_type": "execute_result"
    }
   ],
   "source": [
    "(ggplot(df_minute)\n",
    " + aes(x='minute', y='count', fill='대여반납')\n",
    " + geom_bar(stat='identity', position='dodge')\n",
    " + geom_line(color='blue')\n",
    " + labs(x='분', y='대여/반납 수', title='시간대별(분) 자전거 대여/반납수')\n",
    " + theme(text=element_text(family=fontprop),\n",
    "        figure_size=(12,6))\n",
    ")"
   ]
  },
  {
   "cell_type": "markdown",
   "metadata": {},
   "source": [
    "* 대여/반납이 거의 비슷하게 이루어지고 있지만 대여는 0~20분 사이에 더 많이 일어나며 반납은 40~60분 사이에 더 많이 일어난다."
   ]
  },
  {
   "cell_type": "markdown",
   "metadata": {},
   "source": [
    "## 대여와 반납은 같은 곳에서 이루어지고 있을까?"
   ]
  },
  {
   "cell_type": "code",
   "execution_count": 79,
   "metadata": {},
   "outputs": [],
   "source": [
    "# 같은대여반납소라는 컬럼을 새로 만들고 대여반납이 같은 곳에서 이루어지고 있는지 여부를 추가한다.\n",
    "df['같은대여반납소'] = df['대여대여소명'] == df['반납대여소명']"
   ]
  },
  {
   "cell_type": "code",
   "execution_count": 80,
   "metadata": {},
   "outputs": [
    {
     "name": "stdout",
     "output_type": "stream",
     "text": [
      "7.856020784242644\n",
      "같은 곳에서 대여반납 하는 것보다 다른 곳에서 대여반납 하는 것이 7.86배 많다.\n"
     ]
    },
    {
     "data": {
      "text/html": [
       "<div>\n",
       "<style scoped>\n",
       "    .dataframe tbody tr th:only-of-type {\n",
       "        vertical-align: middle;\n",
       "    }\n",
       "\n",
       "    .dataframe tbody tr th {\n",
       "        vertical-align: top;\n",
       "    }\n",
       "\n",
       "    .dataframe thead th {\n",
       "        text-align: right;\n",
       "    }\n",
       "</style>\n",
       "<table border=\"1\" class=\"dataframe\">\n",
       "  <thead>\n",
       "    <tr style=\"text-align: right;\">\n",
       "      <th></th>\n",
       "      <th>일치여부</th>\n",
       "      <th>대여반납수</th>\n",
       "    </tr>\n",
       "  </thead>\n",
       "  <tbody>\n",
       "    <tr>\n",
       "      <th>0</th>\n",
       "      <td>False</td>\n",
       "      <td>520100</td>\n",
       "    </tr>\n",
       "    <tr>\n",
       "      <th>1</th>\n",
       "      <td>True</td>\n",
       "      <td>66204</td>\n",
       "    </tr>\n",
       "  </tbody>\n",
       "</table>\n",
       "</div>"
      ],
      "text/plain": [
       "    일치여부   대여반납수\n",
       "0  False  520100\n",
       "1   True   66204"
      ]
     },
     "execution_count": 80,
     "metadata": {},
     "output_type": "execute_result"
    }
   ],
   "source": [
    "df_location_diff = df['같은대여반납소'].value_counts().reset_index()\n",
    "df_location_diff.columns = ['일치여부', '대여반납수']\n",
    "# 같은|다른 반납소별로 대여반납수가 몇 배나 차이가 나는지 확인한다.\n",
    "location_diff_ratio = df_location_diff['대여반납수'][0]/df_location_diff['대여반납수'][1]\n",
    "print(location_diff_ratio)\n",
    "print('같은 곳에서 대여반납 하는 것보다 다른 곳에서 대여반납 하는 것이 {0:.2f}배 많다.'.format(location_diff_ratio))\n",
    "df_location_diff"
   ]
  },
  {
   "cell_type": "code",
   "execution_count": 81,
   "metadata": {},
   "outputs": [
    {
     "data": {
      "text/plain": [
       "0    520100\n",
       "1     66204\n",
       "Name: 대여반납수, dtype: int64"
      ]
     },
     "execution_count": 81,
     "metadata": {},
     "output_type": "execute_result"
    }
   ],
   "source": [
    "df_location_diff['대여반납수']"
   ]
  },
  {
   "cell_type": "code",
   "execution_count": 82,
   "metadata": {},
   "outputs": [
    {
     "data": {
      "image/png": "[encoded data removed]",
      "text/plain": [
       "<Figure size 640x480 with 1 Axes>"
      ]
     },
     "metadata": {},
     "output_type": "display_data"
    },
    {
     "data": {
      "text/plain": [
       "<ggplot: (119703489241)>"
      ]
     },
     "execution_count": 82,
     "metadata": {},
     "output_type": "execute_result"
    }
   ],
   "source": [
    "# 대여반납수로 fill을 넣어주어 그래프에 색상표현이 되도록 한다.\n",
    "(ggplot(df_location_diff)\n",
    " + geom_col(mapping=aes(x='일치여부', y='대여반납수', fill='대여반납수'))\n",
    " + labs(title='대여반납소 일치여부')\n",
    " + theme(text=element_text(family=fontprop))\n",
    ")"
   ]
  },
  {
   "cell_type": "markdown",
   "metadata": {},
   "source": [
    "같은 곳에서 대여반납을 하는 것보다 다른 곳으로의 대여반납이 훨씬 많은 것을 확인할 수 있다."
   ]
  },
  {
   "cell_type": "code",
   "execution_count": 83,
   "metadata": {},
   "outputs": [
    {
     "data": {
      "text/html": [
       "<div>\n",
       "<style scoped>\n",
       "    .dataframe tbody tr th:only-of-type {\n",
       "        vertical-align: middle;\n",
       "    }\n",
       "\n",
       "    .dataframe tbody tr th {\n",
       "        vertical-align: top;\n",
       "    }\n",
       "\n",
       "    .dataframe thead th {\n",
       "        text-align: right;\n",
       "    }\n",
       "</style>\n",
       "<table border=\"1\" class=\"dataframe\">\n",
       "  <thead>\n",
       "    <tr style=\"text-align: right;\">\n",
       "      <th></th>\n",
       "      <th>자전거번호</th>\n",
       "      <th>대여일시</th>\n",
       "      <th>대여대여소번호</th>\n",
       "      <th>대여대여소명</th>\n",
       "      <th>대여거치대</th>\n",
       "      <th>반납일시</th>\n",
       "      <th>반납대여소번호</th>\n",
       "      <th>반납대여소명</th>\n",
       "      <th>반납거치대</th>\n",
       "      <th>이용시간(분)</th>\n",
       "      <th>...</th>\n",
       "      <th>대여시</th>\n",
       "      <th>대여분</th>\n",
       "      <th>대여요일</th>\n",
       "      <th>반납년</th>\n",
       "      <th>반납월</th>\n",
       "      <th>반납일</th>\n",
       "      <th>반납시</th>\n",
       "      <th>반납분</th>\n",
       "      <th>반납요일</th>\n",
       "      <th>같은대여반납소</th>\n",
       "    </tr>\n",
       "  </thead>\n",
       "  <tbody>\n",
       "    <tr>\n",
       "      <th>27</th>\n",
       "      <td>SPB-09000</td>\n",
       "      <td>2018-06-16 00:01:22</td>\n",
       "      <td>2025</td>\n",
       "      <td>흑석역 1번출구</td>\n",
       "      <td>13</td>\n",
       "      <td>2018-06-16 01:10:42</td>\n",
       "      <td>2025</td>\n",
       "      <td>흑석역 1번출구</td>\n",
       "      <td>9</td>\n",
       "      <td>67</td>\n",
       "      <td>...</td>\n",
       "      <td>0</td>\n",
       "      <td>1</td>\n",
       "      <td>5</td>\n",
       "      <td>2018</td>\n",
       "      <td>6</td>\n",
       "      <td>16</td>\n",
       "      <td>1</td>\n",
       "      <td>10</td>\n",
       "      <td>5</td>\n",
       "      <td>True</td>\n",
       "    </tr>\n",
       "    <tr>\n",
       "      <th>34</th>\n",
       "      <td>SPB-08794</td>\n",
       "      <td>2018-06-16 00:01:32</td>\n",
       "      <td>2025</td>\n",
       "      <td>흑석역 1번출구</td>\n",
       "      <td>10</td>\n",
       "      <td>2018-06-16 01:10:42</td>\n",
       "      <td>2025</td>\n",
       "      <td>흑석역 1번출구</td>\n",
       "      <td>15</td>\n",
       "      <td>64</td>\n",
       "      <td>...</td>\n",
       "      <td>0</td>\n",
       "      <td>1</td>\n",
       "      <td>5</td>\n",
       "      <td>2018</td>\n",
       "      <td>6</td>\n",
       "      <td>16</td>\n",
       "      <td>1</td>\n",
       "      <td>10</td>\n",
       "      <td>5</td>\n",
       "      <td>True</td>\n",
       "    </tr>\n",
       "    <tr>\n",
       "      <th>40</th>\n",
       "      <td>SPB-02178</td>\n",
       "      <td>2018-06-16 00:01:47</td>\n",
       "      <td>1308</td>\n",
       "      <td>안암로터리 버스정류장 앞</td>\n",
       "      <td>3</td>\n",
       "      <td>2018-06-16 01:52:14</td>\n",
       "      <td>1308</td>\n",
       "      <td>안암로터리 버스정류장 앞</td>\n",
       "      <td>4</td>\n",
       "      <td>110</td>\n",
       "      <td>...</td>\n",
       "      <td>0</td>\n",
       "      <td>1</td>\n",
       "      <td>5</td>\n",
       "      <td>2018</td>\n",
       "      <td>6</td>\n",
       "      <td>16</td>\n",
       "      <td>1</td>\n",
       "      <td>52</td>\n",
       "      <td>5</td>\n",
       "      <td>True</td>\n",
       "    </tr>\n",
       "    <tr>\n",
       "      <th>42</th>\n",
       "      <td>SPB-06487</td>\n",
       "      <td>2018-06-16 00:01:50</td>\n",
       "      <td>421</td>\n",
       "      <td>마포구청 앞</td>\n",
       "      <td>6</td>\n",
       "      <td>2018-06-16 00:04:24</td>\n",
       "      <td>421</td>\n",
       "      <td>마포구청 앞</td>\n",
       "      <td>7</td>\n",
       "      <td>2</td>\n",
       "      <td>...</td>\n",
       "      <td>0</td>\n",
       "      <td>1</td>\n",
       "      <td>5</td>\n",
       "      <td>2018</td>\n",
       "      <td>6</td>\n",
       "      <td>16</td>\n",
       "      <td>0</td>\n",
       "      <td>4</td>\n",
       "      <td>5</td>\n",
       "      <td>True</td>\n",
       "    </tr>\n",
       "    <tr>\n",
       "      <th>47</th>\n",
       "      <td>SPB-09293</td>\n",
       "      <td>2018-06-16 00:01:56</td>\n",
       "      <td>235</td>\n",
       "      <td>신길동 우리은행 옆</td>\n",
       "      <td>5</td>\n",
       "      <td>2018-06-16 00:05:02</td>\n",
       "      <td>235</td>\n",
       "      <td>신길동 우리은행 옆</td>\n",
       "      <td>5</td>\n",
       "      <td>3</td>\n",
       "      <td>...</td>\n",
       "      <td>0</td>\n",
       "      <td>1</td>\n",
       "      <td>5</td>\n",
       "      <td>2018</td>\n",
       "      <td>6</td>\n",
       "      <td>16</td>\n",
       "      <td>0</td>\n",
       "      <td>5</td>\n",
       "      <td>5</td>\n",
       "      <td>True</td>\n",
       "    </tr>\n",
       "  </tbody>\n",
       "</table>\n",
       "<p>5 rows × 24 columns</p>\n",
       "</div>"
      ],
      "text/plain": [
       "        자전거번호                대여일시 대여대여소번호          대여대여소명  대여거치대  \\\n",
       "27  SPB-09000 2018-06-16 00:01:22    2025        흑석역 1번출구     13   \n",
       "34  SPB-08794 2018-06-16 00:01:32    2025        흑석역 1번출구     10   \n",
       "40  SPB-02178 2018-06-16 00:01:47    1308   안암로터리 버스정류장 앞      3   \n",
       "42  SPB-06487 2018-06-16 00:01:50     421          마포구청 앞      6   \n",
       "47  SPB-09293 2018-06-16 00:01:56     235      신길동 우리은행 옆      5   \n",
       "\n",
       "                  반납일시 반납대여소번호          반납대여소명  반납거치대  이용시간(분)  ...  대여시  대여분  \\\n",
       "27 2018-06-16 01:10:42    2025        흑석역 1번출구      9       67  ...    0    1   \n",
       "34 2018-06-16 01:10:42    2025        흑석역 1번출구     15       64  ...    0    1   \n",
       "40 2018-06-16 01:52:14    1308   안암로터리 버스정류장 앞      4      110  ...    0    1   \n",
       "42 2018-06-16 00:04:24     421          마포구청 앞      7        2  ...    0    1   \n",
       "47 2018-06-16 00:05:02     235      신길동 우리은행 옆      5        3  ...    0    1   \n",
       "\n",
       "    대여요일   반납년  반납월  반납일  반납시  반납분  반납요일  같은대여반납소  \n",
       "27     5  2018    6   16    1   10     5     True  \n",
       "34     5  2018    6   16    1   10     5     True  \n",
       "40     5  2018    6   16    1   52     5     True  \n",
       "42     5  2018    6   16    0    4     5     True  \n",
       "47     5  2018    6   16    0    5     5     True  \n",
       "\n",
       "[5 rows x 24 columns]"
      ]
     },
     "execution_count": 83,
     "metadata": {},
     "output_type": "execute_result"
    }
   ],
   "source": [
    "df_same_loc = df.loc[df['같은대여반납소'] == True]\n",
    "df_same_loc.head()"
   ]
  },
  {
   "cell_type": "code",
   "execution_count": 84,
   "metadata": {},
   "outputs": [
    {
     "data": {
      "text/plain": [
       " 여의나루역 1번출구 앞               1046\n",
       " 뚝섬유원지역 1번출구 앞               900\n",
       " 서울숲 관리사무소                   665\n",
       " 봉림교 교통섬                     543\n",
       " 마포구민체육센터 앞                  541\n",
       " 고속터미널역 8-1번, 8-2번 출구 사이     485\n",
       " 옥수역 3번출구                    457\n",
       " 몽촌토성역 1번출구 옆                390\n",
       " 노들역 1번출구                    372\n",
       " 당산육갑문                       336\n",
       " 양천향교역 7번출구앞                 326\n",
       " 월드컵공원                       321\n",
       " CJ 드림시티                     311\n",
       " 홍대입구역 2번출구 앞                302\n",
       " 청계천 생태교실 앞                  292\n",
       " 마포구청 앞                      288\n",
       " 홍은사거리                       288\n",
       " 황금내근린공원                     280\n",
       " 잠실새내역 5번 출구 뒤               279\n",
       " 흑석역 1번출구                    274\n",
       " 보문2교                        266\n",
       " 외국어대 정문 앞                   262\n",
       " 한신16차아파트 119동 앞             260\n",
       " 새절역 2번출구                    252\n",
       " 현대고등학교 건너편                  246\n",
       " 서울숲역 4번 출구 옆                214\n",
       " 도림천 신화교                     212\n",
       " 도봉구청 옆(중랑천변)                211\n",
       " 독산보도육교 앞 자전거 보관소            210\n",
       " 안암로터리 버스정류장 앞               204\n",
       "Name: 대여대여소명, dtype: int64"
      ]
     },
     "execution_count": 84,
     "metadata": {},
     "output_type": "execute_result"
    }
   ],
   "source": [
    "# 같은 곳에서 대여반납이 이루어지는 상위 대여소(대여|반납 건 수)\n",
    "df_same_loc['대여대여소명'].value_counts().head(30)"
   ]
  },
  {
   "cell_type": "markdown",
   "metadata": {},
   "source": [
    "* 같은 곳에서 대여반납이 이루어지는 대여소들은 한강주변이나 공원 주변에 위치한 것을 확인해 볼 수 있다."
   ]
  },
  {
   "cell_type": "markdown",
   "metadata": {},
   "source": [
    "## 같은|다른 대여소에서 대여가 되는 자전거의 평균 이용시간\n",
    "### 같은 대여반납소"
   ]
  },
  {
   "cell_type": "code",
   "execution_count": 85,
   "metadata": {},
   "outputs": [
    {
     "name": "stdout",
     "output_type": "stream",
     "text": [
      "같은곳에서 대여, 반납이 이루어지는 자전거의 평균 이용시간 :  53.18429400036251\n"
     ]
    },
    {
     "data": {
      "text/html": [
       "<div>\n",
       "<style scoped>\n",
       "    .dataframe tbody tr th:only-of-type {\n",
       "        vertical-align: middle;\n",
       "    }\n",
       "\n",
       "    .dataframe tbody tr th {\n",
       "        vertical-align: top;\n",
       "    }\n",
       "\n",
       "    .dataframe thead th {\n",
       "        text-align: right;\n",
       "    }\n",
       "</style>\n",
       "<table border=\"1\" class=\"dataframe\">\n",
       "  <thead>\n",
       "    <tr style=\"text-align: right;\">\n",
       "      <th></th>\n",
       "      <th>대여대여소명</th>\n",
       "      <th>반납대여소명</th>\n",
       "      <th>이용시간(분)</th>\n",
       "    </tr>\n",
       "  </thead>\n",
       "  <tbody>\n",
       "    <tr>\n",
       "      <th>0</th>\n",
       "      <td>강동구청 앞</td>\n",
       "      <td>강동구청 앞</td>\n",
       "      <td>57.882353</td>\n",
       "    </tr>\n",
       "    <tr>\n",
       "      <th>1</th>\n",
       "      <td>둔촌역 3번 출입구</td>\n",
       "      <td>둔촌역 3번 출입구</td>\n",
       "      <td>46.810127</td>\n",
       "    </tr>\n",
       "    <tr>\n",
       "      <th>2</th>\n",
       "      <td>(구)신한은행 중랑교지점</td>\n",
       "      <td>(구)신한은행 중랑교지점</td>\n",
       "      <td>47.545455</td>\n",
       "    </tr>\n",
       "    <tr>\n",
       "      <th>3</th>\n",
       "      <td>(구)합정동 주민센터</td>\n",
       "      <td>(구)합정동 주민센터</td>\n",
       "      <td>62.639344</td>\n",
       "    </tr>\n",
       "    <tr>\n",
       "      <th>4</th>\n",
       "      <td>3호선 매봉역 3번출구앞</td>\n",
       "      <td>3호선 매봉역 3번출구앞</td>\n",
       "      <td>48.227273</td>\n",
       "    </tr>\n",
       "  </tbody>\n",
       "</table>\n",
       "</div>"
      ],
      "text/plain": [
       "           대여대여소명          반납대여소명    이용시간(분)\n",
       "0          강동구청 앞          강동구청 앞  57.882353\n",
       "1      둔촌역 3번 출입구      둔촌역 3번 출입구  46.810127\n",
       "2   (구)신한은행 중랑교지점   (구)신한은행 중랑교지점  47.545455\n",
       "3     (구)합정동 주민센터     (구)합정동 주민센터  62.639344\n",
       "4   3호선 매봉역 3번출구앞   3호선 매봉역 3번출구앞  48.227273"
      ]
     },
     "execution_count": 85,
     "metadata": {},
     "output_type": "execute_result"
    }
   ],
   "source": [
    "same_loc_mean_time = df_same_loc['이용시간(분)'].mean()\n",
    "print('같은곳에서 대여, 반납이 이루어지는 자전거의 평균 이용시간 : ', same_loc_mean_time)\n",
    "df_same_mean = df_same_loc.groupby(['대여대여소명', '반납대여소명'])['이용시간(분)'].mean().reset_index()\n",
    "df_same_mean.head()"
   ]
  },
  {
   "cell_type": "code",
   "execution_count": 86,
   "metadata": {},
   "outputs": [
    {
     "data": {
      "text/html": [
       "<div>\n",
       "<style scoped>\n",
       "    .dataframe tbody tr th:only-of-type {\n",
       "        vertical-align: middle;\n",
       "    }\n",
       "\n",
       "    .dataframe tbody tr th {\n",
       "        vertical-align: top;\n",
       "    }\n",
       "\n",
       "    .dataframe thead th {\n",
       "        text-align: right;\n",
       "    }\n",
       "</style>\n",
       "<table border=\"1\" class=\"dataframe\">\n",
       "  <thead>\n",
       "    <tr style=\"text-align: right;\">\n",
       "      <th></th>\n",
       "      <th>대여대여소명</th>\n",
       "      <th>반납대여소명</th>\n",
       "      <th>이용횟수</th>\n",
       "    </tr>\n",
       "  </thead>\n",
       "  <tbody>\n",
       "    <tr>\n",
       "      <th>0</th>\n",
       "      <td>강동구청 앞</td>\n",
       "      <td>강동구청 앞</td>\n",
       "      <td>34</td>\n",
       "    </tr>\n",
       "    <tr>\n",
       "      <th>1</th>\n",
       "      <td>둔촌역 3번 출입구</td>\n",
       "      <td>둔촌역 3번 출입구</td>\n",
       "      <td>79</td>\n",
       "    </tr>\n",
       "    <tr>\n",
       "      <th>2</th>\n",
       "      <td>(구)신한은행 중랑교지점</td>\n",
       "      <td>(구)신한은행 중랑교지점</td>\n",
       "      <td>44</td>\n",
       "    </tr>\n",
       "    <tr>\n",
       "      <th>3</th>\n",
       "      <td>(구)합정동 주민센터</td>\n",
       "      <td>(구)합정동 주민센터</td>\n",
       "      <td>61</td>\n",
       "    </tr>\n",
       "    <tr>\n",
       "      <th>4</th>\n",
       "      <td>3호선 매봉역 3번출구앞</td>\n",
       "      <td>3호선 매봉역 3번출구앞</td>\n",
       "      <td>66</td>\n",
       "    </tr>\n",
       "  </tbody>\n",
       "</table>\n",
       "</div>"
      ],
      "text/plain": [
       "           대여대여소명          반납대여소명  이용횟수\n",
       "0          강동구청 앞          강동구청 앞    34\n",
       "1      둔촌역 3번 출입구      둔촌역 3번 출입구    79\n",
       "2   (구)신한은행 중랑교지점   (구)신한은행 중랑교지점    44\n",
       "3     (구)합정동 주민센터     (구)합정동 주민센터    61\n",
       "4   3호선 매봉역 3번출구앞   3호선 매봉역 3번출구앞    66"
      ]
     },
     "execution_count": 86,
     "metadata": {},
     "output_type": "execute_result"
    }
   ],
   "source": [
    "df_same_count = df_same_loc.groupby(['대여대여소명', '반납대여소명']).size().reset_index()\n",
    "df_same_count.columns = ['대여대여소명', '반납대여소명', '이용횟수']\n",
    "df_same_count.head()"
   ]
  },
  {
   "cell_type": "code",
   "execution_count": 87,
   "metadata": {},
   "outputs": [
    {
     "data": {
      "text/html": [
       "<div>\n",
       "<style scoped>\n",
       "    .dataframe tbody tr th:only-of-type {\n",
       "        vertical-align: middle;\n",
       "    }\n",
       "\n",
       "    .dataframe tbody tr th {\n",
       "        vertical-align: top;\n",
       "    }\n",
       "\n",
       "    .dataframe thead th {\n",
       "        text-align: right;\n",
       "    }\n",
       "</style>\n",
       "<table border=\"1\" class=\"dataframe\">\n",
       "  <thead>\n",
       "    <tr style=\"text-align: right;\">\n",
       "      <th></th>\n",
       "      <th>대여대여소명</th>\n",
       "      <th>반납대여소명</th>\n",
       "      <th>이용시간(분)</th>\n",
       "      <th>이용횟수</th>\n",
       "    </tr>\n",
       "  </thead>\n",
       "  <tbody>\n",
       "    <tr>\n",
       "      <th>0</th>\n",
       "      <td>강동구청 앞</td>\n",
       "      <td>강동구청 앞</td>\n",
       "      <td>57.882353</td>\n",
       "      <td>34</td>\n",
       "    </tr>\n",
       "    <tr>\n",
       "      <th>1</th>\n",
       "      <td>둔촌역 3번 출입구</td>\n",
       "      <td>둔촌역 3번 출입구</td>\n",
       "      <td>46.810127</td>\n",
       "      <td>79</td>\n",
       "    </tr>\n",
       "    <tr>\n",
       "      <th>2</th>\n",
       "      <td>(구)신한은행 중랑교지점</td>\n",
       "      <td>(구)신한은행 중랑교지점</td>\n",
       "      <td>47.545455</td>\n",
       "      <td>44</td>\n",
       "    </tr>\n",
       "    <tr>\n",
       "      <th>3</th>\n",
       "      <td>(구)합정동 주민센터</td>\n",
       "      <td>(구)합정동 주민센터</td>\n",
       "      <td>62.639344</td>\n",
       "      <td>61</td>\n",
       "    </tr>\n",
       "    <tr>\n",
       "      <th>4</th>\n",
       "      <td>3호선 매봉역 3번출구앞</td>\n",
       "      <td>3호선 매봉역 3번출구앞</td>\n",
       "      <td>48.227273</td>\n",
       "      <td>66</td>\n",
       "    </tr>\n",
       "  </tbody>\n",
       "</table>\n",
       "</div>"
      ],
      "text/plain": [
       "           대여대여소명          반납대여소명    이용시간(분)  이용횟수\n",
       "0          강동구청 앞          강동구청 앞  57.882353    34\n",
       "1      둔촌역 3번 출입구      둔촌역 3번 출입구  46.810127    79\n",
       "2   (구)신한은행 중랑교지점   (구)신한은행 중랑교지점  47.545455    44\n",
       "3     (구)합정동 주민센터     (구)합정동 주민센터  62.639344    61\n",
       "4   3호선 매봉역 3번출구앞   3호선 매봉역 3번출구앞  48.227273    66"
      ]
     },
     "execution_count": 87,
     "metadata": {},
     "output_type": "execute_result"
    }
   ],
   "source": [
    "df_same_loc2 = df_same_mean.merge(df_same_count, left_on=['대여대여소명', '반납대여소명'],\\\n",
    "                                  right_on=['대여대여소명', '반납대여소명'])\n",
    "df_same_loc2.head()"
   ]
  },
  {
   "cell_type": "code",
   "execution_count": 88,
   "metadata": {},
   "outputs": [
    {
     "data": {
      "text/html": [
       "<div>\n",
       "<style scoped>\n",
       "    .dataframe tbody tr th:only-of-type {\n",
       "        vertical-align: middle;\n",
       "    }\n",
       "\n",
       "    .dataframe tbody tr th {\n",
       "        vertical-align: top;\n",
       "    }\n",
       "\n",
       "    .dataframe thead th {\n",
       "        text-align: right;\n",
       "    }\n",
       "</style>\n",
       "<table border=\"1\" class=\"dataframe\">\n",
       "  <thead>\n",
       "    <tr style=\"text-align: right;\">\n",
       "      <th></th>\n",
       "      <th>대여대여소명</th>\n",
       "      <th>반납대여소명</th>\n",
       "      <th>이용시간(분)</th>\n",
       "      <th>이용횟수</th>\n",
       "    </tr>\n",
       "  </thead>\n",
       "  <tbody>\n",
       "    <tr>\n",
       "      <th>167</th>\n",
       "      <td>구로1동우체국 앞</td>\n",
       "      <td>구로1동우체국 앞</td>\n",
       "      <td>143.500000</td>\n",
       "      <td>2</td>\n",
       "    </tr>\n",
       "    <tr>\n",
       "      <th>278</th>\n",
       "      <td>달맞이공원</td>\n",
       "      <td>달맞이공원</td>\n",
       "      <td>122.066667</td>\n",
       "      <td>15</td>\n",
       "    </tr>\n",
       "    <tr>\n",
       "      <th>434</th>\n",
       "      <td>명지대학교 학생회관</td>\n",
       "      <td>명지대학교 학생회관</td>\n",
       "      <td>121.285714</td>\n",
       "      <td>7</td>\n",
       "    </tr>\n",
       "    <tr>\n",
       "      <th>856</th>\n",
       "      <td>역삼동 sk뷰 501동앞</td>\n",
       "      <td>역삼동 sk뷰 501동앞</td>\n",
       "      <td>114.000000</td>\n",
       "      <td>1</td>\n",
       "    </tr>\n",
       "    <tr>\n",
       "      <th>66</th>\n",
       "      <td>강남세브란스교차로  래미안그레이튼 104동 앞</td>\n",
       "      <td>강남세브란스교차로  래미안그레이튼 104동 앞</td>\n",
       "      <td>99.727273</td>\n",
       "      <td>11</td>\n",
       "    </tr>\n",
       "    <tr>\n",
       "      <th>131</th>\n",
       "      <td>공항시장역 4번출구</td>\n",
       "      <td>공항시장역 4번출구</td>\n",
       "      <td>95.545455</td>\n",
       "      <td>11</td>\n",
       "    </tr>\n",
       "    <tr>\n",
       "      <th>833</th>\n",
       "      <td>양원역 2번출구</td>\n",
       "      <td>양원역 2번출구</td>\n",
       "      <td>94.333333</td>\n",
       "      <td>3</td>\n",
       "    </tr>\n",
       "    <tr>\n",
       "      <th>618</th>\n",
       "      <td>서대문구청</td>\n",
       "      <td>서대문구청</td>\n",
       "      <td>92.023810</td>\n",
       "      <td>42</td>\n",
       "    </tr>\n",
       "    <tr>\n",
       "      <th>221</th>\n",
       "      <td>금호역 1번출구 앞</td>\n",
       "      <td>금호역 1번출구 앞</td>\n",
       "      <td>91.777778</td>\n",
       "      <td>9</td>\n",
       "    </tr>\n",
       "    <tr>\n",
       "      <th>235</th>\n",
       "      <td>낙성대역 1번출구</td>\n",
       "      <td>낙성대역 1번출구</td>\n",
       "      <td>89.562500</td>\n",
       "      <td>16</td>\n",
       "    </tr>\n",
       "  </tbody>\n",
       "</table>\n",
       "</div>"
      ],
      "text/plain": [
       "                         대여대여소명                      반납대여소명     이용시간(분)  이용횟수\n",
       "167                   구로1동우체국 앞                   구로1동우체국 앞  143.500000     2\n",
       "278                       달맞이공원                       달맞이공원  122.066667    15\n",
       "434                  명지대학교 학생회관                  명지대학교 학생회관  121.285714     7\n",
       "856               역삼동 sk뷰 501동앞               역삼동 sk뷰 501동앞  114.000000     1\n",
       "66    강남세브란스교차로  래미안그레이튼 104동 앞   강남세브란스교차로  래미안그레이튼 104동 앞   99.727273    11\n",
       "131                  공항시장역 4번출구                  공항시장역 4번출구   95.545455    11\n",
       "833                    양원역 2번출구                    양원역 2번출구   94.333333     3\n",
       "618                       서대문구청                       서대문구청   92.023810    42\n",
       "221                  금호역 1번출구 앞                  금호역 1번출구 앞   91.777778     9\n",
       "235                   낙성대역 1번출구                   낙성대역 1번출구   89.562500    16"
      ]
     },
     "execution_count": 88,
     "metadata": {},
     "output_type": "execute_result"
    }
   ],
   "source": [
    "df_same_loc2.sort_values(by='이용시간(분)', ascending=False).head(10)"
   ]
  },
  {
   "cell_type": "code",
   "execution_count": 89,
   "metadata": {},
   "outputs": [
    {
     "data": {
      "text/html": [
       "<div>\n",
       "<style scoped>\n",
       "    .dataframe tbody tr th:only-of-type {\n",
       "        vertical-align: middle;\n",
       "    }\n",
       "\n",
       "    .dataframe tbody tr th {\n",
       "        vertical-align: top;\n",
       "    }\n",
       "\n",
       "    .dataframe thead th {\n",
       "        text-align: right;\n",
       "    }\n",
       "</style>\n",
       "<table border=\"1\" class=\"dataframe\">\n",
       "  <thead>\n",
       "    <tr style=\"text-align: right;\">\n",
       "      <th></th>\n",
       "      <th>대여대여소명</th>\n",
       "      <th>반납대여소명</th>\n",
       "      <th>이용시간(분)</th>\n",
       "      <th>이용횟수</th>\n",
       "    </tr>\n",
       "  </thead>\n",
       "  <tbody>\n",
       "    <tr>\n",
       "      <th>850</th>\n",
       "      <td>여의나루역 1번출구 앞</td>\n",
       "      <td>여의나루역 1번출구 앞</td>\n",
       "      <td>66.167304</td>\n",
       "      <td>1046</td>\n",
       "    </tr>\n",
       "    <tr>\n",
       "      <th>369</th>\n",
       "      <td>뚝섬유원지역 1번출구 앞</td>\n",
       "      <td>뚝섬유원지역 1번출구 앞</td>\n",
       "      <td>56.593333</td>\n",
       "      <td>900</td>\n",
       "    </tr>\n",
       "    <tr>\n",
       "      <th>646</th>\n",
       "      <td>서울숲 관리사무소</td>\n",
       "      <td>서울숲 관리사무소</td>\n",
       "      <td>57.178947</td>\n",
       "      <td>665</td>\n",
       "    </tr>\n",
       "    <tr>\n",
       "      <th>518</th>\n",
       "      <td>봉림교 교통섬</td>\n",
       "      <td>봉림교 교통섬</td>\n",
       "      <td>58.836096</td>\n",
       "      <td>543</td>\n",
       "    </tr>\n",
       "    <tr>\n",
       "      <th>404</th>\n",
       "      <td>마포구민체육센터 앞</td>\n",
       "      <td>마포구민체육센터 앞</td>\n",
       "      <td>57.975970</td>\n",
       "      <td>541</td>\n",
       "    </tr>\n",
       "    <tr>\n",
       "      <th>118</th>\n",
       "      <td>고속터미널역 8-1번, 8-2번 출구 사이</td>\n",
       "      <td>고속터미널역 8-1번, 8-2번 출구 사이</td>\n",
       "      <td>72.138144</td>\n",
       "      <td>485</td>\n",
       "    </tr>\n",
       "    <tr>\n",
       "      <th>905</th>\n",
       "      <td>옥수역 3번출구</td>\n",
       "      <td>옥수역 3번출구</td>\n",
       "      <td>55.855580</td>\n",
       "      <td>457</td>\n",
       "    </tr>\n",
       "    <tr>\n",
       "      <th>445</th>\n",
       "      <td>몽촌토성역 1번출구 옆</td>\n",
       "      <td>몽촌토성역 1번출구 옆</td>\n",
       "      <td>58.420513</td>\n",
       "      <td>390</td>\n",
       "    </tr>\n",
       "    <tr>\n",
       "      <th>253</th>\n",
       "      <td>노들역 1번출구</td>\n",
       "      <td>노들역 1번출구</td>\n",
       "      <td>63.424731</td>\n",
       "      <td>372</td>\n",
       "    </tr>\n",
       "    <tr>\n",
       "      <th>287</th>\n",
       "      <td>당산육갑문</td>\n",
       "      <td>당산육갑문</td>\n",
       "      <td>66.157738</td>\n",
       "      <td>336</td>\n",
       "    </tr>\n",
       "  </tbody>\n",
       "</table>\n",
       "</div>"
      ],
      "text/plain": [
       "                       대여대여소명                    반납대여소명    이용시간(분)  이용횟수\n",
       "850              여의나루역 1번출구 앞              여의나루역 1번출구 앞  66.167304  1046\n",
       "369             뚝섬유원지역 1번출구 앞             뚝섬유원지역 1번출구 앞  56.593333   900\n",
       "646                 서울숲 관리사무소                 서울숲 관리사무소  57.178947   665\n",
       "518                   봉림교 교통섬                   봉림교 교통섬  58.836096   543\n",
       "404                마포구민체육센터 앞                마포구민체육센터 앞  57.975970   541\n",
       "118   고속터미널역 8-1번, 8-2번 출구 사이   고속터미널역 8-1번, 8-2번 출구 사이  72.138144   485\n",
       "905                  옥수역 3번출구                  옥수역 3번출구  55.855580   457\n",
       "445              몽촌토성역 1번출구 옆              몽촌토성역 1번출구 옆  58.420513   390\n",
       "253                  노들역 1번출구                  노들역 1번출구  63.424731   372\n",
       "287                     당산육갑문                     당산육갑문  66.157738   336"
      ]
     },
     "execution_count": 89,
     "metadata": {},
     "output_type": "execute_result"
    }
   ],
   "source": [
    "# 이용횟수가 많은 곳의 평균 이용시간\n",
    "df_same_loc2.sort_values(by='이용횟수', ascending=False).head(10)"
   ]
  },
  {
   "cell_type": "code",
   "execution_count": 90,
   "metadata": {},
   "outputs": [
    {
     "data": {
      "text/plain": [
       "<matplotlib.axes._subplots.AxesSubplot at 0x1bdee9e99d0>"
      ]
     },
     "execution_count": 90,
     "metadata": {},
     "output_type": "execute_result"
    },
    {
     "data": {
      "image/png": "[encoded data removed]",
      "text/plain": [
       "<Figure size 432x288 with 1 Axes>"
      ]
     },
     "metadata": {
      "needs_background": "light"
     },
     "output_type": "display_data"
    }
   ],
   "source": [
    "df_same_loc2['이용횟수'].plot.hist()"
   ]
  },
  {
   "cell_type": "markdown",
   "metadata": {},
   "source": [
    "### 다른 대여|반납소"
   ]
  },
  {
   "cell_type": "code",
   "execution_count": 91,
   "metadata": {},
   "outputs": [
    {
     "data": {
      "text/plain": [
       "(520100, 24)"
      ]
     },
     "execution_count": 91,
     "metadata": {},
     "output_type": "execute_result"
    }
   ],
   "source": [
    "df_diff_loc = df.loc[df['같은대여반납소'] == False]\n",
    "df_diff_loc.shape"
   ]
  },
  {
   "cell_type": "code",
   "execution_count": 92,
   "metadata": {},
   "outputs": [
    {
     "name": "stdout",
     "output_type": "stream",
     "text": [
      "다른곳에서 대여, 반납이 이루어지는 자전거의 평균 이용시간 :  25.834228033070563\n"
     ]
    },
    {
     "data": {
      "text/html": [
       "<div>\n",
       "<style scoped>\n",
       "    .dataframe tbody tr th:only-of-type {\n",
       "        vertical-align: middle;\n",
       "    }\n",
       "\n",
       "    .dataframe tbody tr th {\n",
       "        vertical-align: top;\n",
       "    }\n",
       "\n",
       "    .dataframe thead th {\n",
       "        text-align: right;\n",
       "    }\n",
       "</style>\n",
       "<table border=\"1\" class=\"dataframe\">\n",
       "  <thead>\n",
       "    <tr style=\"text-align: right;\">\n",
       "      <th></th>\n",
       "      <th>대여대여소명</th>\n",
       "      <th>반납대여소명</th>\n",
       "      <th>이용시간(분)</th>\n",
       "      <th>이용횟수</th>\n",
       "    </tr>\n",
       "  </thead>\n",
       "  <tbody>\n",
       "    <tr>\n",
       "      <th>94100</th>\n",
       "      <td>천왕역 4번출구 뒤</td>\n",
       "      <td>신정3동 현장민원실 앞</td>\n",
       "      <td>740.000000</td>\n",
       "      <td>1</td>\n",
       "    </tr>\n",
       "    <tr>\n",
       "      <th>72879</th>\n",
       "      <td>여의도고교 앞</td>\n",
       "      <td>보라매역 8번출구</td>\n",
       "      <td>651.000000</td>\n",
       "      <td>1</td>\n",
       "    </tr>\n",
       "    <tr>\n",
       "      <th>59814</th>\n",
       "      <td>성수역3번출구</td>\n",
       "      <td>논현역 7번출구</td>\n",
       "      <td>553.000000</td>\n",
       "      <td>1</td>\n",
       "    </tr>\n",
       "    <tr>\n",
       "      <th>70466</th>\n",
       "      <td>압구정파출소 앞</td>\n",
       "      <td>전농사거리 교통섬</td>\n",
       "      <td>506.000000</td>\n",
       "      <td>1</td>\n",
       "    </tr>\n",
       "    <tr>\n",
       "      <th>66230</th>\n",
       "      <td>신설동역8번출구</td>\n",
       "      <td>청계천 박물관 앞</td>\n",
       "      <td>504.000000</td>\n",
       "      <td>3</td>\n",
       "    </tr>\n",
       "    <tr>\n",
       "      <th>41979</th>\n",
       "      <td>방화역 4번출구앞</td>\n",
       "      <td>황금내근린공원</td>\n",
       "      <td>479.000000</td>\n",
       "      <td>1</td>\n",
       "    </tr>\n",
       "    <tr>\n",
       "      <th>1077</th>\n",
       "      <td>DMC역 2번출구 옆</td>\n",
       "      <td>홍은동 정원여중 입구</td>\n",
       "      <td>440.000000</td>\n",
       "      <td>2</td>\n",
       "    </tr>\n",
       "    <tr>\n",
       "      <th>84463</th>\n",
       "      <td>이태원지하보도</td>\n",
       "      <td>마포구청역</td>\n",
       "      <td>437.000000</td>\n",
       "      <td>2</td>\n",
       "    </tr>\n",
       "    <tr>\n",
       "      <th>84329</th>\n",
       "      <td>이태원관광특구입구</td>\n",
       "      <td>국립현대미술관</td>\n",
       "      <td>405.666667</td>\n",
       "      <td>3</td>\n",
       "    </tr>\n",
       "    <tr>\n",
       "      <th>15423</th>\n",
       "      <td>구로역 광장</td>\n",
       "      <td>유한양행앞</td>\n",
       "      <td>405.000000</td>\n",
       "      <td>1</td>\n",
       "    </tr>\n",
       "  </tbody>\n",
       "</table>\n",
       "</div>"
      ],
      "text/plain": [
       "             대여대여소명         반납대여소명     이용시간(분)  이용횟수\n",
       "94100    천왕역 4번출구 뒤   신정3동 현장민원실 앞  740.000000     1\n",
       "72879       여의도고교 앞      보라매역 8번출구  651.000000     1\n",
       "59814       성수역3번출구       논현역 7번출구  553.000000     1\n",
       "70466      압구정파출소 앞      전농사거리 교통섬  506.000000     1\n",
       "66230      신설동역8번출구      청계천 박물관 앞  504.000000     3\n",
       "41979     방화역 4번출구앞        황금내근린공원  479.000000     1\n",
       "1077    DMC역 2번출구 옆    홍은동 정원여중 입구  440.000000     2\n",
       "84463       이태원지하보도         마포구청역   437.000000     2\n",
       "84329     이태원관광특구입구        국립현대미술관  405.666667     3\n",
       "15423        구로역 광장          유한양행앞  405.000000     1"
      ]
     },
     "execution_count": 92,
     "metadata": {},
     "output_type": "execute_result"
    }
   ],
   "source": [
    "diff_loc_mean_time = df_diff_loc['이용시간(분)'].mean()\n",
    "print('다른곳에서 대여, 반납이 이루어지는 자전거의 평균 이용시간 : ', df_diff_loc['이용시간(분)'].mean())\n",
    "df_diff_mean = df_diff_loc.groupby(['대여대여소명', '반납대여소명'])['이용시간(분)'].mean().reset_index()\n",
    "df_diff_count = df_diff_loc.groupby(['대여대여소명', '반납대여소명']).size().reset_index()\n",
    "df_diff_count.columns = ['대여대여소명', '반납대여소명', '이용횟수']\n",
    "df_diff_loc2 = df_diff_mean.merge(df_diff_count, left_on=['대여대여소명', '반납대여소명'], right_on=['대여대여소명', '반납대여소명'])\n",
    "df_diff_loc2.sort_values(by='이용시간(분)', ascending=False).head(10)"
   ]
  },
  {
   "cell_type": "code",
   "execution_count": 93,
   "metadata": {},
   "outputs": [
    {
     "data": {
      "text/html": [
       "<div>\n",
       "<style scoped>\n",
       "    .dataframe tbody tr th:only-of-type {\n",
       "        vertical-align: middle;\n",
       "    }\n",
       "\n",
       "    .dataframe tbody tr th {\n",
       "        vertical-align: top;\n",
       "    }\n",
       "\n",
       "    .dataframe thead th {\n",
       "        text-align: right;\n",
       "    }\n",
       "</style>\n",
       "<table border=\"1\" class=\"dataframe\">\n",
       "  <thead>\n",
       "    <tr style=\"text-align: right;\">\n",
       "      <th></th>\n",
       "      <th>대여대여소명</th>\n",
       "      <th>반납대여소명</th>\n",
       "      <th>이용시간(분)</th>\n",
       "      <th>이용횟수</th>\n",
       "    </tr>\n",
       "  </thead>\n",
       "  <tbody>\n",
       "    <tr>\n",
       "      <th>99349</th>\n",
       "      <td>하늘채코오롱아파트 건너편</td>\n",
       "      <td>홍대입구역 2번출구 앞</td>\n",
       "      <td>10.240938</td>\n",
       "      <td>469</td>\n",
       "    </tr>\n",
       "    <tr>\n",
       "      <th>104360</th>\n",
       "      <td>홍대입구역 2번출구 앞</td>\n",
       "      <td>하늘채코오롱아파트 건너편</td>\n",
       "      <td>14.943734</td>\n",
       "      <td>391</td>\n",
       "    </tr>\n",
       "    <tr>\n",
       "      <th>86527</th>\n",
       "      <td>장승배기역 5번출구</td>\n",
       "      <td>노량진역 5번출구</td>\n",
       "      <td>8.200000</td>\n",
       "      <td>285</td>\n",
       "    </tr>\n",
       "    <tr>\n",
       "      <th>43695</th>\n",
       "      <td>봉림교 교통섬</td>\n",
       "      <td>도림천 신화교</td>\n",
       "      <td>17.679856</td>\n",
       "      <td>278</td>\n",
       "    </tr>\n",
       "    <tr>\n",
       "      <th>26686</th>\n",
       "      <td>도림천 신화교</td>\n",
       "      <td>봉림교 교통섬</td>\n",
       "      <td>14.248175</td>\n",
       "      <td>274</td>\n",
       "    </tr>\n",
       "    <tr>\n",
       "      <th>108597</th>\n",
       "      <td>청계산입구역 1번출구</td>\n",
       "      <td>언남초등학교 앞</td>\n",
       "      <td>8.184426</td>\n",
       "      <td>244</td>\n",
       "    </tr>\n",
       "    <tr>\n",
       "      <th>43745</th>\n",
       "      <td>봉림교 교통섬</td>\n",
       "      <td>서울신성초등학교</td>\n",
       "      <td>21.479339</td>\n",
       "      <td>242</td>\n",
       "    </tr>\n",
       "    <tr>\n",
       "      <th>72270</th>\n",
       "      <td>언남초등학교 앞</td>\n",
       "      <td>청계산입구역 1번출구</td>\n",
       "      <td>6.260504</td>\n",
       "      <td>238</td>\n",
       "    </tr>\n",
       "    <tr>\n",
       "      <th>7959</th>\n",
       "      <td>건국대학교 (입학정보관)</td>\n",
       "      <td>건국대학교 학생회관</td>\n",
       "      <td>12.218341</td>\n",
       "      <td>229</td>\n",
       "    </tr>\n",
       "    <tr>\n",
       "      <th>85076</th>\n",
       "      <td>자양나들목</td>\n",
       "      <td>뚝섬유원지역 1번출구 앞</td>\n",
       "      <td>8.204651</td>\n",
       "      <td>215</td>\n",
       "    </tr>\n",
       "  </tbody>\n",
       "</table>\n",
       "</div>"
      ],
      "text/plain": [
       "                대여대여소명          반납대여소명    이용시간(분)  이용횟수\n",
       "99349    하늘채코오롱아파트 건너편    홍대입구역 2번출구 앞  10.240938   469\n",
       "104360    홍대입구역 2번출구 앞   하늘채코오롱아파트 건너편  14.943734   391\n",
       "86527       장승배기역 5번출구       노량진역 5번출구   8.200000   285\n",
       "43695          봉림교 교통섬         도림천 신화교  17.679856   278\n",
       "26686          도림천 신화교         봉림교 교통섬  14.248175   274\n",
       "108597     청계산입구역 1번출구        언남초등학교 앞   8.184426   244\n",
       "43745          봉림교 교통섬        서울신성초등학교  21.479339   242\n",
       "72270         언남초등학교 앞     청계산입구역 1번출구   6.260504   238\n",
       "7959     건국대학교 (입학정보관)      건국대학교 학생회관  12.218341   229\n",
       "85076            자양나들목   뚝섬유원지역 1번출구 앞   8.204651   215"
      ]
     },
     "execution_count": 93,
     "metadata": {},
     "output_type": "execute_result"
    }
   ],
   "source": [
    "df_diff_loc2.sort_values(by='이용횟수', ascending=False).head(10)"
   ]
  },
  {
   "cell_type": "code",
   "execution_count": 94,
   "metadata": {},
   "outputs": [
    {
     "name": "stdout",
     "output_type": "stream",
     "text": [
      "같은 곳에서 대여반납이 이루어지는 자전거의 이용시간(분)이 다른 대여소의 대여반납 이용시간보다 27.35 분 많다.\n"
     ]
    }
   ],
   "source": [
    "rent_mean_time = same_loc_mean_time - diff_loc_mean_time\n",
    "print('같은 곳에서 대여반납이 이루어지는 자전거의 이용시간(분)이 다른 대여소의 대여반납 이용시간보다 {:,.2f} 분 많다.'.format(rent_mean_time))"
   ]
  },
  {
   "cell_type": "markdown",
   "metadata": {},
   "source": [
    "* 이용횟수가 많은 대여소라고 해서 평균이용시간이 평균보다 높지는 않다.\n",
    "* 하늘채코오롱아파트 건너편<->홍대입구역 2번출구 앞은 이용횟수가 가장 높은 대여반납소다.\n",
    "* 관련기사\n",
    "    * ['따릉이' 타고 가장 많이 다닌 경로는? - 통플러스](http://news.tongplus.com/site/data/html_dir/2018/10/24/2018102402585.html)\n",
    "    * [[ONE SHOT] 따릉이, ‘이곳’서 가장 많이 빌리고 ‘여기’서 가장 많이 탄다](https://news.joins.com/article/23003297)"
   ]
  },
  {
   "cell_type": "markdown",
   "metadata": {},
   "source": [
    "## 해당 기간동안 가장 많이 이용된 자전거는 몇 회 대여 되었을까?"
   ]
  },
  {
   "cell_type": "code",
   "execution_count": 95,
   "metadata": {},
   "outputs": [
    {
     "name": "stdout",
     "output_type": "stream",
     "text": [
      "<class 'pandas.core.frame.DataFrame'>\n",
      "RangeIndex: 586304 entries, 0 to 586303\n",
      "Data columns (total 24 columns):\n",
      " #   Column   Non-Null Count   Dtype         \n",
      "---  ------   --------------   -----         \n",
      " 0   자전거번호    586304 non-null  object        \n",
      " 1   대여일시     586304 non-null  datetime64[ns]\n",
      " 2   대여대여소번호  586304 non-null  object        \n",
      " 3   대여대여소명   586304 non-null  object        \n",
      " 4   대여거치대    586304 non-null  int64         \n",
      " 5   반납일시     586304 non-null  datetime64[ns]\n",
      " 6   반납대여소번호  586304 non-null  object        \n",
      " 7   반납대여소명   586304 non-null  object        \n",
      " 8   반납거치대    586304 non-null  int64         \n",
      " 9   이용시간(분)  586304 non-null  int64         \n",
      " 10  이용거리(M)  586304 non-null  int64         \n",
      " 11  대여년      586304 non-null  int64         \n",
      " 12  대여월      586304 non-null  int64         \n",
      " 13  대여일      586304 non-null  int64         \n",
      " 14  대여시      586304 non-null  int64         \n",
      " 15  대여분      586304 non-null  int64         \n",
      " 16  대여요일     586304 non-null  int64         \n",
      " 17  반납년      586304 non-null  int64         \n",
      " 18  반납월      586304 non-null  int64         \n",
      " 19  반납일      586304 non-null  int64         \n",
      " 20  반납시      586304 non-null  int64         \n",
      " 21  반납분      586304 non-null  int64         \n",
      " 22  반납요일     586304 non-null  int64         \n",
      " 23  같은대여반납소  586304 non-null  bool          \n",
      "dtypes: bool(1), datetime64[ns](2), int64(16), object(5)\n",
      "memory usage: 103.4+ MB\n"
     ]
    },
    {
     "data": {
      "text/plain": [
       "count        586304\n",
       "unique        12970\n",
       "top       SPB-18238\n",
       "freq            139\n",
       "Name: 자전거번호, dtype: object"
      ]
     },
     "execution_count": 95,
     "metadata": {},
     "output_type": "execute_result"
    }
   ],
   "source": [
    "df.info()\n",
    "df['자전거번호'].describe()"
   ]
  },
  {
   "cell_type": "code",
   "execution_count": 96,
   "metadata": {},
   "outputs": [
    {
     "name": "stdout",
     "output_type": "stream",
     "text": [
      "대여된 자전거 수 : 12970\n",
      "가장 많이 대여된 자전거 번호 : SPB-18238\n",
      "가장 많이 대여된 자전거의 대여횟수 : 139\n"
     ]
    },
    {
     "data": {
      "text/plain": [
       "count        586304\n",
       "unique        12970\n",
       "top       SPB-18238\n",
       "freq            139\n",
       "Name: 자전거번호, dtype: object"
      ]
     },
     "execution_count": 96,
     "metadata": {},
     "output_type": "execute_result"
    }
   ],
   "source": [
    "bike_describe = df['자전거번호'].describe()\n",
    "print('대여된 자전거 수 :', bike_describe[1]) #unique\n",
    "print('가장 많이 대여된 자전거 번호 :', bike_describe[2]) #top\n",
    "print('가장 많이 대여된 자전거의 대여횟수 :', bike_describe[3]) #freq\n",
    "bike_describe"
   ]
  },
  {
   "cell_type": "code",
   "execution_count": 97,
   "metadata": {},
   "outputs": [
    {
     "name": "stdout",
     "output_type": "stream",
     "text": [
      "해당 기간동안 자전거 하나당 평균 대여 수: 45.20462606013878\n",
      "자전거 하나당 가장 많이 대여된 횟수: 139\n",
      "자전거 하나당 가장 적게 대여된 횟수: 1\n"
     ]
    },
    {
     "data": {
      "text/html": [
       "<div>\n",
       "<style scoped>\n",
       "    .dataframe tbody tr th:only-of-type {\n",
       "        vertical-align: middle;\n",
       "    }\n",
       "\n",
       "    .dataframe tbody tr th {\n",
       "        vertical-align: top;\n",
       "    }\n",
       "\n",
       "    .dataframe thead th {\n",
       "        text-align: right;\n",
       "    }\n",
       "</style>\n",
       "<table border=\"1\" class=\"dataframe\">\n",
       "  <thead>\n",
       "    <tr style=\"text-align: right;\">\n",
       "      <th></th>\n",
       "      <th>자전거번호</th>\n",
       "      <th>대여수</th>\n",
       "    </tr>\n",
       "  </thead>\n",
       "  <tbody>\n",
       "    <tr>\n",
       "      <th>0</th>\n",
       "      <td>SPB-18238</td>\n",
       "      <td>139</td>\n",
       "    </tr>\n",
       "    <tr>\n",
       "      <th>1</th>\n",
       "      <td>SPB-14689</td>\n",
       "      <td>128</td>\n",
       "    </tr>\n",
       "    <tr>\n",
       "      <th>2</th>\n",
       "      <td>SPB-16288</td>\n",
       "      <td>126</td>\n",
       "    </tr>\n",
       "    <tr>\n",
       "      <th>3</th>\n",
       "      <td>SPB-16176</td>\n",
       "      <td>125</td>\n",
       "    </tr>\n",
       "    <tr>\n",
       "      <th>4</th>\n",
       "      <td>SPB-18073</td>\n",
       "      <td>121</td>\n",
       "    </tr>\n",
       "  </tbody>\n",
       "</table>\n",
       "</div>"
      ],
      "text/plain": [
       "       자전거번호  대여수\n",
       "0  SPB-18238  139\n",
       "1  SPB-14689  128\n",
       "2  SPB-16288  126\n",
       "3  SPB-16176  125\n",
       "4  SPB-18073  121"
      ]
     },
     "execution_count": 97,
     "metadata": {},
     "output_type": "execute_result"
    }
   ],
   "source": [
    "bike_rent_counts = df['자전거번호'].value_counts().reset_index()\n",
    "bike_rent_counts.columns = ['자전거번호', '대여수']\n",
    "print('해당 기간동안 자전거 하나당 평균 대여 수:', bike_rent_counts['대여수'].mean())\n",
    "print('자전거 하나당 가장 많이 대여된 횟수:', bike_rent_counts['대여수'].max())\n",
    "print('자전거 하나당 가장 적게 대여된 횟수:', bike_rent_counts['대여수'].min())\n",
    "bike_rent_counts.head()"
   ]
  },
  {
   "cell_type": "code",
   "execution_count": 98,
   "metadata": {},
   "outputs": [
    {
     "data": {
      "text/html": [
       "<div>\n",
       "<style scoped>\n",
       "    .dataframe tbody tr th:only-of-type {\n",
       "        vertical-align: middle;\n",
       "    }\n",
       "\n",
       "    .dataframe tbody tr th {\n",
       "        vertical-align: top;\n",
       "    }\n",
       "\n",
       "    .dataframe thead th {\n",
       "        text-align: right;\n",
       "    }\n",
       "</style>\n",
       "<table border=\"1\" class=\"dataframe\">\n",
       "  <thead>\n",
       "    <tr style=\"text-align: right;\">\n",
       "      <th></th>\n",
       "      <th>자전거번호</th>\n",
       "      <th>대여수</th>\n",
       "    </tr>\n",
       "  </thead>\n",
       "  <tbody>\n",
       "    <tr>\n",
       "      <th>12965</th>\n",
       "      <td>SPB-06897</td>\n",
       "      <td>1</td>\n",
       "    </tr>\n",
       "    <tr>\n",
       "      <th>12966</th>\n",
       "      <td>SPB-14435</td>\n",
       "      <td>1</td>\n",
       "    </tr>\n",
       "    <tr>\n",
       "      <th>12967</th>\n",
       "      <td>SPB-15775</td>\n",
       "      <td>1</td>\n",
       "    </tr>\n",
       "    <tr>\n",
       "      <th>12968</th>\n",
       "      <td>SPB-12617</td>\n",
       "      <td>1</td>\n",
       "    </tr>\n",
       "    <tr>\n",
       "      <th>12969</th>\n",
       "      <td>SPB-14818</td>\n",
       "      <td>1</td>\n",
       "    </tr>\n",
       "  </tbody>\n",
       "</table>\n",
       "</div>"
      ],
      "text/plain": [
       "           자전거번호  대여수\n",
       "12965  SPB-06897    1\n",
       "12966  SPB-14435    1\n",
       "12967  SPB-15775    1\n",
       "12968  SPB-12617    1\n",
       "12969  SPB-14818    1"
      ]
     },
     "execution_count": 98,
     "metadata": {},
     "output_type": "execute_result"
    }
   ],
   "source": [
    "bike_rent_counts.tail()"
   ]
  },
  {
   "cell_type": "code",
   "execution_count": 99,
   "metadata": {},
   "outputs": [
    {
     "data": {
      "text/plain": [
       "<matplotlib.axes._subplots.AxesSubplot at 0x1bddae97c40>"
      ]
     },
     "execution_count": 99,
     "metadata": {},
     "output_type": "execute_result"
    },
    {
     "data": {
      "image/png": "[encoded data removed]",
      "text/plain": [
       "<Figure size 432x288 with 1 Axes>"
      ]
     },
     "metadata": {
      "needs_background": "light"
     },
     "output_type": "display_data"
    }
   ],
   "source": [
    "bike_rent_counts.plot.hist()"
   ]
  },
  {
   "cell_type": "code",
   "execution_count": 100,
   "metadata": {},
   "outputs": [
    {
     "data": {
      "text/html": [
       "<div>\n",
       "<style scoped>\n",
       "    .dataframe tbody tr th:only-of-type {\n",
       "        vertical-align: middle;\n",
       "    }\n",
       "\n",
       "    .dataframe tbody tr th {\n",
       "        vertical-align: top;\n",
       "    }\n",
       "\n",
       "    .dataframe thead th {\n",
       "        text-align: right;\n",
       "    }\n",
       "</style>\n",
       "<table border=\"1\" class=\"dataframe\">\n",
       "  <thead>\n",
       "    <tr style=\"text-align: right;\">\n",
       "      <th></th>\n",
       "      <th>자전거번호</th>\n",
       "      <th>대여일시</th>\n",
       "      <th>대여대여소번호</th>\n",
       "      <th>대여대여소명</th>\n",
       "      <th>대여거치대</th>\n",
       "      <th>반납일시</th>\n",
       "      <th>반납대여소번호</th>\n",
       "      <th>반납대여소명</th>\n",
       "      <th>반납거치대</th>\n",
       "      <th>이용시간(분)</th>\n",
       "      <th>...</th>\n",
       "      <th>대여시</th>\n",
       "      <th>대여분</th>\n",
       "      <th>대여요일</th>\n",
       "      <th>반납년</th>\n",
       "      <th>반납월</th>\n",
       "      <th>반납일</th>\n",
       "      <th>반납시</th>\n",
       "      <th>반납분</th>\n",
       "      <th>반납요일</th>\n",
       "      <th>같은대여반납소</th>\n",
       "    </tr>\n",
       "  </thead>\n",
       "  <tbody>\n",
       "    <tr>\n",
       "      <th>13282</th>\n",
       "      <td>SPB-18238</td>\n",
       "      <td>2018-06-16 13:01:05</td>\n",
       "      <td>2140</td>\n",
       "      <td>신림1교 교차로</td>\n",
       "      <td>6</td>\n",
       "      <td>2018-06-16 13:46:40</td>\n",
       "      <td>1975</td>\n",
       "      <td>대림역 1번 출입구 밑</td>\n",
       "      <td>4</td>\n",
       "      <td>45</td>\n",
       "      <td>...</td>\n",
       "      <td>13</td>\n",
       "      <td>1</td>\n",
       "      <td>5</td>\n",
       "      <td>2018</td>\n",
       "      <td>6</td>\n",
       "      <td>16</td>\n",
       "      <td>13</td>\n",
       "      <td>46</td>\n",
       "      <td>5</td>\n",
       "      <td>False</td>\n",
       "    </tr>\n",
       "    <tr>\n",
       "      <th>14861</th>\n",
       "      <td>SPB-18238</td>\n",
       "      <td>2018-06-16 13:47:21</td>\n",
       "      <td>1975</td>\n",
       "      <td>대림역 1번 출입구 밑</td>\n",
       "      <td>4</td>\n",
       "      <td>2018-06-16 14:17:53</td>\n",
       "      <td>2140</td>\n",
       "      <td>신림1교 교차로</td>\n",
       "      <td>6</td>\n",
       "      <td>30</td>\n",
       "      <td>...</td>\n",
       "      <td>13</td>\n",
       "      <td>47</td>\n",
       "      <td>5</td>\n",
       "      <td>2018</td>\n",
       "      <td>6</td>\n",
       "      <td>16</td>\n",
       "      <td>14</td>\n",
       "      <td>17</td>\n",
       "      <td>5</td>\n",
       "      <td>False</td>\n",
       "    </tr>\n",
       "    <tr>\n",
       "      <th>18639</th>\n",
       "      <td>SPB-18238</td>\n",
       "      <td>2018-06-16 15:25:52</td>\n",
       "      <td>2140</td>\n",
       "      <td>신림1교 교차로</td>\n",
       "      <td>6</td>\n",
       "      <td>2018-06-16 16:16:09</td>\n",
       "      <td>2140</td>\n",
       "      <td>신림1교 교차로</td>\n",
       "      <td>2</td>\n",
       "      <td>49</td>\n",
       "      <td>...</td>\n",
       "      <td>15</td>\n",
       "      <td>25</td>\n",
       "      <td>5</td>\n",
       "      <td>2018</td>\n",
       "      <td>6</td>\n",
       "      <td>16</td>\n",
       "      <td>16</td>\n",
       "      <td>16</td>\n",
       "      <td>5</td>\n",
       "      <td>True</td>\n",
       "    </tr>\n",
       "    <tr>\n",
       "      <th>22887</th>\n",
       "      <td>SPB-18238</td>\n",
       "      <td>2018-06-16 17:01:22</td>\n",
       "      <td>2140</td>\n",
       "      <td>신림1교 교차로</td>\n",
       "      <td>2</td>\n",
       "      <td>2018-06-16 18:39:24</td>\n",
       "      <td>2140</td>\n",
       "      <td>신림1교 교차로</td>\n",
       "      <td>1</td>\n",
       "      <td>97</td>\n",
       "      <td>...</td>\n",
       "      <td>17</td>\n",
       "      <td>1</td>\n",
       "      <td>5</td>\n",
       "      <td>2018</td>\n",
       "      <td>6</td>\n",
       "      <td>16</td>\n",
       "      <td>18</td>\n",
       "      <td>39</td>\n",
       "      <td>5</td>\n",
       "      <td>True</td>\n",
       "    </tr>\n",
       "    <tr>\n",
       "      <th>28700</th>\n",
       "      <td>SPB-18238</td>\n",
       "      <td>2018-06-16 18:43:39</td>\n",
       "      <td>2140</td>\n",
       "      <td>신림1교 교차로</td>\n",
       "      <td>1</td>\n",
       "      <td>2018-06-16 19:21:39</td>\n",
       "      <td>2171</td>\n",
       "      <td>서울대입구역 5번출구</td>\n",
       "      <td>12</td>\n",
       "      <td>37</td>\n",
       "      <td>...</td>\n",
       "      <td>18</td>\n",
       "      <td>43</td>\n",
       "      <td>5</td>\n",
       "      <td>2018</td>\n",
       "      <td>6</td>\n",
       "      <td>16</td>\n",
       "      <td>19</td>\n",
       "      <td>21</td>\n",
       "      <td>5</td>\n",
       "      <td>False</td>\n",
       "    </tr>\n",
       "  </tbody>\n",
       "</table>\n",
       "<p>5 rows × 24 columns</p>\n",
       "</div>"
      ],
      "text/plain": [
       "           자전거번호                대여일시 대여대여소번호         대여대여소명  대여거치대  \\\n",
       "13282  SPB-18238 2018-06-16 13:01:05    2140       신림1교 교차로      6   \n",
       "14861  SPB-18238 2018-06-16 13:47:21    1975   대림역 1번 출입구 밑      4   \n",
       "18639  SPB-18238 2018-06-16 15:25:52    2140       신림1교 교차로      6   \n",
       "22887  SPB-18238 2018-06-16 17:01:22    2140       신림1교 교차로      2   \n",
       "28700  SPB-18238 2018-06-16 18:43:39    2140       신림1교 교차로      1   \n",
       "\n",
       "                     반납일시 반납대여소번호         반납대여소명  반납거치대  이용시간(분)  ...  대여시  \\\n",
       "13282 2018-06-16 13:46:40    1975   대림역 1번 출입구 밑      4       45  ...   13   \n",
       "14861 2018-06-16 14:17:53    2140       신림1교 교차로      6       30  ...   13   \n",
       "18639 2018-06-16 16:16:09    2140       신림1교 교차로      2       49  ...   15   \n",
       "22887 2018-06-16 18:39:24    2140       신림1교 교차로      1       97  ...   17   \n",
       "28700 2018-06-16 19:21:39    2171    서울대입구역 5번출구     12       37  ...   18   \n",
       "\n",
       "       대여분  대여요일   반납년  반납월  반납일  반납시  반납분  반납요일  같은대여반납소  \n",
       "13282    1     5  2018    6   16   13   46     5    False  \n",
       "14861   47     5  2018    6   16   14   17     5    False  \n",
       "18639   25     5  2018    6   16   16   16     5     True  \n",
       "22887    1     5  2018    6   16   18   39     5     True  \n",
       "28700   43     5  2018    6   16   19   21     5    False  \n",
       "\n",
       "[5 rows x 24 columns]"
      ]
     },
     "execution_count": 100,
     "metadata": {},
     "output_type": "execute_result"
    }
   ],
   "source": [
    "# 가장 많이 대여된 자전거의 대여이력\n",
    "most_bike_df = df.loc[df['자전거번호'] == bike_describe[2]]\n",
    "most_bike_df.head()"
   ]
  },
  {
   "cell_type": "markdown",
   "metadata": {},
   "source": [
    "* 같은 자전거가 동일 시간대에 여러번 대여된 이력을 확인 할 수 있다. 좀 더 확인이 필요하다."
   ]
  },
  {
   "cell_type": "code",
   "execution_count": 101,
   "metadata": {},
   "outputs": [
    {
     "data": {
      "text/plain": [
       "1122    57\n",
       "623      4\n",
       "2140     4\n",
       "2139     3\n",
       "179      2\n",
       "Name: 대여대여소번호, dtype: int64"
      ]
     },
     "execution_count": 101,
     "metadata": {},
     "output_type": "execute_result"
    }
   ],
   "source": [
    "most_bike_df['대여대여소번호'].value_counts().head()"
   ]
  },
  {
   "cell_type": "code",
   "execution_count": 102,
   "metadata": {},
   "outputs": [
    {
     "data": {
      "text/plain": [
       "2018-06-18 18:58:02    22\n",
       "2018-06-18 18:49:46    18\n",
       "2018-06-18 18:55:24    15\n",
       "2018-06-18 19:03:29     1\n",
       "2018-06-18 17:58:03     1\n",
       "Name: 대여일시, dtype: int64"
      ]
     },
     "execution_count": 102,
     "metadata": {},
     "output_type": "execute_result"
    }
   ],
   "source": [
    "most_bike_df[most_bike_df['대여대여소번호'] == '1122']['대여일시'].value_counts()"
   ]
  },
  {
   "cell_type": "code",
   "execution_count": 103,
   "metadata": {},
   "outputs": [
    {
     "data": {
      "text/plain": [
       "2018-06-18 18:59:27    3\n",
       "2018-06-18 18:59:36    3\n",
       "2018-06-18 18:55:45    3\n",
       "2018-06-18 18:55:58    3\n",
       "2018-06-18 18:56:12    3\n",
       "2018-06-18 18:56:24    3\n",
       "2018-06-18 18:58:21    3\n",
       "2018-06-18 18:58:36    3\n",
       "2018-06-18 18:59:07    3\n",
       "2018-06-18 18:53:48    3\n",
       "2018-06-18 18:55:32    3\n",
       "2018-06-18 19:00:01    3\n",
       "2018-06-18 18:52:28    3\n",
       "2018-06-18 18:52:53    3\n",
       "2018-06-18 18:53:01    3\n",
       "2018-06-18 18:51:10    2\n",
       "2018-06-18 18:58:52    2\n",
       "2018-06-18 18:53:29    2\n",
       "2018-06-18 18:58:11    1\n",
       "2018-06-18 18:58:51    1\n",
       "2018-06-18 18:51:09    1\n",
       "2018-06-18 18:49:05    1\n",
       "2018-06-18 18:53:28    1\n",
       "2018-06-18 20:09:26    1\n",
       "Name: 반납일시, dtype: int64"
      ]
     },
     "execution_count": 103,
     "metadata": {},
     "output_type": "execute_result"
    }
   ],
   "source": [
    "most_bike_df[most_bike_df['대여대여소번호'] == '1122']['반납일시'].value_counts()"
   ]
  },
  {
   "cell_type": "code",
   "execution_count": 104,
   "metadata": {},
   "outputs": [
    {
     "data": {
      "text/plain": [
       " 황금내근린공원        57\n",
       " 신림1교 교차로        4\n",
       " 서울시립대 정문 앞      4\n",
       " 서울신성초등학교        3\n",
       " 서울대입구역 5번출구     2\n",
       "                ..\n",
       " 종로구청 옆          1\n",
       " 돈암성당 옆          1\n",
       " 마포역 1번출구 뒤      1\n",
       " 충정로역 7번출구 뒤     1\n",
       " 군자지하보도 앞        1\n",
       "Name: 대여대여소명, Length: 67, dtype: int64"
      ]
     },
     "execution_count": 104,
     "metadata": {},
     "output_type": "execute_result"
    }
   ],
   "source": [
    "most_bike_df['대여대여소명'].value_counts()"
   ]
  },
  {
   "cell_type": "code",
   "execution_count": 105,
   "metadata": {},
   "outputs": [
    {
     "data": {
      "text/plain": [
       "array([' 신림1교 교차로', ' 대림역 1번 출입구 밑', ' 서울대입구역 5번출구', ' 봉림교 교통섬',\n",
       "       ' 서울신성초등학교', ' 구로디지털단지역 앞', ' 대림역4번출구', ' 삼부르네상스파크빌', ' 가산동 주민센터',\n",
       "       ' 가리봉동주민센터', ' 신림역 5번출구', ' 신림동걷고싶은문화의거리입구', ' 대방역6번출구', ' 산업은행 앞',\n",
       "       ' IFC몰', ' 황금내근린공원', ' 서빙고동 주민센터 앞', ' 북가좌1동 주민센터 ', ' 가좌역 4번출구 앞',\n",
       "       ' 상명대입구', ' 청와대앞길', ' 종로구청 옆', ' 삼각산동 주민센터', ' 정릉현대힐스테이트 1차 후문',\n",
       "       ' 돈암초교 입구', ' 동성중학교 앞', ' 돈암성당 옆', ' 맥스타일 앞', ' 포르투갈 대사관 앞',\n",
       "       ' 종로3가역 2번출구 뒤', ' 청계8가 사거리', ' 안암로터리 버스정류장 앞', ' 서울시립대 정문 앞',\n",
       "       ' 청량리 기업은행 앞', ' 용답역 1번 출구', ' 옥수역 3번출구', ' 청계천 생태교실 앞', ' 베르가모앞',\n",
       "       ' 합정역 7번출구 앞', ' (구)합정동 주민센터', ' 마포구민체육센터 앞', ' 사루비아 빌딩 앞',\n",
       "       ' KB국민은행 염창역 지점 앞', ' 마포역 1번출구 뒤', ' 신촌역(2호선) 7번출구 앞',\n",
       "       ' 광흥창역 2번출구 앞', ' 서강대 정문 건너편', ' 북성초교', ' 충정로역 7번출구 뒤',\n",
       "       ' 종각역 5번출구', ' 세운스퀘어 앞', ' 동대문역 8번 출구', ' 신설동역 10번출구 앞',\n",
       "       ' 도선동 주민센터 앞', ' 신설동역8번출구', ' 영동대교 북단', ' 성수역3번출구',\n",
       "       ' 성수2가1동 공영주차장 인근', ' 광진광장 교통섬', ' 광진메디칼 앞', ' 어린이대공원역6번출구',\n",
       "       ' 동원사거리', ' 세종사이버대학교', ' 군자역 7번출구뒤', ' 군자지하보도 앞', ' 성수아카데미타워 앞',\n",
       "       ' 홈플러스 면목동점'], dtype=object)"
      ]
     },
     "execution_count": 105,
     "metadata": {},
     "output_type": "execute_result"
    }
   ],
   "source": [
    "rent_station = most_bike_df['대여대여소명'].unique()\n",
    "rent_station"
   ]
  },
  {
   "cell_type": "code",
   "execution_count": 106,
   "metadata": {},
   "outputs": [
    {
     "data": {
      "text/plain": [
       "['신림1교 교차로',\n",
       " '대림역 1번 출입구 밑',\n",
       " '서울대입구역 5번출구',\n",
       " '봉림교 교통섬',\n",
       " '서울신성초등학교',\n",
       " '구로디지털단지역 앞',\n",
       " '대림역4번출구',\n",
       " '삼부르네상스파크빌',\n",
       " '가산동 주민센터',\n",
       " '가리봉동주민센터',\n",
       " '신림역 5번출구',\n",
       " '신림동걷고싶은문화의거리입구',\n",
       " '대방역6번출구',\n",
       " '산업은행 앞',\n",
       " 'IFC몰',\n",
       " '황금내근린공원',\n",
       " '서빙고동 주민센터 앞',\n",
       " '북가좌1동 주민센터',\n",
       " '가좌역 4번출구 앞',\n",
       " '상명대입구',\n",
       " '청와대앞길',\n",
       " '종로구청 옆',\n",
       " '삼각산동 주민센터',\n",
       " '정릉현대힐스테이트 1차 후문',\n",
       " '돈암초교 입구',\n",
       " '동성중학교 앞',\n",
       " '돈암성당 옆',\n",
       " '맥스타일 앞',\n",
       " '포르투갈 대사관 앞',\n",
       " '종로3가역 2번출구 뒤',\n",
       " '청계8가 사거리',\n",
       " '안암로터리 버스정류장 앞',\n",
       " '서울시립대 정문 앞',\n",
       " '청량리 기업은행 앞',\n",
       " '용답역 1번 출구',\n",
       " '옥수역 3번출구',\n",
       " '청계천 생태교실 앞',\n",
       " '베르가모앞',\n",
       " '합정역 7번출구 앞',\n",
       " '(구)합정동 주민센터',\n",
       " '마포구민체육센터 앞',\n",
       " '사루비아 빌딩 앞',\n",
       " 'KB국민은행 염창역 지점 앞',\n",
       " '마포역 1번출구 뒤',\n",
       " '신촌역(2호선) 7번출구 앞',\n",
       " '광흥창역 2번출구 앞',\n",
       " '서강대 정문 건너편',\n",
       " '북성초교',\n",
       " '충정로역 7번출구 뒤',\n",
       " '종각역 5번출구',\n",
       " '세운스퀘어 앞',\n",
       " '동대문역 8번 출구',\n",
       " '신설동역 10번출구 앞',\n",
       " '도선동 주민센터 앞',\n",
       " '신설동역8번출구',\n",
       " '영동대교 북단',\n",
       " '성수역3번출구',\n",
       " '성수2가1동 공영주차장 인근',\n",
       " '광진광장 교통섬',\n",
       " '광진메디칼 앞',\n",
       " '어린이대공원역6번출구',\n",
       " '동원사거리',\n",
       " '세종사이버대학교',\n",
       " '군자역 7번출구뒤',\n",
       " '군자지하보도 앞',\n",
       " '성수아카데미타워 앞',\n",
       " '홈플러스 면목동점']"
      ]
     },
     "execution_count": 106,
     "metadata": {},
     "output_type": "execute_result"
    }
   ],
   "source": [
    "# 대여소명 앞에 들어간 공백을 제거합니다.\n",
    "bike_move = []\n",
    "for s in rent_station:\n",
    "    bike_move.append(s.strip())\n",
    "    \n",
    "bike_move    "
   ]
  },
  {
   "cell_type": "code",
   "execution_count": 107,
   "metadata": {},
   "outputs": [
    {
     "name": "stdout",
     "output_type": "stream",
     "text": [
      "(1463, 5)\n"
     ]
    },
    {
     "data": {
      "text/html": [
       "<div>\n",
       "<style scoped>\n",
       "    .dataframe tbody tr th:only-of-type {\n",
       "        vertical-align: middle;\n",
       "    }\n",
       "\n",
       "    .dataframe tbody tr th {\n",
       "        vertical-align: top;\n",
       "    }\n",
       "\n",
       "    .dataframe thead th {\n",
       "        text-align: right;\n",
       "    }\n",
       "</style>\n",
       "<table border=\"1\" class=\"dataframe\">\n",
       "  <thead>\n",
       "    <tr style=\"text-align: right;\">\n",
       "      <th></th>\n",
       "      <th>대여소</th>\n",
       "      <th>상태</th>\n",
       "      <th>주소</th>\n",
       "      <th>위도</th>\n",
       "      <th>경도</th>\n",
       "    </tr>\n",
       "  </thead>\n",
       "  <tbody>\n",
       "    <tr>\n",
       "      <th>0</th>\n",
       "      <td>광진교 남단 사거리(디지털프라자앞)</td>\n",
       "      <td>운영중</td>\n",
       "      <td>서울특별시 강동구 구천면로 171 376 남단사거리</td>\n",
       "      <td>37.541805</td>\n",
       "      <td>127.124718</td>\n",
       "    </tr>\n",
       "    <tr>\n",
       "      <th>1</th>\n",
       "      <td>해공공원(천호동)</td>\n",
       "      <td>운영중</td>\n",
       "      <td>서울특별시 강동구 올림픽로 702 265</td>\n",
       "      <td>37.545219</td>\n",
       "      <td>127.125916</td>\n",
       "    </tr>\n",
       "    <tr>\n",
       "      <th>2</th>\n",
       "      <td>해공도서관앞</td>\n",
       "      <td>운영중</td>\n",
       "      <td>서울특별시 강동구 올림픽로 702 367</td>\n",
       "      <td>37.543915</td>\n",
       "      <td>127.125458</td>\n",
       "    </tr>\n",
       "    <tr>\n",
       "      <th>3</th>\n",
       "      <td>삼성광나루아파트 버스정류장</td>\n",
       "      <td>운영중</td>\n",
       "      <td>서울특별시 강동구 상암로3길 77 암사동 534</td>\n",
       "      <td>37.553349</td>\n",
       "      <td>127.128860</td>\n",
       "    </tr>\n",
       "    <tr>\n",
       "      <th>4</th>\n",
       "      <td>롯데캐슬 115동앞</td>\n",
       "      <td>운영중</td>\n",
       "      <td>서울특별시 강동구 양재대로 1665 명일동 304</td>\n",
       "      <td>37.554920</td>\n",
       "      <td>127.142799</td>\n",
       "    </tr>\n",
       "  </tbody>\n",
       "</table>\n",
       "</div>"
      ],
      "text/plain": [
       "                   대여소   상태                            주소         위도  \\\n",
       "0  광진교 남단 사거리(디지털프라자앞)  운영중  서울특별시 강동구 구천면로 171 376 남단사거리  37.541805   \n",
       "1            해공공원(천호동)  운영중        서울특별시 강동구 올림픽로 702 265  37.545219   \n",
       "2               해공도서관앞  운영중        서울특별시 강동구 올림픽로 702 367  37.543915   \n",
       "3       삼성광나루아파트 버스정류장  운영중    서울특별시 강동구 상암로3길 77 암사동 534  37.553349   \n",
       "4           롯데캐슬 115동앞  운영중   서울특별시 강동구 양재대로 1665 명일동 304  37.554920   \n",
       "\n",
       "           경도  \n",
       "0  127.124718  \n",
       "1  127.125916  \n",
       "2  127.125458  \n",
       "3  127.128860  \n",
       "4  127.142799  "
      ]
     },
     "execution_count": 107,
     "metadata": {},
     "output_type": "execute_result"
    }
   ],
   "source": [
    "stations = pd.read_csv('data/bike_rent_station.csv')\n",
    "print(stations.shape)\n",
    "stations.head()"
   ]
  },
  {
   "cell_type": "code",
   "execution_count": 108,
   "metadata": {},
   "outputs": [
    {
     "name": "stdout",
     "output_type": "stream",
     "text": [
      "(67, 1)\n"
     ]
    },
    {
     "data": {
      "text/html": [
       "<div>\n",
       "<style scoped>\n",
       "    .dataframe tbody tr th:only-of-type {\n",
       "        vertical-align: middle;\n",
       "    }\n",
       "\n",
       "    .dataframe tbody tr th {\n",
       "        vertical-align: top;\n",
       "    }\n",
       "\n",
       "    .dataframe thead th {\n",
       "        text-align: right;\n",
       "    }\n",
       "</style>\n",
       "<table border=\"1\" class=\"dataframe\">\n",
       "  <thead>\n",
       "    <tr style=\"text-align: right;\">\n",
       "      <th></th>\n",
       "      <th>대여소</th>\n",
       "    </tr>\n",
       "  </thead>\n",
       "  <tbody>\n",
       "    <tr>\n",
       "      <th>0</th>\n",
       "      <td>신림1교 교차로</td>\n",
       "    </tr>\n",
       "    <tr>\n",
       "      <th>1</th>\n",
       "      <td>대림역 1번 출입구 밑</td>\n",
       "    </tr>\n",
       "    <tr>\n",
       "      <th>2</th>\n",
       "      <td>서울대입구역 5번출구</td>\n",
       "    </tr>\n",
       "    <tr>\n",
       "      <th>3</th>\n",
       "      <td>봉림교 교통섬</td>\n",
       "    </tr>\n",
       "    <tr>\n",
       "      <th>4</th>\n",
       "      <td>서울신성초등학교</td>\n",
       "    </tr>\n",
       "  </tbody>\n",
       "</table>\n",
       "</div>"
      ],
      "text/plain": [
       "            대여소\n",
       "0      신림1교 교차로\n",
       "1  대림역 1번 출입구 밑\n",
       "2   서울대입구역 5번출구\n",
       "3       봉림교 교통섬\n",
       "4      서울신성초등학교"
      ]
     },
     "execution_count": 108,
     "metadata": {},
     "output_type": "execute_result"
    }
   ],
   "source": [
    "bike_move_df = pd.DataFrame(bike_move)\n",
    "bike_move_df.columns = ['대여소']\n",
    "print(bike_move_df.shape)\n",
    "bike_move_df.head()"
   ]
  },
  {
   "cell_type": "code",
   "execution_count": 109,
   "metadata": {},
   "outputs": [
    {
     "data": {
      "text/plain": [
       "(67, 5)"
      ]
     },
     "execution_count": 109,
     "metadata": {},
     "output_type": "execute_result"
    }
   ],
   "source": [
    "bike_move_df = bike_move_df.merge(stations, left_on='대여소', right_on='대여소', how='left')\n",
    "bike_move_df.shape"
   ]
  },
  {
   "cell_type": "code",
   "execution_count": 110,
   "metadata": {},
   "outputs": [
    {
     "data": {
      "text/html": [
       "<div>\n",
       "<style scoped>\n",
       "    .dataframe tbody tr th:only-of-type {\n",
       "        vertical-align: middle;\n",
       "    }\n",
       "\n",
       "    .dataframe tbody tr th {\n",
       "        vertical-align: top;\n",
       "    }\n",
       "\n",
       "    .dataframe thead th {\n",
       "        text-align: right;\n",
       "    }\n",
       "</style>\n",
       "<table border=\"1\" class=\"dataframe\">\n",
       "  <thead>\n",
       "    <tr style=\"text-align: right;\">\n",
       "      <th></th>\n",
       "      <th>대여소</th>\n",
       "      <th>상태</th>\n",
       "      <th>주소</th>\n",
       "      <th>위도</th>\n",
       "      <th>경도</th>\n",
       "    </tr>\n",
       "  </thead>\n",
       "  <tbody>\n",
       "    <tr>\n",
       "      <th>0</th>\n",
       "      <td>신림1교 교차로</td>\n",
       "      <td>운영중</td>\n",
       "      <td>서울특별시 관악구 신림로 270 관악구 신림동 808-263</td>\n",
       "      <td>37.478428</td>\n",
       "      <td>126.931862</td>\n",
       "    </tr>\n",
       "    <tr>\n",
       "      <th>1</th>\n",
       "      <td>대림역 1번 출입구 밑</td>\n",
       "      <td>운영중</td>\n",
       "      <td>서울특별시 구로구 도림천로 351 대림역 1번 출입구 밑</td>\n",
       "      <td>37.492580</td>\n",
       "      <td>126.894737</td>\n",
       "    </tr>\n",
       "    <tr>\n",
       "      <th>2</th>\n",
       "      <td>서울대입구역 5번출구</td>\n",
       "      <td>운영중</td>\n",
       "      <td>서울특별시 관악구 남부순환로 1817 서울대입구역 5번출구</td>\n",
       "      <td>37.481548</td>\n",
       "      <td>126.952003</td>\n",
       "    </tr>\n",
       "    <tr>\n",
       "      <th>3</th>\n",
       "      <td>봉림교 교통섬</td>\n",
       "      <td>운영중</td>\n",
       "      <td>서울특별시 관악구 관천로 52 관악구 신림동 1433-150</td>\n",
       "      <td>37.484230</td>\n",
       "      <td>126.926392</td>\n",
       "    </tr>\n",
       "    <tr>\n",
       "      <th>4</th>\n",
       "      <td>서울신성초등학교</td>\n",
       "      <td>운영중</td>\n",
       "      <td>서울특별시 관악구 신림로 114 서울신성초등학교</td>\n",
       "      <td>37.471165</td>\n",
       "      <td>126.937019</td>\n",
       "    </tr>\n",
       "  </tbody>\n",
       "</table>\n",
       "</div>"
      ],
      "text/plain": [
       "            대여소   상태                                 주소         위도          경도\n",
       "0      신림1교 교차로  운영중  서울특별시 관악구 신림로 270 관악구 신림동 808-263  37.478428  126.931862\n",
       "1  대림역 1번 출입구 밑  운영중    서울특별시 구로구 도림천로 351 대림역 1번 출입구 밑  37.492580  126.894737\n",
       "2   서울대입구역 5번출구  운영중   서울특별시 관악구 남부순환로 1817 서울대입구역 5번출구  37.481548  126.952003\n",
       "3       봉림교 교통섬  운영중  서울특별시 관악구 관천로 52 관악구 신림동 1433-150  37.484230  126.926392\n",
       "4      서울신성초등학교  운영중         서울특별시 관악구 신림로 114 서울신성초등학교  37.471165  126.937019"
      ]
     },
     "execution_count": 110,
     "metadata": {},
     "output_type": "execute_result"
    }
   ],
   "source": [
    "bike_move_df.head()"
   ]
  },
  {
   "cell_type": "code",
   "execution_count": 111,
   "metadata": {},
   "outputs": [
    {
     "data": {
      "text/plain": [
       "대여소    0\n",
       "상태     2\n",
       "주소     2\n",
       "위도     2\n",
       "경도     2\n",
       "dtype: int64"
      ]
     },
     "execution_count": 111,
     "metadata": {},
     "output_type": "execute_result"
    }
   ],
   "source": [
    "bike_move_df.isnull().sum()"
   ]
  },
  {
   "cell_type": "markdown",
   "metadata": {},
   "source": [
    "## 가장 많이 대여된 자전거가 거쳐간 대여소"
   ]
  },
  {
   "cell_type": "code",
   "execution_count": 112,
   "metadata": {},
   "outputs": [
    {
     "data": {
      "text/html": [
       "<div>\n",
       "<style scoped>\n",
       "    .dataframe tbody tr th:only-of-type {\n",
       "        vertical-align: middle;\n",
       "    }\n",
       "\n",
       "    .dataframe tbody tr th {\n",
       "        vertical-align: top;\n",
       "    }\n",
       "\n",
       "    .dataframe thead th {\n",
       "        text-align: right;\n",
       "    }\n",
       "</style>\n",
       "<table border=\"1\" class=\"dataframe\">\n",
       "  <thead>\n",
       "    <tr style=\"text-align: right;\">\n",
       "      <th></th>\n",
       "      <th>대여소</th>\n",
       "      <th>상태</th>\n",
       "      <th>주소</th>\n",
       "      <th>위도</th>\n",
       "      <th>경도</th>\n",
       "    </tr>\n",
       "  </thead>\n",
       "  <tbody>\n",
       "    <tr>\n",
       "      <th>23</th>\n",
       "      <td>정릉현대힐스테이트 1차 후문</td>\n",
       "      <td>NaN</td>\n",
       "      <td>NaN</td>\n",
       "      <td>NaN</td>\n",
       "      <td>NaN</td>\n",
       "    </tr>\n",
       "    <tr>\n",
       "      <th>63</th>\n",
       "      <td>군자역 7번출구뒤</td>\n",
       "      <td>NaN</td>\n",
       "      <td>NaN</td>\n",
       "      <td>NaN</td>\n",
       "      <td>NaN</td>\n",
       "    </tr>\n",
       "  </tbody>\n",
       "</table>\n",
       "</div>"
      ],
      "text/plain": [
       "                대여소   상태   주소  위도  경도\n",
       "23  정릉현대힐스테이트 1차 후문  NaN  NaN NaN NaN\n",
       "63        군자역 7번출구뒤  NaN  NaN NaN NaN"
      ]
     },
     "execution_count": 112,
     "metadata": {},
     "output_type": "execute_result"
    }
   ],
   "source": [
    "# 정보가 없는 대여소\n",
    "bike_move_df.loc[bike_move_df['경도'].isnull()]"
   ]
  },
  {
   "cell_type": "code",
   "execution_count": 113,
   "metadata": {},
   "outputs": [
    {
     "data": {
      "text/html": [
       "<div style=\"width:100%;\"><div style=\"position:relative;width:100%;height:0;padding-bottom:60%;\"><span style=\"color:#565656\">Make this Notebook Trusted to load map: File -> Trust Notebook</span><iframe src=\"about:blank\" style=\"position:absolute;width:100%;height:100%;left:0;top:0;border:none !important;\" data-html=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 onload=\"this.contentDocument.open();this.contentDocument.write(atob(this.getAttribute('data-html')));this.contentDocument.close();\" allowfullscreen webkitallowfullscreen mozallowfullscreen></iframe></div></div>"
      ],
      "text/plain": [
       "<folium.folium.Map at 0x1bdd9ac91f0>"
      ]
     },
     "execution_count": 113,
     "metadata": {},
     "output_type": "execute_result"
    }
   ],
   "source": [
    "# 지도 표현을 위해 folium 을 import 한다.\n",
    "# 데이터 프레임에서 위도와 경도의 평균값을 구한다. 이 값으로 지도의 중심이 될 좌표를 정한다.\n",
    "# zoom_start는 지도를 얼마나 확대해서 볼것인지다.\n",
    "# tiles는 지도의 스타일이다.\n",
    "import folium \n",
    "\n",
    "geo_df = bike_move_df\n",
    "map = folium.Map(location=[geo_df['위도'].mean(), geo_df['경도'].mean()], zoom_start=12, tiles='Stamen Toner')\n",
    "\n",
    "for n in geo_df.index:\n",
    "    if geo_df.loc[n, '위도'] > 0 and geo_df.loc[n, '경도'] > 0 :\n",
    "        loc_name = geo_df.loc[n, '대여소']\n",
    "\n",
    "        icon_color = 'red'\n",
    "        folium.Circle(\n",
    "            location=[geo_df.loc[n, '위도'], geo_df.loc[n, '경도']],\n",
    "            popup=loc_name,\n",
    "            radius=50,\n",
    "            color=icon_color,\n",
    "            fill=True,\n",
    "            fill_color=icon_color\n",
    "        ).add_to(map)\n",
    "    \n",
    "map"
   ]
  },
  {
   "cell_type": "code",
   "execution_count": null,
   "metadata": {},
   "outputs": [],
   "source": []
  }
 ],
 "metadata": {
  "kernelspec": {
   "display_name": "Python 3",
   "language": "python",
   "name": "python3"
  },
  "language_info": {
   "codemirror_mode": {
    "name": "ipython",
    "version": 3
   },
   "file_extension": ".py",
   "mimetype": "text/x-python",
   "name": "python",
   "nbconvert_exporter": "python",
   "pygments_lexer": "ipython3",
   "version": "3.8.3"
  }
 },
 "nbformat": 4,
 "nbformat_minor": 2
}
