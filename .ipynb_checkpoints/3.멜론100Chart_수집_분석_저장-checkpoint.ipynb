{
 "cells": [
  {
   "cell_type": "markdown",
   "metadata": {},
   "source": [
    "### Melon 100 Chart \n",
    "* 100곡의 노래의 제목, Song ID추출 (정규표현식 사용)\n",
    "* Song ID로 상세페이지를 100번 요청해서 노래 상세정보 추출\n",
    "* 100곡의 상세정보를 json file에 저장한다.\n",
    "* json file을 Pandas의 DataFrame 객체에 저장해서 표 데이터를 만들기\n",
    "* 표 데이터를 MariaDB에 저장하기"
   ]
  },
  {
   "cell_type": "markdown",
   "metadata": {},
   "source": [
    "#### 1.100곡의 노래의 제목, Song ID추출 (정규표현식 사용)"
   ]
  },
  {
   "cell_type": "code",
   "execution_count": 25,
   "metadata": {},
   "outputs": [
    {
     "name": "stdout",
     "output_type": "stream",
     "text": [
      "200\n",
      "1\n",
      "101\n",
      "200\n",
      "200\n",
      "458\n",
      "458\n",
      "100\n",
      "-------------\n",
      "<class 'bs4.element.ResultSet'> <class 'bs4.element.Tag'> Dynamite\n",
      "100\n"
     ]
    },
    {
     "data": {
      "text/plain": [
       "[{'title': 'VVS (Feat. JUSTHIS) (Prod. GroovyRoom)',\n",
       "  'url': 'https://www.melon.com/song/detail.htm?songId=33077590'},\n",
       " {'title': '밤하늘의 별을(2020)',\n",
       "  'url': 'https://www.melon.com/song/detail.htm?songId=33061995'},\n",
       " {'title': 'Dynamite',\n",
       "  'url': 'https://www.melon.com/song/detail.htm?songId=32872978'}]"
      ]
     },
     "execution_count": 25,
     "metadata": {},
     "output_type": "execute_result"
    }
   ],
   "source": [
    "import requests\n",
    "from bs4 import BeautifulSoup\n",
    "import re\n",
    "\n",
    "url = 'https://www.melon.com/chart/index.htm'\n",
    "req_header = {\n",
    "    'user-agent':'Mozilla/5.0 (Windows NT 10.0; Win64; x64) AppleWebKit/537.36 (KHTML, like Gecko) Chrome/87.0.4280.88 Safari/537.36'\n",
    "}\n",
    "\n",
    "# 요청을 보내기\n",
    "res = requests.get(url, headers=req_header)\n",
    "print(res.status_code)\n",
    "# 응답결과가 정상이면\n",
    "if res.ok:\n",
    "    # 응답 객체에 포함된 text를 추출\n",
    "    html = res.text\n",
    "    # 추출한 text를 파싱하기 위한 BeautifulSoup 객체생성\n",
    "    soup = BeautifulSoup(html, 'html.parser')\n",
    "    # <div id='tb_list'> div 태그 선택 ,1개\n",
    "    print(len(soup.select('div#tb_list')))\n",
    "    # <div id='tb_list'> 하위에 있는 tr 태그 선택 ,101개\n",
    "    print(len(soup.select('div#tb_list tr')))\n",
    "    # <div id='tb_list'> 하위에 있는 tr 하위에 <div class='wrap_song_info'> , 200개\n",
    "    print(len(soup.select('div#tb_list tr .wrap_song_info')))\n",
    "    print(len(soup.select('div.wrap_song_info')))\n",
    "    # <div id='tb_list'> 하위에 있는 tr 하위에 <div class='wrap_song_info'> 하위에 a\n",
    "    print(len(soup.select('div#tb_list tr .wrap_song_info a'))) #458\n",
    "    print(len(soup.select('div.wrap_song_info a'))) #458\n",
    "    # <div id='tb_list'> 하위에 있는 tr 하위에 <div class='wrap_song_info'> \n",
    "    # 하위에 <a href='playSong'> \n",
    "    print(len(soup.select('div#tb_list tr .wrap_song_info a[href*=\\'playSong\\']')))\n",
    "    \n",
    "    atag_list = soup.select(\"div#tb_list tr .wrap_song_info a[href*='playSong']\")\n",
    "    print('-------------')\n",
    "    print(type(atag_list), type(atag_list[2]), atag_list[2].text)\n",
    "    \n",
    "    # 100곡 노래 저장할 list\n",
    "    song_list = []\n",
    "    for idx, atag in enumerate(atag_list, 1):\n",
    "        # 1곡 노래 저장할 dict\n",
    "        song_dict = {}\n",
    "        \n",
    "        # a tag 의 content\n",
    "        title = atag.text\n",
    "        # a tag의 href 속성 값\n",
    "        href = atag['href']\n",
    "        # 정규표현식 패턴으로 숫자를 검색\n",
    "        matched = re.search(r'(\\d+)\\);', href)\n",
    "        #print(matched, matched.group(0), matched.group(1))\n",
    "        song_id = matched.group(1)\n",
    "        #print(idx, title, song_id)\n",
    "        song_url = f'https://www.melon.com/song/detail.htm?songId={song_id}'\n",
    "        \n",
    "        #추출한 song title과 url를 song_dict에 저장\n",
    "        song_dict['title'] = title\n",
    "        song_dict['url'] = song_url\n",
    "        #1개의 노래정보를 담고 있는 song_dict를 song_list에 추가\n",
    "        song_list.append(song_dict)\n",
    "\n",
    "print(len(song_list))        \n",
    "song_list[0:3]"
   ]
  },
  {
   "cell_type": "markdown",
   "metadata": {},
   "source": [
    "### 2. Song ID로 상세페이지를 100번 요청해서 노래 상세정보 추출"
   ]
  },
  {
   "cell_type": "code",
   "execution_count": null,
   "metadata": {},
   "outputs": [],
   "source": [
    "import requests\n",
    "from bs4 import BeautifulSoup\n",
    "import re\n",
    "\n",
    "req_header = {\n",
    "    'user-agent': 'Mozilla/5.0 (Windows NT 10.0; Win64; x64) AppleWebKit/537.36 (KHTML, like Gecko) Chrome/86.0.4240.75 Safari/537.36'\n",
    "}\n",
    "\n",
    "#노래 100곡의 상세정보를 저장할 list\n",
    "song_detail_list = []\n",
    "\n",
    "for song in song_list:\n",
    "    #노래 1곡의 상세정보를 저장할 dict\n",
    "    song_detail_dict = {}\n",
    "    \n",
    "    #print(song['title'], song['link'])\n",
    "    song_url = song['url']\n",
    "    res = requests.get(song_url, headers=req_header)\n",
    "    print(res.status_code)\n",
    "    if res.ok:\n",
    "        html = res.text\n",
    "        soup = BeautifulSoup(html,'html.parser')\n",
    "        #노래제목\n",
    "        song_detail_dict['곡명'] = song['title']\n",
    "        #가수\n",
    "        song_detail_dict['가수'] = \\\n",
    "            soup.select('a[href*=\"goArtistDetail\"] span')[0].text\n",
    "        #앨범\n",
    "        song_detail_dict['앨범'] = soup.select('div.meta dd')[0].text\n",
    "        #발매일\n",
    "        song_detail_dict['발매일'] = soup.select('div.meta dd')[1].text\n",
    "        #장르\n",
    "        song_detail_dict['장르'] = soup.select('div.meta dd')[2].text\n",
    "        #가사\n",
    "        lyric = soup.select('div#d_video_summary')[0].text\n",
    "        #정규표현식 Pattern 생성\n",
    "        regexp = re.compile(r'[\\n\\r\\t]')     \n",
    "        #Pattern과 매칭되는 문자열로 empty string으로 치환해라\n",
    "        song_detail_dict['가사'] = regexp.sub('',lyric.strip())\n",
    "        \n",
    "        #각각의 Song정보를 담고 있는 dict를 list에 저장\n",
    "        song_detail_list.append(song_detail_dict)\n",
    "#         print('-----')\n",
    "#         print(song_detail_dict)    \n",
    "\n",
    "print(len(song_detail_list))\n",
    "print(song_detail_list[0:3])"
   ]
  }
 ],
 "metadata": {
  "kernelspec": {
   "display_name": "Python 3",
   "language": "python",
   "name": "python3"
  },
  "language_info": {
   "codemirror_mode": {
    "name": "ipython",
    "version": 3
   },
   "file_extension": ".py",
   "mimetype": "text/x-python",
   "name": "python",
   "nbconvert_exporter": "python",
   "pygments_lexer": "ipython3",
   "version": "3.8.5"
  }
 },
 "nbformat": 4,
 "nbformat_minor": 4
}
