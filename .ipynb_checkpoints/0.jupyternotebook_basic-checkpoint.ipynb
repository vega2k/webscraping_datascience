{
 "cells": [
  {
   "cell_type": "code",
   "execution_count": 1,
   "metadata": {},
   "outputs": [
    {
     "name": "stdout",
     "output_type": "stream",
     "text": [
      "Name: pandas\n",
      "Version: 1.1.3\n",
      "Summary: Powerful data structures for data analysis, time series, and statistics\n",
      "Home-page: https://pandas.pydata.org\n",
      "Author: None\n",
      "Author-email: None\n",
      "License: BSD\n",
      "Location: c:\\programdata\\anaconda3\\lib\\site-packages\n",
      "Requires: python-dateutil, pytz, numpy\n",
      "Required-by: statsmodels, seaborn\n"
     ]
    }
   ],
   "source": [
    "!pip show pandas"
   ]
  },
  {
   "cell_type": "code",
   "execution_count": 2,
   "metadata": {},
   "outputs": [],
   "source": [
    "def add(n1, n2):\n",
    "    return n1 + n2"
   ]
  },
  {
   "cell_type": "code",
   "execution_count": 5,
   "metadata": {},
   "outputs": [
    {
     "name": "stdout",
     "output_type": "stream",
     "text": [
      "40\n"
     ]
    },
    {
     "data": {
      "text/plain": [
       "30"
      ]
     },
     "execution_count": 5,
     "metadata": {},
     "output_type": "execute_result"
    }
   ],
   "source": [
    "print(add(20,20))\n",
    "add(10, 20)"
   ]
  },
  {
   "cell_type": "markdown",
   "metadata": {},
   "source": [
    "# The largest heading\n",
    "## The second largest heading\n",
    "###### The smallest heading"
   ]
  },
  {
   "cell_type": "markdown",
   "metadata": {},
   "source": [
    "1. First list item\n",
    "   - First nested list item\n",
    "     - Second nested list item"
   ]
  },
  {
   "cell_type": "code",
   "execution_count": 8,
   "metadata": {},
   "outputs": [
    {
     "name": "stdout",
     "output_type": "stream",
     "text": [
      "a\n",
      "b\r",
      "c\tda\n",
      "b\r",
      "c\tda\n",
      "b\r",
      "c\td\n",
      "<class 're.Pattern'> re.compile('[\\\\n\\\\r\\\\t]')\n",
      "a b c da b c da b c d\n"
     ]
    }
   ],
   "source": [
    "# 정규표현식 연습하기\n",
    "# 문자열에 포함된 \\n\\r\\t  제거하기\n",
    "\n",
    "import re\n",
    "\n",
    "my_str = 'a\\nb\\rc\\td' * 3\n",
    "print(my_str)\n",
    "\n",
    "#정규표현식 패턴 객체 생성\n",
    "regexp = re.compile(r'[\\n\\r\\t]')\n",
    "print(type(regexp), regexp)\n",
    "\n",
    "#패턴과 일치하는 문자열을 찾아서 다른 문자열로 치환(substitute)\n",
    "result = regexp.sub(\" \", my_str)\n",
    "print(result)\n",
    "\n",
    "result = result.replace(\" \",\"\")\n",
    "print(result)"
   ]
  }
 ],
 "metadata": {
  "kernelspec": {
   "display_name": "Python 3",
   "language": "python",
   "name": "python3"
  },
  "language_info": {
   "codemirror_mode": {
    "name": "ipython",
    "version": 3
   },
   "file_extension": ".py",
   "mimetype": "text/x-python",
   "name": "python",
   "nbconvert_exporter": "python",
   "pygments_lexer": "ipython3",
   "version": "3.8.5"
  }
 },
 "nbformat": 4,
 "nbformat_minor": 4
}
